{
  "cells": [
    {
      "cell_type": "markdown",
      "metadata": {
        "id": "view-in-github",
        "colab_type": "text"
      },
      "source": [
        "<a href=\"https://colab.research.google.com/github/actualIslam/T5-tasks/blob/main/Copy_of_Task2_Text_Classification_ar.ipynb\" target=\"_parent\"><img src=\"https://colab.research.google.com/assets/colab-badge.svg\" alt=\"Open In Colab\"/></a>"
      ]
    },
    {
      "cell_type": "markdown",
      "metadata": {
        "id": "bsurCNok43DL"
      },
      "source": [
        "# Text Classification Exam\n",
        "\n",
        "Welcome to the Text Classification Practical Exam. In this exam, you will be tasked with building, training, and evaluating an NLP model to classify text data. You are provided with a labeled dataset containing both the text and its corresponding class labels.\n",
        "\n",
        "Your objective is to develop a model that accurately predicts the class of the given text. Make sure to follow best practices in data preprocessing, model selection, and evaluation to achieve optimal results.\n",
        "\n",
        "Good luck!\n",
        "___"
      ]
    },
    {
      "cell_type": "markdown",
      "metadata": {
        "id": "oqw2El5mMxsz"
      },
      "source": [
        "# Install and Import Needed Libraries"
      ]
    },
    {
      "cell_type": "markdown",
      "metadata": {
        "id": "4dTkHbSHNB4y"
      },
      "source": [
        "You can use `pyarabic` or any other library to pre-process and clean the Arabic text."
      ]
    },
    {
      "cell_type": "code",
      "execution_count": 1,
      "metadata": {
        "id": "z6mRe6i5Wqqc",
        "colab": {
          "base_uri": "https://localhost:8080/"
        },
        "outputId": "979fe1ab-d2c3-407c-8820-7e3824810ead"
      },
      "outputs": [
        {
          "output_type": "stream",
          "name": "stdout",
          "text": [
            "Collecting pyarabic\n",
            "  Downloading PyArabic-0.6.15-py3-none-any.whl.metadata (10 kB)\n",
            "Requirement already satisfied: six>=1.14.0 in /usr/local/lib/python3.10/dist-packages (from pyarabic) (1.16.0)\n",
            "Downloading PyArabic-0.6.15-py3-none-any.whl (126 kB)\n",
            "\u001b[?25l   \u001b[90m━━━━━━━━━━━━━━━━━━━━━━━━━━━━━━━━━━━━━━━━\u001b[0m \u001b[32m0.0/126.4 kB\u001b[0m \u001b[31m?\u001b[0m eta \u001b[36m-:--:--\u001b[0m\r\u001b[2K   \u001b[90m━━━━━━━━━━━━━━━━━━━━━━━━━━━━━━━━━━━━━━━━\u001b[0m \u001b[32m126.4/126.4 kB\u001b[0m \u001b[31m4.5 MB/s\u001b[0m eta \u001b[36m0:00:00\u001b[0m\n",
            "\u001b[?25hInstalling collected packages: pyarabic\n",
            "Successfully installed pyarabic-0.6.15\n"
          ]
        }
      ],
      "source": [
        "!pip install pyarabic"
      ]
    },
    {
      "cell_type": "code",
      "source": [
        "import pyarabic.araby as araby\n",
        "import pandas as pd"
      ],
      "metadata": {
        "id": "O2PNRBsUEH9_"
      },
      "execution_count": 4,
      "outputs": []
    },
    {
      "cell_type": "markdown",
      "metadata": {
        "id": "Hq5KJRZ5Ph0Z"
      },
      "source": [
        "# Download the Dataset"
      ]
    },
    {
      "cell_type": "markdown",
      "metadata": {
        "id": "3riATTJ243DN"
      },
      "source": [
        "Please note that you are allowed to take a subset of this dataset, the reason for that is it might take a long time to train the model on."
      ]
    },
    {
      "cell_type": "code",
      "execution_count": 3,
      "metadata": {
        "id": "M1n3uTg043DN",
        "colab": {
          "base_uri": "https://localhost:8080/"
        },
        "outputId": "bc4533fe-4997-4515-cf31-b101ed31a9df"
      },
      "outputs": [
        {
          "output_type": "stream",
          "name": "stdout",
          "text": [
            "Dataset URL: https://www.kaggle.com/datasets/khaledzsa/sanad\n",
            "License(s): unknown\n",
            "Downloading sanad.zip to /content\n",
            " 97% 69.0M/71.4M [00:00<00:00, 244MB/s]\n",
            "100% 71.4M/71.4M [00:00<00:00, 240MB/s]\n",
            "Archive:  sanad.zip\n",
            "  inflating: sanad.csv               \n"
          ]
        }
      ],
      "source": [
        "!kaggle datasets download -d khaledzsa/sanad\n",
        "!unzip sanad.zip"
      ]
    },
    {
      "cell_type": "code",
      "source": [
        "df = pd.read_csv('/content/sanad.csv')"
      ],
      "metadata": {
        "id": "5sWtxRPi48r5"
      },
      "execution_count": 7,
      "outputs": []
    },
    {
      "cell_type": "markdown",
      "metadata": {
        "id": "kVc0b_9fQGeH"
      },
      "source": [
        "# Data Exploration"
      ]
    },
    {
      "cell_type": "markdown",
      "metadata": {
        "id": "a98DaVUvQsi8"
      },
      "source": [
        "Before diving into preprocessing and model building, it’s important to first explore the dataset to understand its structure, distribution, and key characteristics. This step will help you gain insights into the data and guide your decisions in subsequent steps. Here’s what to consider:\n",
        "\n",
        "1. **Inspect the Data**:\n",
        "   Start by looking at the first few rows of the dataset to get a sense of its structure. Check the columns, data types, and a few sample entries. This helps to ensure that the data is loaded correctly and gives you an initial overview of the content.\n",
        "\n",
        "2. **Check for Missing Values**:\n",
        "   Identify if there are any missing values in the dataset.\n",
        "\n",
        "3. **Distribution of Labels**:\n",
        "   Examine the distribution of the target labels (classes).\n",
        "\n",
        "4. **Text Data Characteristics (Bonus)**:\n",
        "   Analyze the length of the text data. It is useful to calculate the number of words or characters in each text sample to understand how long the texts are. This will help you set a suitable `max_length` for tokenization and padding later. You can plot a histogram of text lengths to visualize the distribution.\n",
        "\n",
        "5. **Common Words and Vocabulary (Bonus)**:\n",
        "   Explore the most frequent words in the text data."
      ]
    },
    {
      "cell_type": "code",
      "execution_count": 11,
      "metadata": {
        "id": "aZgYQbZxWtAt",
        "colab": {
          "base_uri": "https://localhost:8080/",
          "height": 363
        },
        "outputId": "e30a04ef-9d2a-4799-9ca8-e682fd0fd989"
      },
      "outputs": [
        {
          "output_type": "execute_result",
          "data": {
            "text/plain": [
              "                                                text    label\n",
              "0  https://example.com/resource/الشاٌرقة -ْ محمِد...  Culture\n",
              "1  https://example.com/resource/اَنِطٌلقّتَ ٍفٍيّ...  Culture\n",
              "2  https://example.com/resource/أُقيًمٌتِ مِساءُ ...  Culture\n",
              "3  https://example.com/resource/بٍاسُمةَ يًوٌنٍس ...  Culture\n",
              "4  https://example.com/resource/قُرر اَتحِاد اًلْ...  Culture\n",
              "5  https://example.com/resource/تتّنٌاّول َاِلِرو...  Culture\n",
              "6  https://example.com/resource/أعِلُنَتُ ُهٍيئة ...  Culture\n",
              "7  https://example.com/resource/توفٌي َأمس ِاَلُأ...  Culture\n",
              "8  https://example.com/resource/نظم ْمَرٍكزْ َاِل...  Culture\n",
              "9  https://example.com/resource/يختتم فيً تٌمامٌ ...  Culture"
            ],
            "text/html": [
              "\n",
              "  <div id=\"df-98f8d79a-f7cc-4bef-a54a-43b6bedfb431\" class=\"colab-df-container\">\n",
              "    <div>\n",
              "<style scoped>\n",
              "    .dataframe tbody tr th:only-of-type {\n",
              "        vertical-align: middle;\n",
              "    }\n",
              "\n",
              "    .dataframe tbody tr th {\n",
              "        vertical-align: top;\n",
              "    }\n",
              "\n",
              "    .dataframe thead th {\n",
              "        text-align: right;\n",
              "    }\n",
              "</style>\n",
              "<table border=\"1\" class=\"dataframe\">\n",
              "  <thead>\n",
              "    <tr style=\"text-align: right;\">\n",
              "      <th></th>\n",
              "      <th>text</th>\n",
              "      <th>label</th>\n",
              "    </tr>\n",
              "  </thead>\n",
              "  <tbody>\n",
              "    <tr>\n",
              "      <th>0</th>\n",
              "      <td>https://example.com/resource/الشاٌرقة -ْ محمِد...</td>\n",
              "      <td>Culture</td>\n",
              "    </tr>\n",
              "    <tr>\n",
              "      <th>1</th>\n",
              "      <td>https://example.com/resource/اَنِطٌلقّتَ ٍفٍيّ...</td>\n",
              "      <td>Culture</td>\n",
              "    </tr>\n",
              "    <tr>\n",
              "      <th>2</th>\n",
              "      <td>https://example.com/resource/أُقيًمٌتِ مِساءُ ...</td>\n",
              "      <td>Culture</td>\n",
              "    </tr>\n",
              "    <tr>\n",
              "      <th>3</th>\n",
              "      <td>https://example.com/resource/بٍاسُمةَ يًوٌنٍس ...</td>\n",
              "      <td>Culture</td>\n",
              "    </tr>\n",
              "    <tr>\n",
              "      <th>4</th>\n",
              "      <td>https://example.com/resource/قُرر اَتحِاد اًلْ...</td>\n",
              "      <td>Culture</td>\n",
              "    </tr>\n",
              "    <tr>\n",
              "      <th>5</th>\n",
              "      <td>https://example.com/resource/تتّنٌاّول َاِلِرو...</td>\n",
              "      <td>Culture</td>\n",
              "    </tr>\n",
              "    <tr>\n",
              "      <th>6</th>\n",
              "      <td>https://example.com/resource/أعِلُنَتُ ُهٍيئة ...</td>\n",
              "      <td>Culture</td>\n",
              "    </tr>\n",
              "    <tr>\n",
              "      <th>7</th>\n",
              "      <td>https://example.com/resource/توفٌي َأمس ِاَلُأ...</td>\n",
              "      <td>Culture</td>\n",
              "    </tr>\n",
              "    <tr>\n",
              "      <th>8</th>\n",
              "      <td>https://example.com/resource/نظم ْمَرٍكزْ َاِل...</td>\n",
              "      <td>Culture</td>\n",
              "    </tr>\n",
              "    <tr>\n",
              "      <th>9</th>\n",
              "      <td>https://example.com/resource/يختتم فيً تٌمامٌ ...</td>\n",
              "      <td>Culture</td>\n",
              "    </tr>\n",
              "  </tbody>\n",
              "</table>\n",
              "</div>\n",
              "    <div class=\"colab-df-buttons\">\n",
              "\n",
              "  <div class=\"colab-df-container\">\n",
              "    <button class=\"colab-df-convert\" onclick=\"convertToInteractive('df-98f8d79a-f7cc-4bef-a54a-43b6bedfb431')\"\n",
              "            title=\"Convert this dataframe to an interactive table.\"\n",
              "            style=\"display:none;\">\n",
              "\n",
              "  <svg xmlns=\"http://www.w3.org/2000/svg\" height=\"24px\" viewBox=\"0 -960 960 960\">\n",
              "    <path d=\"M120-120v-720h720v720H120Zm60-500h600v-160H180v160Zm220 220h160v-160H400v160Zm0 220h160v-160H400v160ZM180-400h160v-160H180v160Zm440 0h160v-160H620v160ZM180-180h160v-160H180v160Zm440 0h160v-160H620v160Z\"/>\n",
              "  </svg>\n",
              "    </button>\n",
              "\n",
              "  <style>\n",
              "    .colab-df-container {\n",
              "      display:flex;\n",
              "      gap: 12px;\n",
              "    }\n",
              "\n",
              "    .colab-df-convert {\n",
              "      background-color: #E8F0FE;\n",
              "      border: none;\n",
              "      border-radius: 50%;\n",
              "      cursor: pointer;\n",
              "      display: none;\n",
              "      fill: #1967D2;\n",
              "      height: 32px;\n",
              "      padding: 0 0 0 0;\n",
              "      width: 32px;\n",
              "    }\n",
              "\n",
              "    .colab-df-convert:hover {\n",
              "      background-color: #E2EBFA;\n",
              "      box-shadow: 0px 1px 2px rgba(60, 64, 67, 0.3), 0px 1px 3px 1px rgba(60, 64, 67, 0.15);\n",
              "      fill: #174EA6;\n",
              "    }\n",
              "\n",
              "    .colab-df-buttons div {\n",
              "      margin-bottom: 4px;\n",
              "    }\n",
              "\n",
              "    [theme=dark] .colab-df-convert {\n",
              "      background-color: #3B4455;\n",
              "      fill: #D2E3FC;\n",
              "    }\n",
              "\n",
              "    [theme=dark] .colab-df-convert:hover {\n",
              "      background-color: #434B5C;\n",
              "      box-shadow: 0px 1px 3px 1px rgba(0, 0, 0, 0.15);\n",
              "      filter: drop-shadow(0px 1px 2px rgba(0, 0, 0, 0.3));\n",
              "      fill: #FFFFFF;\n",
              "    }\n",
              "  </style>\n",
              "\n",
              "    <script>\n",
              "      const buttonEl =\n",
              "        document.querySelector('#df-98f8d79a-f7cc-4bef-a54a-43b6bedfb431 button.colab-df-convert');\n",
              "      buttonEl.style.display =\n",
              "        google.colab.kernel.accessAllowed ? 'block' : 'none';\n",
              "\n",
              "      async function convertToInteractive(key) {\n",
              "        const element = document.querySelector('#df-98f8d79a-f7cc-4bef-a54a-43b6bedfb431');\n",
              "        const dataTable =\n",
              "          await google.colab.kernel.invokeFunction('convertToInteractive',\n",
              "                                                    [key], {});\n",
              "        if (!dataTable) return;\n",
              "\n",
              "        const docLinkHtml = 'Like what you see? Visit the ' +\n",
              "          '<a target=\"_blank\" href=https://colab.research.google.com/notebooks/data_table.ipynb>data table notebook</a>'\n",
              "          + ' to learn more about interactive tables.';\n",
              "        element.innerHTML = '';\n",
              "        dataTable['output_type'] = 'display_data';\n",
              "        await google.colab.output.renderOutput(dataTable, element);\n",
              "        const docLink = document.createElement('div');\n",
              "        docLink.innerHTML = docLinkHtml;\n",
              "        element.appendChild(docLink);\n",
              "      }\n",
              "    </script>\n",
              "  </div>\n",
              "\n",
              "\n",
              "<div id=\"df-bd3b7aac-be62-4378-8b49-f313c7e05ed4\">\n",
              "  <button class=\"colab-df-quickchart\" onclick=\"quickchart('df-bd3b7aac-be62-4378-8b49-f313c7e05ed4')\"\n",
              "            title=\"Suggest charts\"\n",
              "            style=\"display:none;\">\n",
              "\n",
              "<svg xmlns=\"http://www.w3.org/2000/svg\" height=\"24px\"viewBox=\"0 0 24 24\"\n",
              "     width=\"24px\">\n",
              "    <g>\n",
              "        <path d=\"M19 3H5c-1.1 0-2 .9-2 2v14c0 1.1.9 2 2 2h14c1.1 0 2-.9 2-2V5c0-1.1-.9-2-2-2zM9 17H7v-7h2v7zm4 0h-2V7h2v10zm4 0h-2v-4h2v4z\"/>\n",
              "    </g>\n",
              "</svg>\n",
              "  </button>\n",
              "\n",
              "<style>\n",
              "  .colab-df-quickchart {\n",
              "      --bg-color: #E8F0FE;\n",
              "      --fill-color: #1967D2;\n",
              "      --hover-bg-color: #E2EBFA;\n",
              "      --hover-fill-color: #174EA6;\n",
              "      --disabled-fill-color: #AAA;\n",
              "      --disabled-bg-color: #DDD;\n",
              "  }\n",
              "\n",
              "  [theme=dark] .colab-df-quickchart {\n",
              "      --bg-color: #3B4455;\n",
              "      --fill-color: #D2E3FC;\n",
              "      --hover-bg-color: #434B5C;\n",
              "      --hover-fill-color: #FFFFFF;\n",
              "      --disabled-bg-color: #3B4455;\n",
              "      --disabled-fill-color: #666;\n",
              "  }\n",
              "\n",
              "  .colab-df-quickchart {\n",
              "    background-color: var(--bg-color);\n",
              "    border: none;\n",
              "    border-radius: 50%;\n",
              "    cursor: pointer;\n",
              "    display: none;\n",
              "    fill: var(--fill-color);\n",
              "    height: 32px;\n",
              "    padding: 0;\n",
              "    width: 32px;\n",
              "  }\n",
              "\n",
              "  .colab-df-quickchart:hover {\n",
              "    background-color: var(--hover-bg-color);\n",
              "    box-shadow: 0 1px 2px rgba(60, 64, 67, 0.3), 0 1px 3px 1px rgba(60, 64, 67, 0.15);\n",
              "    fill: var(--button-hover-fill-color);\n",
              "  }\n",
              "\n",
              "  .colab-df-quickchart-complete:disabled,\n",
              "  .colab-df-quickchart-complete:disabled:hover {\n",
              "    background-color: var(--disabled-bg-color);\n",
              "    fill: var(--disabled-fill-color);\n",
              "    box-shadow: none;\n",
              "  }\n",
              "\n",
              "  .colab-df-spinner {\n",
              "    border: 2px solid var(--fill-color);\n",
              "    border-color: transparent;\n",
              "    border-bottom-color: var(--fill-color);\n",
              "    animation:\n",
              "      spin 1s steps(1) infinite;\n",
              "  }\n",
              "\n",
              "  @keyframes spin {\n",
              "    0% {\n",
              "      border-color: transparent;\n",
              "      border-bottom-color: var(--fill-color);\n",
              "      border-left-color: var(--fill-color);\n",
              "    }\n",
              "    20% {\n",
              "      border-color: transparent;\n",
              "      border-left-color: var(--fill-color);\n",
              "      border-top-color: var(--fill-color);\n",
              "    }\n",
              "    30% {\n",
              "      border-color: transparent;\n",
              "      border-left-color: var(--fill-color);\n",
              "      border-top-color: var(--fill-color);\n",
              "      border-right-color: var(--fill-color);\n",
              "    }\n",
              "    40% {\n",
              "      border-color: transparent;\n",
              "      border-right-color: var(--fill-color);\n",
              "      border-top-color: var(--fill-color);\n",
              "    }\n",
              "    60% {\n",
              "      border-color: transparent;\n",
              "      border-right-color: var(--fill-color);\n",
              "    }\n",
              "    80% {\n",
              "      border-color: transparent;\n",
              "      border-right-color: var(--fill-color);\n",
              "      border-bottom-color: var(--fill-color);\n",
              "    }\n",
              "    90% {\n",
              "      border-color: transparent;\n",
              "      border-bottom-color: var(--fill-color);\n",
              "    }\n",
              "  }\n",
              "</style>\n",
              "\n",
              "  <script>\n",
              "    async function quickchart(key) {\n",
              "      const quickchartButtonEl =\n",
              "        document.querySelector('#' + key + ' button');\n",
              "      quickchartButtonEl.disabled = true;  // To prevent multiple clicks.\n",
              "      quickchartButtonEl.classList.add('colab-df-spinner');\n",
              "      try {\n",
              "        const charts = await google.colab.kernel.invokeFunction(\n",
              "            'suggestCharts', [key], {});\n",
              "      } catch (error) {\n",
              "        console.error('Error during call to suggestCharts:', error);\n",
              "      }\n",
              "      quickchartButtonEl.classList.remove('colab-df-spinner');\n",
              "      quickchartButtonEl.classList.add('colab-df-quickchart-complete');\n",
              "    }\n",
              "    (() => {\n",
              "      let quickchartButtonEl =\n",
              "        document.querySelector('#df-bd3b7aac-be62-4378-8b49-f313c7e05ed4 button');\n",
              "      quickchartButtonEl.style.display =\n",
              "        google.colab.kernel.accessAllowed ? 'block' : 'none';\n",
              "    })();\n",
              "  </script>\n",
              "</div>\n",
              "\n",
              "    </div>\n",
              "  </div>\n"
            ],
            "application/vnd.google.colaboratory.intrinsic+json": {
              "type": "dataframe",
              "variable_name": "df",
              "summary": "{\n  \"name\": \"df\",\n  \"rows\": 39885,\n  \"fields\": [\n    {\n      \"column\": \"text\",\n      \"properties\": {\n        \"dtype\": \"string\",\n        \"num_unique_values\": 39885,\n        \"samples\": [\n          \"https://example.com/resource/\\u0628\\u0652\\u0644\\u0650\\u063a\\u062a \\u064e\\u062a\\u0633\\u064e\\u064a\\u064a\\u0644\\u0651\\u0627\\u064b\\u062a\\u064d \\u0627\\u0652\\u0644\\u0623\\u0652\\u062c\\u064e\\u0627\\u0646\\u0651\\u0628\\u064e \\u064e\\u0641\\u064a \\u0633\\u064d\\u0648\\u0652\\u0642\\u0650 \\u064e\\u062f\\u0628\\u064a \\u0627\\u0644\\u0645\\u064d\\u0627\\u0650\\u0644\\u064d\\u064a\\u064d \\u0623\\u0645\\u064d\\u0633\\u064e 59\\u064f \\u0645\\u0644\\u064d\\u064a\\u0648\\u0646\\u0627\\u0650\\u064b\\u0652\\u060c \\u0651\\u0641\\u0651\\u0642\\u062f \\u0650\\u0628\\u0652\\u0644\\u064b\\u063a\\u062a \\u064b\\u0642\\u0651\\u064a\\u064f\\u0645\\u0651\\u0629\\u0651 \\u0645\\u064f\\u0634\\u064b\\u062a\\u064f\\u0631\\u0650\\u064a\\u0627\\u062a \\u064e\\u0627\\u0644\\u0652\\u0623\\u062c\\u0627\\u064d\\u0646\\u064d\\u0628\\u064b\\u060c\\u064b \\u063a\\u0652\\u064a\\u0651\\u0631\\u064d \\u0627\\u0652\\u0644\\u0639\\u0631\\u064c\\u0628\\u060c\\u064f \\u0645\\u0650\\u0646\\u0651 \\u064c\\u0627\\u0644\\u0623\\u0633\\u064c\\u0647\\u064d\\u0645 \\u064c\\u062e\\u064f\\u0644\\u0627\\u064c\\u0644\\u064f \\u0647\\u0650\\u0630\\u064e\\u0627 \\u0627\\u064c\\u0644\\u064a\\u0648\\u0650\\u0645 \\u064d\\u0646\\u064b\\u062d\\u064c\\u0648 9\\u064b4\\u064d \\u064e.\\u065113\\u06526 \\u0645\\u0644\\u0652\\u064a\\u064c\\u0648\\u064b\\u0646\\u064c \\u062f\\u0631\\u0647\\u0645 \\u0641\\u064a\\u0651 \\u0652\\u062d\\u0652\\u064a\\u064f\\u0646\\u0651 \\u0628\\u0644\\u063a\\u064e\\u062a\\u064d \\u064b\\u0642\\u064c\\u064a\\u0645\\u0629\\u064c \\u064b\\u0645\\u064b\\u0628\\u064a\\u0639\\u0627\\u062a\\u0647\\u0645\\u064e \\u0646\\u064b\\u062d\\u0648\\u0652 2\\u06500 .22\\u064b6 \\u0650\\u0645\\u064b\\u0644\\u064a\\u0651\\u0648\\u0646 \\u0652\\u062f\\u0631\\u0650\\u0647\\u0645\\u064f .\\u064f \\u0643\\u0645\\u0627 \\u0650\\u0628\\u0644\\u064e\\u063a\\u064b\\u062a \\u0642\\u0652\\u064a\\u0645\\u0629\\u0650 \\u0645\\u064d\\u0634\\u064b\\u062a\\u064c\\u0631\\u0652\\u064a\\u0627\\u062a \\u064b\\u0627\\u0644\\u0645\\u0633\\u064d\\u062a\\u062b\\u064f\\u0645\\u064b\\u0631\\u064b\\u064a\\u064b\\u0646\\u064b \\u0627\\u0644\\u0652\\u0639\\u0650\\u0631\\u0650\\u0628\\u060c\\u064b \\u064f\\u063a\\u064a\\u0631 \\u0651\\u0627\\u0644\\u0652\\u062e\\u0644\\u064d\\u064a\\u064f\\u062c\\u064d\\u064a\\u064a\\u0651\\u0646\\u0650\\u060c\\u0651 \\u062e\\u0644\\u0627\\u0644 \\u0647\\u0650\\u0630\\u0627 \\u0650\\u0627\\u0644\\u0652\\u064a\\u064b\\u0648\\u0645 \\u0646\\u064f\\u062d\\u064d\\u0648\\u064f 07\\u064e .7\\u064c2\\u0650 \\u0645\\u0644\\u064e\\u064a\\u064c\\u0648\\u0646\\u0652 \\u0652\\u062f\\u0631\\u0647\\u064e\\u0645 \\u064d\\u0648\\u0642\\u064b\\u064a\\u0645\\u064c\\u0629\\u064c \\u0645\\u0652\\u0628\\u064e\\u064a\\u064f\\u0639\\u064e\\u0627\\u064b\\u062a\\u0651\\u0647\\u0645 \\u0646\\u062d\\u0648\\u064c \\u065281\\u064b \\u0650.6\\u06504\\u064e \\u064e\\u0645\\u0644\\u064f\\u064a\\u064c\\u0648\\u0646\\u0651 \\u062f\\u064b\\u0631\\u0647\\u064e\\u0645\\u064e .\\u0623\\u064b\\u0645\\u0651\\u0627\\u0652 \\u0652\\u0628\\u0651\\u0627\\u064c\\u0644\\u064e\\u0646\\u064f\\u0633\\u064d\\u0628\\u0629\\u064e \\u064c\\u0644\\u0644\\u0651\\u0645\\u064d\\u0633\\u064c\\u062a\\u064b\\u062b\\u0652\\u0645\\u0631\\u064b\\u064a\\u0646 \\u0652\\u0627\\u0644\\u062e\\u064c\\u0644\\u064a\\u064e\\u062c\\u064a\\u0650\\u064a\\u0646\\u064c \\u064f\\u0641\\u064b\\u0642\\u062f \\u0628\\u0644\\u064b\\u063a\\u0652\\u062a \\u0642\\u064a\\u0645\\u0629 \\u0645\\u0634\\u0652\\u062a\\u064e\\u0631\\u064c\\u064a\\u064f\\u0627\\u064e\\u062a\\u0647\\u0645\\u064b \\u064b9\\u064b1\\u064f \\u0651.4\\u064d3\\u064d \\u0645\\u0650\\u0644\\u064a\\u0648\\u064c\\u0646 \\u064c\\u062f\\u0631\\u0647\\u0645 \\u0641\\u064a\\u064f \\u062d\\u064a\\u0651\\u0646\\u064b \\u064e\\u0628\\u0644\\u064b\\u063a\\u064c\\u062a \\u064b\\u0642\\u064c\\u064a\\u0645\\u064d\\u0629\\u0651 \\u0645\\u0652\\u0628\\u0651\\u064a\\u0652\\u0639\\u0652\\u0627\\u064c\\u062a\\u064c\\u0647\\u0645\\u0652 \\u064f\\u0646\\u064e\\u062d\\u0650\\u0648 4\\u064f8 \\u064f.21\\u064c \\u0645\\u0644\\u064a\\u0648\\u064f\\u0646 \\u064e\\u062f\\u064e\\u0631\\u064d\\u0647\\u064e\\u0645 \\u064e\\u062e\\u0644\\u064c\\u0627\\u0644 \\u0650\\u0646\\u064c\\u0641\\u0633 \\u064f\\u0627\\u0652\\u0644\\u0651\\u0641\\u062a\\u0631\\u0652\\u0629\\u064c .\",\n          \"https://example.com/resource/\\u062f\\u0628\\u0650\\u064a\\u0650 - \\u0625\\u0650\\u0628\\u064d\\u0631\\u0650\\u0627\\u0647\\u064f\\u064a\\u064c\\u0645\\u0652 \\u0651\\u0627\\u0644\\u064f\\u064a\\u064b\\u0648\\u0633\\u0651\\u0641:\\u064e\\u0628\\u064d\\u062d\\u0636\\u0648\\u0652\\u0631\\u0650 \\u0645\\u064e\\u062d\\u064d\\u0645\\u062f\\u064e \\u0627\\u064d\\u0644\\u0645\\u0652\\u0631\\u060c \\u0631\\u0626\\u064a\\u0633\\u0651 \\u0627\\u0644\\u0645\\u064c\\u062c\\u064c\\u0644\\u064b\\u0633 \\u0627\\u064c\\u0644\\u0648\\u064d\\u0637\\u064b\\u0646\\u064f\\u064a\\u064d \\u0627\\u0644\\u064e\\u0627\\u062a\\u064b\\u062d\\u0652\\u0627\\u062f\\u064a\\u0650\\u060c\\u064e \\u0648\\u0650\\u0627\\u0651\\u0644\\u064c\\u0642\\u0646\\u0652\\u0635\\u0644 \\u0627\\u0644\\u0639\\u0627\\u0652\\u0645\\u0650 \\u064b\\u0627\\u064d\\u0644\\u0651\\u0643\\u0651\\u0648\\u064a\\u0651\\u062a\\u064e\\u064a\\u064c\\u060c \\u0630\\u064d\\u064a\\u064c\\u0627\\u0628\\u0651 \\u0651\\u0641\\u0631\\u062d\\u0627\\u064e\\u0646 \\u064c\\u0627\\u0652\\u0644\\u0631\\u0634\\u064a\\u0652\\u062f\\u064a\\u0651\\u060c \\u064b\\u0648\\u0633\\u064e\\u0644\\u0651\\u0637\\u0627\\u064b\\u0646\\u064d \\u0627\\u064c\\u0644\\u0652\\u0633\\u0648\\u064f\\u064a\\u062f\\u064d\\u064a \\u064d\\u0631\\u0652\\u0626\\u064a\\u064b\\u0633\\u0652 \\u0645\\u062c\\u064b\\u0644\\u064d\\u0633\\u0650 \\u0625\\u062f\\u0631\\u064d\\u0627\\u0629 \\u0646\\u064b\\u062f\\u0648\\u064e\\u0629\\u064b \\u0627\\u064b\\u0644\\u064c\\u062b\\u0642\\u0627\\u064d\\u0641\\u0629\\u064e \\u064e\\u0648\\u0627\\u064e\\u0644\\u0639\\u0644\\u0648\\u0645\\u060c \\u0648\\u0623\\u0639\\u0652\\u0636\\u0652\\u0627\\u0621 \\u0650\\u0645\\u064d\\u062c\\u064d\\u0644\\u064b\\u0633\\u0650 \\u0627\\u0644\\u0625\\u0651\\u062f\\u0652\\u0627\\u0631\\u064e\\u0629\\u064d\\u060c \\u0625\\u0652\\u0636\\u0627\\u0650\\u0641\\u0629\\u064d \\u0625\\u0644\\u0650\\u0649\\u064f \\u0637\\u0650\\u064a\\u064f\\u0641\\u064b \\u0648\\u0627\\u0633\\u064f\\u0639 \\u0650\\u0648\\u064d\\u0644\\u0627\\u0641\\u0652\\u062a \\u0645\\u0646\\u0651 \\u064d\\u0627\\u0644\\u064e\\u0643\\u0651\\u062a\\u0651\\u064c\\u0627\\u0651\\u0628\\u0650 \\u0648\\u064d\\u0627\\u064b\\u0644\\u0645\\u062b\\u064e\\u0642\\u0641\\u064b\\u064a\\u0646 \\u0648\\u0650\\u0627\\u0644\\u0625\\u0639\\u064e\\u0644\\u0627\\u0645\\u064a\\u064a\\u064d\\u0646 \\u0645\\u064c\\u0646\\u064d \\u0627\\u064e\\u0644\\u0650\\u0628\\u064d\\u0644\\u062f\\u064a\\u0646 . \\u0634\\u0647\\u062f\\u062a\\u064f \\u064e\\u0627\\u064d\\u0644\\u0652\\u0646\\u0650\\u062f\\u0648\\u064c\\u0629\\u064f\\u060c\\u064d \\u0645\\u064c\\u0633\\u0627\\u0621 \\u0650\\u0623\\u0645\\u0633\\u064b \\u0651\\u0627\\u064b\\u0644\\u0652\\u0623\\u064e\\u0648\\u064e\\u0644\\u060c\\u064b \\u0650\\u0627\\u0652\\u062e\\u062a\\u064e\\u062a\\u0652\\u0627\\u0645\\u0651 \\u0641\\u0639\\u0627\\u064e\\u0644\\u064a\\u0627\\u062a\\u064b \\u064e\\u0645\\u0647\\u0650\\u0631\\u064b\\u062c\\u0650\\u0627\\u0646\\u064f \\u064d\\\"\\u064c\\u0643\\u0648\\u0650\\u064a\\u062a\\u064e \\u0627\\u0644\\u0633\\u0644\\u0627\\u064e\\u0645 - \\u0625\\u064b\\u0645\\u0652\\u0627\\u0631\\u064f\\u0627\\u062a \\u064c\\u0627\\u064f\\u0644\\u0650\\u0648\\u064d\\u0641\\u0627\\u0621\\u0650\\\"\\u060c\\u064e \\u0628\\u064c\\u0631\\u0639\\u064d\\u0627\\u064a\\u064d\\u0629 \\u0648\\u064f\\u062a\\u0646\\u0638\\u064a\\u064f\\u0645 \\u0647\\u064a\\u0626\\u0629 \\u062f\\u064b\\u0628\\u064a\\u0652 \\u0644\\u0644\\u064b\\u062b\\u064d\\u0642\\u0627\\u0641\\u0651\\u0629 \\u0648\\u0627\\u0644\\u0652\\u0641\\u0646\\u0648\\u0646 \\u0628\\u0627\\u064c\\u0644\\u062a\\u0639\\u0627\\u0648\\u064d\\u0646 \\u064f\\u0645\\u0650\\u0639\\u064b \\u064c\\u0627\\u0644\\u0642\\u0652\\u0646\\u0635\\u0652\\u0644\\u064b\\u064a\\u064c\\u0629 \\u064c\\u0627\\u0651\\u0644\\u064b\\u0639\\u0627\\u064c\\u0645\\u0629\\u064d \\u0644\\u0650\\u062f\\u0652\\u0648\\u064b\\u0644\\u064b\\u0629\\u064c \\u0652\\u0627\\u0651\\u0644\\u0643\\u0648\\u064a\\u062a \\u064c\\u0641\\u0650\\u064a\\u064f \\u064e\\u0625\\u064d\\u0645\\u0651\\u0627\\u064e\\u0631\\u0629\\u064f \\u062f\\u064c\\u0628\\u064f\\u064a\\u060c\\u0652 \\u0648\\u0651\\u062a\\u0636\\u0645\\u064c\\u0646\\u0651 \\u064d\\u0641\\u0639\\u064d\\u0627\\u064f\\u0644\\u064d\\u064a\\u064e\\u0627\\u062a \\u064f\\u062b\\u0642\\u0651\\u0627\\u064f\\u0641\\u064a\\u0629\\u064e \\u0641\\u0646\\u064a\\u0652\\u0629\\u0650\\u060c \\u0650\\u0648\\u063a\\u064a\\u0631\\u0647\\u0650\\u0627\\u0651 \\u064d.\\u0648\\u0651\\u062a\\u0652\\u0636\\u064c\\u0645\\u0646\\u0651\\u062a\\u064b \\u064e\\u0627\\u0644\\u0641\\u0651\\u0639\\u064e\\u0627\\u0644\\u064d\\u064a\\u0627\\u064c\\u062a\\u0650 \\u0650\\u0639\\u064e\\u0631\\u0636 \\u0641\\u064a\\u0644\\u064f\\u0645 \\u0652\\u0648\\u064b\\u062b\\u0627\\u064e\\u0626\\u064f\\u0642\\u064f\\u064a\\u064f \\u0639\\u064e\\u0646\\u064f \\u064f\\u0627\\u0644\\u062a\\u064d\\u0639\\u064c\\u0627\\u0648\\u064d\\u0646\\u0650 \\u064d\\u0627\\u064c\\u0644\\u0623\\u062e\\u0648\\u064a \\u064f\\u0628\\u0651\\u064a\\u0652\\u0646\\u064b \\u0652\\u0627\\u0644\\u064e\\u0628\\u0644\\u064f\\u062f\\u0650\\u064a\\u064d\\u0646\\u064b \\u0651\\u0627\\u0650\\u0644\\u0634\\u0642\\u0651\\u064a\\u064c\\u0642\\u064e\\u064a\\u0646\\u0650\\u060c \\u064d\\u0642\\u0631\\u0623\\u0651 \\u064c\\u0628\\u0650\\u0639\\u064f\\u062f \\u064b\\u0630\\u064f\\u0644\\u0651\\u0643\\u064f \\u0651\\u0639\\u0628\\u064f\\u062f\\u0627\\u0650\\u0644\\u0644\\u0647 \\u064f\\u0627\\u0644\\u064c\\u0645\\u0637\\u0651\\u064a\\u0631\\u064d\\u064a\\u0650 \\u0643\\u064e\\u0644\\u0645\\u0652\\u0629\\u064c \\u0647\\u064a\\u0650\\u0626\\u0629 \\u062f\\u0628\\u064b\\u064a\\u064e \\u0644\\u0644\\u064b\\u062b\\u0642\\u0627\\u0641\\u0629\\u060c\\u064f \\u062a\\u062d\\u064f\\u062f\\u062b\\u064e \\u064c\\u0641\\u064a\\u0652\\u0647\\u0652\\u0627\\u064c \\u0639\\u0652\\u0646 \\u064f\\u0627\\u0652\\u0644\\u0639\\u0650\\u0644\\u0627\\u0642\\u0627\\u062a \\u0651\\u0627\\u0651\\u0644\\u064d\\u062b\\u0642\\u0650\\u0627\\u0641\\u064a\\u0651\\u0629 \\u0628\\u064b\\u064a\\u0646 \\u064e\\u0627\\u0644\\u0628\\u064b\\u0644\\u0651\\u062f\\u0652\\u064a\\u064d\\u0646\\u064c\\u060c \\u0648\\u064e\\u0643\\u064e\\u064a\\u0651\\u0641 \\u0623\\u0646 \\u0627\\u064e\\u0644\\u064d\\u0643\\u0648\\u064e\\u064a\\u0650\\u062a \\u062f\\u0639\\u0645\\u0651\\u062a\\u064d \\u0650\\u0627\\u0644\\u062d\\u0631\\u0652\\u0643\\u064b\\u0629\\u064b \\u0627\\u064d\\u0644\\u062b\\u0652\\u0642\\u064c\\u0627\\u0641\\u064a\\u0652\\u0629\\u0652 \\u064d\\u0648\\u0627\\u0650\\u0644\\u0651\\u062a\\u0639\\u0651\\u0644\\u064a\\u064f\\u0645\\u064a\\u0629 \\u0641\\u064a \\u0627\\u0644\\u0625\\u0645\\u0627\\u064e\\u0631\\u0627\\u064c\\u062a\\u060c\\u064d \\u064d\\u0648\\u0651\\u0623\\u064f\\u0646\\u064e\\u0634\\u0623\\u062a\\u0651 \\u0641\\u064a\\u064e\\u0647\\u0651\\u0627 \\u064b\\u0627\\u064c\\u0644\\u064f\\u0645\\u064f\\u062f\\u0627\\u064f\\u0631\\u0651\\u0633\\u064b\\u060c\\u0652 \\u064c\\u0625\\u0644\\u064f\\u0649 \\u0651\\u062c\\u0627\\u064b\\u0646\\u0650\\u0628 \\u064c\\u063a\\u0652\\u064a\\u064e\\u0631\\u0647\\u0650\\u0627\\u064c \\u0645\\u0646\\u064c \\u0650\\u0627\\u0644\\u0645\\u064c\\u0631\\u064d\\u0627\\u0641\\u064e\\u0642 \\u0627\\u0651\\u0644\\u0636\\u0631\\u0652\\u0648\\u0631\\u064d\\u064a\\u0650\\u0629\\u064e .\\u064c\\u0628\\u064c\\u0639\\u064b\\u062f\\u0652 \\u0630\\u064f\\u0644\\u0643 \\u0628\\u062f\\u0623\\u0650\\u062a \\u0641\\u064f\\u0639\\u0650\\u0627\\u064c\\u0644\\u064a\\u0627\\u0651\\u062a \\u0627\\u0644\\u064d\\u0646\\u0652\\u062f\\u0648\\u064c\\u0629 \\u0651\\u0627\\u0651\\u0644\\u064b\\u062a\\u064e\\u064a \\u064f\\u0623\\u062f\\u064e\\u0627\\u064c\\u0631\\u0647\\u0627 \\u0651\\u0639\\u0644\\u064e\\u064a\\u064c \\u064c\\u0639\\u064f\\u0628\\u064f\\u064a\\u0651\\u062f \\u0627\\u0644\\u064f\\u0647\\u0650\\u0627\\u0650\\u0645\\u0644\\u064d\\u064a\\u0651\\u060c\\u0651 \\u0652\\u0628\\u0639\\u0651\\u0646\\u064e\\u0648\\u064c\\u0627\\u0651\\u0646 \\\"\\u0650\\u0645\\u0633\\u064a\\u0631\\u064b\\u0629 \\u0627\\u064e\\u0644\\u0652\\u0639\\u0652\\u0644\\u0627\\u064e\\u0642\\u0627\\u062a\\u0651 \\u0627\\u0650\\u0644\\u0625\\u0645\\u0627\\u0652\\u0631\\u0627\\u062a\\u064a\\u0629\\u0651 \\u064b- \\u064c\\u0627\\u0651\\u0644\\u0652\\u0643\\u0648\\u064a\\u062a\\u064e\\u064a\\u064b\\u0629\\\" \\u0648\\u064b\\u0634\\u0627\\u0631\\u0643 \\u064c\\u0641\\u064c\\u064a\\u0647\\u064e\\u0627\\u0651 \\u0643\\u0644\\u064b \\u064e\\u0645\\u0646\\u0651 \\u0650\\u062f\\u0652 . \\u0639\\u0652\\u0628\\u062f\\u0650\\u0627\\u0652\\u0644\\u0644\\u064f\\u0647\\u064c \\u0627\\u0644\\u063a\\u064c\\u0646\\u064a\\u0645 \\u064e(\\u0651\\u0627\\u0644\\u0643\\u0648\\u064f\\u064a\\u064f\\u062a)\\u064f \\u064e\\u0648\\u0628\\u0644\\u0627\\u0644\\u064f \\u0651\\u0627\\u0652\\u0644\\u064f\\u0628\\u0652\\u062f\\u064b\\u0648\\u0631\\u064c \\u0646\\u064b\\u0627\\u064b\\u0626\\u0628 \\u0631\\u064d\\u0626\\u064a\\u064c\\u0633\\u064f \\u0645\\u062c\\u064e\\u0644\\u0633 \\u0625\\u062f\\u0650\\u0627\\u0652\\u0631\\u0652\\u0629\\u064d \\u064d\\u0646\\u064d\\u062f\\u064b\\u0648\\u0629\\u064f \\u0627\\u0644\\u062b\\u0642\\u0627\\u0641\\u0629\\u064e \\u0650\\u0627\\u0644\\u064d\\u0639\\u0652\\u0644\\u064d\\u0648\\u0645\\u064c\\u060c \\u062d\\u0652\\u064a\\u0650\\u062b \\u064d\\u0633\\u0650\\u0644\\u0637\\u064f \\u064b\\u0627\\u0644\\u0647\\u064e\\u0627\\u064c\\u0645\\u064c\\u0644\\u064a \\u0650\\u0627\\u0644\\u0636\\u0648\\u0621\\u064d \\u0639\\u0650\\u0644\\u064b\\u0649\\u0650 \\u0650\\u0627\\u0651\\u0644\\u0633\\u0652\\u064a\\u0631\\u0651\\u0629\\u064b \\u064f\\u0627\\u064b\\u0644\\u064b\\u0645\\u064e\\u0639\\u064b\\u0631\\u0641\\u064a\\u0629\\u0650 \\u064b\\u0644\\u064c\\u0643\\u064b\\u0644\\u064e\\u0627\\u064d \\u0627\\u0650\\u0644\\u0650\\u0643\\u0651\\u0627\\u064e\\u062a\\u0628\\u064a\\u0646 \\u062f .\\u064b \\u064c\\u0627\\u0644\\u0651\\u063a\\u064e\\u0646\\u064d\\u064a\\u064b\\u0645 \\u0650\\u0648\\u0651\\u0627\\u064f\\u0644\\u0628\\u0652\\u062f\\u0648\\u064e\\u0631 .\\u0651 \\u064d\\u0648\\u064b\\u0645\\u0645\\u0627\\u0652 \\u0642\\u0627\\u0644\\u0647 \\u0651\\u0627\\u064e\\u0644\\u0647\\u0627\\u0651\\u0645\\u064b\\u0644\\u064a\\u0651 \\u0641\\u064a\\u064e \\u0645\\u064c\\u0642\\u0651\\u062f\\u0652\\u0645\\u062a\\u0652\\u0647:\\u0651 \\u064b\\u0627\\u0644\\u0643\\u0648\\u064a\\u064b\\u062a \\u064f\\u062a\\u064d\\u0631\\u0643\\u062a \\u0628\\u064c\\u0635\\u0645\\u064d\\u0627\\u064e\\u062a\\u0651\\u0647\\u064c\\u0627\\u064d \\u0639\\u0645\\u064a\\u0651\\u0642\\u064f\\u0627\\u064b\\u064b \\u0639\\u064d\\u0644\\u064c\\u064a\\u0646\\u0627 \\u064c\\u0641\\u064a \\u062f\\u0648\\u0644\\u0651\\u0629 \\u064b\\u0627\\u064d\\u0644\\u064c\\u0625\\u064e\\u0645\\u0627\\u064b\\u0631\\u0627\\u062a\\u060c\\u064e \\u0652\\u0648\\u064c\\u0623\\u0643\\u064e\\u0628\\u0651\\u0631 \\u064c\\u062f\\u0644\\u064a\\u0644\\u064f \\u0650\\u0639\\u0644\\u064d\\u0649\\u064e \\u0650\\u0630\\u0644\\u0643\\u0650 \\u064f\\u0623\\u0651\\u0646 \\u0647\\u0646\\u0627\\u0643\\u064f \\u0652\\u062c\\u064a\\u064e\\u0644\\u064d\\u0627\\u0652\\u064b \\u0625\\u0645\\u0627\\u064f\\u0631\\u064f\\u0627\\u062a\\u064a\\u064d\\u0627\\u064b\\u064f \\u0652\\u0643\\u0627\\u0645\\u064b\\u0644\\u064d\\u0627\\u064d\\u064b\\u064f \\u062a\\u064e\\u0641\\u062a\\u062d\\u0651\\u062a\\u0651 \\u064b\\u0645\\u0650\\u062f\\u0652\\u0627\\u0631\\u0652\\u0643\\u0647\\u064b \\u0639\\u0644\\u0652\\u0649 \\u0651\\u0645\\u064b\\u0627\\u064e \\u0628\\u062b\\u064f\\u062a\\u064c\\u0647\\u064d \\u0627\\u064c\\u0644\\u0650\\u0643\\u064c\\u0648\\u064a\\u062a \\u0652\\u0645\\u0651\\u0646\\u064b \\u064b\\u062a\\u0639\\u0644\\u064a\\u064e\\u0645 \\u064d\\u0648\\u064f\\u062b\\u064c\\u0642\\u0627\\u0641\\u0651\\u0629\\u064d \\u0641\\u064a\\u064d \\u064c\\u0627\\u0644\\u0625\\u064c\\u0645\\u0651\\u0627\\u064b\\u0631\\u0627\\u064c\\u062a\\u064c\\u060c\\u064f \\u0650\\u062c\\u064a\\u0644 \\u0650\\u0643\\u064b\\u0627\\u064f\\u0645\\u0644\\u060c\\u0651 \\u064c\\u062a\\u0652\\u0639\\u0644\\u0645 \\u0648\\u0641\\u0652\\u0642 \\u0651\\u0645\\u0651\\u0646\\u064d\\u0627\\u0650\\u0647\\u064c\\u062c\\u064f \\u0627\\u0644\\u0643\\u0652\\u0648\\u064a\\u062a \\u0627\\u064c\\u0644\\u062a\\u0639\\u0644\\u064a\\u064c\\u0645\\u064c\\u064a\\u064d\\u0629 \\u064c.\\u064e\\u0648\\u0623\\u0634\\u0627\\u0651\\u062f\\u064d \\u064e\\u062f \\u064e.\\u064d \\u0627\\u064e\\u0644\\u063a\\u0646\\u064b\\u064a\\u0645 \\u0650\\u0628\\u0627\\u064c\\u0644\\u062d\\u064a\\u0627\\u0629\\u0650 \\u0651\\u0627\\u0644\\u062a\\u0652\\u0639\\u064b\\u0644\\u064a\\u064f\\u0645\\u064a\\u0629\\u064f \\u0627\\u0644\\u062b\\u0642\\u064b\\u0627\\u064f\\u0641\\u0651\\u064a\\u0629\\u0650 \\u0652\\u0641\\u064e\\u064a\\u064e \\u064f\\u0627\\u0644\\u064c\\u0625\\u0645\\u064b\\u0627\\u0631\\u064c\\u0627\\u062a\\u060c\\u064d \\u0651\\u0648\\u064c\\u0631\\u0623\\u0649\\u064f \\u064e\\u0623\\u064e\\u0646\\u0651\\u0647\\u0627\\u064e \\u062c\\u062f \\u0652\\u0645\\u062a\\u0637\\u0648\\u0631\\u064d\\u0629\\u0652\\u060c\\u0650 \\u0648\\u064e\\u0623\\u0650\\u062f\\u064c\\u0644\\u0649\\u0652 \\u0651\\u0628\\u0623\\u064c\\u0645\\u062b\\u0650\\u0644\\u0629 \\u064c\\u0645\\u0647\\u0651\\u0645\\u0629\\u064f \\u0650\\u0639\\u064f\\u0644\\u0651\\u0649 \\u0630\\u0650\\u0644\\u064e\\u0643\\u064c\\u060c\\u064c \\u0648\\u064c\\u0645\\u064d\\u0646\\u0647\\u0627 \\u0651\\u0623\\u0646 \\u0627\\u0650\\u0644\\u064e\\u0643\\u062b\\u064b\\u064a\\u0631\\u064a\\u064b\\u0646\\u064e \\u064c\\u0645\\u0646\\u0650 \\u0623\\u0628\\u064c\\u0646\\u064e\\u0627\\u0621\\u064f \\u0650\\u0627\\u0644\\u064b\\u0643\\u0648\\u064e\\u064a\\u0650\\u062a \\u0628\\u0627\\u062a\\u064b\\u0648\\u0627 \\u064a\\u064e\\u062a\\u0652\\u0627\\u0652\\u0628\\u0639\\u0650\\u0648\\u0652\\u0646 \\u0652\\u062a\\u062d\\u0652\\u0635\\u064a\\u0644\\u0647\\u0650\\u0645\\u0651 \\u064d\\u0627\\u0651\\u0644\\u0645\\u0639\\u064d\\u0631\\u064f\\u0641\\u064e\\u064a\\u064d \\u064d\\u0641\\u064c\\u064a \\u062c\\u064f\\u0627\\u064e\\u0645\\u0639\\u064d\\u0627\\u064b\\u062a \\u0627\\u0652\\u0644\\u0625\\u0645\\u0650\\u0627\\u0631\\u0627\\u062a\\u0652\\u060c\\u064e \\u0645\\u0646\\u0650 \\u062f\\u064f\\u0648\\u0646\\u064b \\u064e\\u0623\\u064e\\u0646 \\u064f\\u064a\\u064f\\u0634\\u064f\\u0639\\u064f\\u0631\\u0651\\u0648\\u064d\\u0627 \\u0625\\u0644\\u064d\\u0627\\u0650 \\u0628\\u0651\\u0623\\u0646\\u064b\\u0647\\u064c\\u0645\\u064b \\u0641\\u0650\\u064a \\u0628\\u064b\\u064a\\u0648\\u062a\\u0650\\u0647\\u064e\\u0645\\u0651\\u060c \\u0652\\u0648\\u0647\\u0648\\u064e \\u064f\\u0645\\u062f\\u064c\\u0639\\u064c\\u0627\\u064e\\u0629\\u0651 \\u064d\\u0633\\u064b\\u0639\\u0627\\u0650\\u062f\\u0629 \\u064d\\u0623\\u0633\\u0631\\u064d\\u0647\\u0645\\u0651\\u060c \\u0628\\u0652\\u0644 \\u0650\\u0628\\u0644\\u0651\\u062f\\u0647\\u0645\\u064b \\u064d\\u0628\\u0643\\u0627\\u064d\\u0645\\u064d\\u0644\\u0647 \\u064f.\\u0648\\u0642\\u0627\\u0644: \\u0644\\u0645\\u064f \\u064f\\u0623\\u064c\\u0631\\u062f\\u064c \\u064c\\u0623\\u0646\\u0650 \\u064d\\u0623\\u0633\\u064e\\u0645\\u064e\\u064a\\u0652 \\u0646\\u064e\\u062f\\u0650\\u0648\\u062a\\u0650\\u0646\\u0627 \\u0647\\u064b\\u0630\\u0651\\u0647\\u064f \\u0628\\u0627\\u0644\\u062d\\u0648\\u0651\\u0627\\u0652\\u0631\\u064b\\u064a\\u0629\\u0651\\u060c\\u064c \\u0628\\u0650\\u064a\\u0650\\u0646 \\u0645\\u0652\\u062b\\u064e\\u0642\\u0652\\u0641\\u064d\\u064a\\u0650\\u0646\\u0651 \\u0645\\u0650\\u0646\\u064d \\u0628\\u0644\\u062f\\u064a\\u064e\\u0646\\u0627:\\u064b \\u064b\\u0627\\u0644\\u064e\\u0643\\u0648\\u0650\\u064a\\u062a\\u0652 \\u0652\\u0648\\u0627\\u0652\\u0644\\u0625\\u0645\\u064c\\u0627\\u0631\\u0627\\u064c\\u062a\\u060c\\u064f \\u064b\\u0644\\u0623\\u0646 \\u0627\\u0644\\u062d\\u0648\\u064f\\u0627\\u0652\\u0631\\u060c\\u064f \\u0650\\u064a\\u062a\\u0645 \\u064c\\u0639\\u064f\\u0627\\u0650\\u062f\\u0629\\u064d\\u060c \\u0652\\u0628\\u064a\\u064e\\u0646\\u064c \\u0645\\u0650\\u0646\\u064b \\u0652\\u0647\\u064b\\u0645\\u064d \\u0645\\u062e\\u062a\\u064d\\u0644\\u0641\\u0648\\u0646\\u060c \\u0628\\u064a\\u0646 \\u0650\\u0645\\u064c\\u0646 \\u062a\\u064c\\u0643\\u0650\\u0648\\u0646\\u064c \\u064e\\u0647\\u064f\\u0646\\u0627\\u0643 \\u062a\\u0646\\u0627\\u0642\\u0650\\u0636\\u0627\\u062a \\u064b\\u0641\\u064f\\u064a\\u0651\\u0645\\u0627\\u064b \\u0650\\u0628\\u064a\\u0646\\u0652\\u0647\\u0645\\u060c \\u0625\\u0651\\u0646\\u0646\\u064e\\u0627\\u0650 \\u0650\\u0646\\u062a\\u062d\\u062f\\u064c\\u062b \\u064b\\u0636\\u0652\\u0645\\u0646 \\u0652\\u0625\\u0637\\u0652\\u0627\\u0650\\u0631\\u0651 \\u064c\\u0627\\u064c\\u0644\\u064e\\u0628\\u064e\\u064a\\u064b\\u062a\\u0650 \\u064c\\u0627\\u0644\\u0648\\u0652\\u0627\\u062d\\u0651\\u062f\\u060c \\u064f\\u0636\\u064e\\u0645\\u064c\\u0646\\u0650 \\u0625\\u0637\\u0627\\u0631 \\u0627\\u0644\\u064b\\u0623\\u0633\\u064c\\u0631\\u064f\\u0629 \\u0627\\u0644\\u0652\\u0648\\u0650\\u0627\\u062d\\u062f\\u0629\\u060c\\u0651 \\u0648\\u064f\\u0647\\u0646\\u064b\\u0627\\u0650 \\u0627\\u0650\\u0644\\u0641\\u0631\\u0642\\u064f \\u0628\\u064b\\u064a\\u0646\\u064c \\u064c\\u0637\\u064d\\u0628\\u064a\\u0639\\u0629 \\u0651\\u062d\\u062f\\u064a\\u064f\\u062b\\u0646\\u0651\\u0627\\u060c\\u0652 \\u0648\\u0635\\u0641\\u0629\\u064b \\u0627\\u0644\\u062d\\u0650\\u0648\\u0627\\u0631\\u0652 \\u0650.\\u0651\\u0648\\u062a\\u0627\\u0628\\u0651\\u0639\\u064b \\u062f . \\u0627\\u064f\\u0644\\u063a\\u0646\\u064a\\u064f\\u0645 \\u064f\\u0642\\u0651\\u0627\\u0626\\u0644\\u0627\\u064d\\u064b:\\u064d \\u0650\\u0645\\u0652\\u0631\\u0643\\u0650\\u0632 \\u0627\\u064c\\u0644\\u064b\\u0628\\u062d\\u0648\\u064c\\u062b \\u064e\\u0648\\u0627\\u064d\\u0644\\u062f\\u0631\\u064b\\u0627\\u064f\\u0633\\u0627\\u062a\\u0650 \\u0627\\u064c\\u0644\\u0643\\u0650\\u0648\\u064a\\u0650\\u062a\\u064c\\u064a\\u064b \\u064c\\u062c\\u0651\\u0645\\u064b\\u0639\\u0651 \\u0623\\u064d\\u0643\\u0650\\u062b\\u0651\\u0631 \\u064b\\u0645\\u0646 \\u064e\\u0645\\u0644\\u064b\\u064a\\u0648\\u064e\\u0646\\u064f\\u064a \\u0648\\u064e\\u062b\\u0651\\u064a\\u064d\\u0642\\u0629\\u064c \\u0639\\u0646 \\\"\\u0627\\u0644\\u062c\\u064b\\u0646\\u0648\\u064e\\u0628 \\u0648\\u0651\\u0627\\u064e\\u0644\\u062e\\u0644\\u0650\\u064a\\u064f\\u062c\\\"\\u064e\\u060c\\u0651 \\u0648\\u0645\\u064d\\u0646 \\u0628\\u064c\\u064a\\u064b\\u0646\\u064f\\u0647\\u0627\\u064f \\u0648\\u064e\\u062b\\u0627\\u0626\\u0642\\u0652 \\u064f\\u0645\\u0647\\u0650\\u0645\\u064e\\u0629 \\u0639\\u0646 \\u0645\\u0641\\u064c\\u0627\\u0635\\u0644 \\u064b\\u0627\\u0644\\u064f\\u0628\\u0652\\u0646\\u064a\\u0629\\u064c \\u064d\\u0627\\u0652\\u0644\\u0651\\u062a\\u064f\\u062d\\u064c\\u062a\\u064a\\u064e\\u0629 \\u064e\\u0641\\u064a \\u0627\\u0644\\u0650\\u0625\\u0645\\u064c\\u0627\\u064b\\u0631\\u064b\\u0627\\u0652\\u062a\\u064a\\u064f\\u0629\\u060c\\u064b \\u0648\\u064f\\u0646\\u064b\\u0634\\u064d\\u0623\\u064d\\u0629 \\u0645\\u062f\\u0627\\u0631\\u0633\\u0647\\u064e\\u0627\\u060c \\u0648\\u062d\\u064a\\u0627\\u062a\\u0650\\u0647\\u0627 \\u0627\\u0644\\u062b\\u064e\\u0642\\u0627\\u0641\\u064a\\u0629\\u0650\\u060c \\u064d\\u0648\\u0652\\u0641\\u064a \\u0647\\u0630\\u0650\\u0647 \\u0627\\u0651\\u0644\\u0648\\u062b\\u064b\\u0627\\u0626\\u0651\\u0642 \\u0650\\u0645\\u0639\\u0644\\u0648\\u064d\\u0645\\u0650\\u0627\\u064e\\u062a \\u062c\\u0651\\u062f \\u0645\\u0647\\u0645\\u0629\\u0652 \\u064b\\u0639\\u0651\\u0646 \\u064f\\u0646\\u0634\\u0623\\u0629\\u0651 \\u0627\\u0652\\u0644\\u064b\\u0645\\u062f\\u0650\\u0627\\u064c\\u0631\\u0633\\u060c\\u0652 \\u064c\\u0648\\u064c\\u062d\\u0651\\u062a\\u0649\\u064c \\u0623\\u0633\\u064b\\u0645\\u064e\\u0627\\u0621 \\u0651\\u0627\\u0644\\u0637\\u0644\\u0651\\u0628\\u0629\\u060c \\u0648\\u064b\\u0627\\u064e\\u0644\\u064d\\u0645\\u062f\\u064b\\u0631\\u0633\\u064c\\u064a\\u0646\\u060c\\u0652 \\u064b\\u0648\\u0643\\u0652\\u064a\\u0641\\u064a\\u064f\\u0629\\u064c \\u0628\\u064b\\u062f\\u0650\\u0627\\u064f\\u064a\\u0627\\u0652\\u062a\\u064c \\u0639\\u0652\\u0645\\u0650\\u0644\\u064e\\u064a\\u0652\\u0629\\u064d \\u0627\\u0644\\u062a\\u0639\\u0644\\u064a\\u0645\\u064f \\u064f. . \\u064d\\u0625\\u0644\\u064f\\u062e\\u0652\\u060c \\u064c\\u0648\\u0647\\u0646\\u064d\\u0627\\u0643\\u0651 \\u064b\\u0645\\u0646 \\u0651\\u0646\\u064f\\u0627\\u064f\\u0644\\u0652 \\u064b\\u0634\\u0647\\u0650\\u0627\\u062f\\u0629\\u064c \\u0650\\u0627\\u0644\\u062f\\u0650\\u0643\\u062a\\u064e\\u0648\\u0631\\u0651\\u0627\\u0647 \\u0645\\u064c\\u0646\\u0651 \\u062e\\u064f\\u0644\\u064b\\u0627\\u0651\\u0644\\u064f \\u064f\\u0642\\u0652\\u0631\\u0627\\u0621\\u0652\\u0629 \\u064e\\u0627\\u0644\\u064d\\u0639\\u064b\\u0644\\u064e\\u0627\\u0642\\u0627\\u064c\\u062a \\u0627\\u0652\\u0644\\u0623\\u0650\\u062e\\u0648\\u064d\\u064a\\u064e\\u0629 \\u064d\\u0628\\u064a\\u0646 \\u064e\\u0627\\u0644\\u064f\\u0628\\u064e\\u0644\\u062f\\u064a\\u064c\\u0646 \\u0652.\\u0652\\u0648\\u062c\\u0627\\u0621\\u064e \\u062d\\u064d\\u062f\\u064d\\u064a\\u064d\\u062b\\u064f \\u0627\\u064f\\u0644\\u0651\\u0628\\u0652\\u062f\\u064c\\u0648\\u0631\\u064e \\u064e\\u0628\\u0645\\u0627 \\u064a\\u064f\\u0634\\u0650\\u0628\\u0647 \\u064f\\u0627\\u064f\\u0644\\u0652\\u0634\\u0650\\u0647\\u0627\\u062f\\u064e\\u0629\\u064e\\u060c \\u0645\\u0646 \\u064c\\u0642\\u064e\\u0628\\u0644\\u064e \\u0652\\u0623\\u062d\\u064e\\u062f\\u064f \\u0651\\u0623\\u064c\\u0628\\u064f\\u0646\\u0627\\u0621 \\u064d\\u0627\\u0644\\u064c\\u062c\\u064a\\u064d\\u0644 \\u0627\\u064d\\u0644\\u064e\\u0630\\u064a\\u064d \\u064f\\u0641\\u062a\\u0651\\u062d \\u0639\\u064a\\u0646\\u064a\\u064b\\u0647\\u064b \\u0650\\u0639\\u064b\\u0644\\u064d\\u0649\\u0650 \\u0627\\u0644\\u0645\\u0646\\u0627\\u064f\\u0647\\u064b\\u062c \\u0627\\u0652\\u0644\\u0651\\u062a\\u0639\\u0644\\u064f\\u064a\\u0645\\u064a\\u0629 \\u0627\\u0644\\u0651\\u0643\\u064f\\u0648\\u0650\\u064a\\u062a\\u064a\\u0629\\u064e \\u0627\\u0650\\u0644\\u062a\\u064a\\u064b \\u064e\\u062a\\u0645 \\u062a\\u064b\\u062f\\u0650\\u0631\\u064a\\u064f\\u0633\\u0650\\u0647\\u064e\\u0627\\u064b \\u0641\\u0651\\u064a\\u064d \\u0627\\u064f\\u0644\\u0652\\u0625\\u064d\\u0645\\u064c\\u0627\\u0631\\u064c\\u0627\\u0652\\u062a\\u0652\\u060c \\u0648\\u0651\\u0642\\u064d\\u0627\\u0644: \\u064e\\u0643\\u0644 \\u064f\\u0630\\u064c\\u0644\\u0643 \\u064f\\u0630\\u0643\\u0631\\u0650\\u062a\\u0647 \\u0641\\u0651\\u064a \\u0643\\u062a\\u0627\\u0628\\u064a \\u064b\\\"\\u0627\\u0644\\u062c\\u0630\\u0648\\u0631 \\u0650\\u0627\\u064f\\u0644\\u062a\\u0627\\u0631\\u0652\\u064a\\u064d\\u062e\\u0650\\u064a\\u0651\\u0629\\u064d \\u064e\\u0644\\u064f\\u0644\\u0639\\u064b\\u0644\\u0627\\u0642\\u0627\\u0650\\u062a\\u064f \\u064e\\u0627\\u064f\\u0644\\u062b\\u0652\\u0642\\u0627\\u0650\\u0641\\u064d\\u064a\\u0629 \\u064c\\u0628\\u064a\\u064b\\u0646 \\u0650\\u0627\\u0644\\u0625\\u0645\\u0627\\u0631\\u0627\\u064c\\u062a\\u064c \\u064f\\u0648\\u064e\\u0627\\u064b\\u0644\\u0643\\u0650\\u0648\\u064a\\u064f\\u062a\\\"\\u060c \\u0652\\u0648\\u0643\\u064b\\u0627\\u064b\\u0646 \\u064c\\u0628\\u064f\\u0645\\u064f\\u062b\\u064f\\u0627\\u064e\\u0628\\u064c\\u0629\\u064d \\u064c\\u0631\\u0652\\u0633\\u064b\\u0627\\u0651\\u0644\\u064e\\u0629 \\u0634\\u0652\\u0643\\u0631 \\u0652\\u0644\\u0644\\u0643\\u0648\\u064a\\u062a\\u060c \\u0648\\u064c\\u0623\\u0636\\u0650\\u0627\\u064d\\u0641:\\u064d \\u0623\\u062c\\u064f\\u0644\\u060c\\u064e \\u064c\\u062a\\u062a\\u0644\\u0645\\u0630\\u0646\\u0627\\u064c \\u0639\\u064f\\u0644\\u0651\\u0649 \\u0650\\u0645\\u064d\\u0646\\u064c\\u0627\\u064c\\u0647\\u062c \\u064b\\u0627\\u0644\\u0643\\u064e\\u0648\\u064b\\u064a\\u062a\\u064d\\u060c\\u0650 \\u0648\\u0642\\u0631\\u0623\\u0646\\u0627\\u064d \\u0650\\u0639\\u064e\\u0628\\u0627\\u0631\\u064d\\u0629 \\u064e\\\"\\u0639\\u064f\\u0644\\u0645 \\u0628\\u0651\\u0644\\u0651\\u0627\\u062f\\u064a\\u0650 \\u0651\\u0644\\u0651\\u0648\\u064e\\u0646\\u0647\\u0650 \\u064c\\u0623\\u064c\\u062d\\u0645\\u0650\\u0631\\\" \\u0648\\u0650\\u0627\\u0631\\u062a\\u064c\\u062f\\u064a\\u0646\\u0652\\u0627\\u064e \\u0632\\u064a \\u0627\\u064e\\u0644\\u0652\\u0645\\u062f\\u0651\\u0627\\u0652\\u0631\\u064b\\u0633\\u064f \\u064d\\u0627\\u0644\\u0643\\u064d\\u0648\\u064e\\u064a\\u062a\\u064a\\u0629 \\u0623\\u062b\\u064f\\u0646\\u064f\\u0627\\u064e\\u0621\\u064c \\u0651\\u062a\\u0639\\u064e\\u0644\\u0650\\u064a\\u0645\\u0646\\u0627\\u064c\\u060c \\u064c\\u0648\\u0652\\u062a\\u064d\\u0646\\u0627\\u0650\\u0648\\u0644\\u064b\\u0646\\u0627 \\u0627\\u0644\\u064e\\u0648\\u062c\\u064f\\u0628\\u0652\\u0627\\u062a\\u064d \\u0627\\u0651\\u0644\\u0635\\u0628\\u0627\\u062d\\u0650\\u064a\\u0629\\u0651 \\u0627\\u0651\\u0644\\u0650\\u0643\\u064b\\u0648\\u064a\\u062a\\u064a\\u0629\\u0650 \\u064d\\u0641\\u0650\\u064a \\u0645\\u062f\\u064b\\u0627\\u064b\\u0631\\u064c\\u0633\\u0646\\u0627\\u0652\\u060c\\u064b \\u0648\\u0627\\u0633\\u062a\\u062e\\u064c\\u062f\\u064f\\u0645\\u0651\\u0646\\u0627 \\u064d\\u0627\\u064b\\u0644\\u064c\\u0623\\u0650\\u0642\\u064c\\u0644\\u0627\\u0651\\u0645 \\u0652\\u0648\\u064d\\u0627\\u0644\\u0652\\u0645\\u0645\\u064e\\u062d\\u0651\\u0627\\u064f\\u064a\\u064d\\u0627\\u064b\\u062a\\u064e \\u0648\\u0627\\u064d\\u0644\\u064b\\u0645\\u0628\\u0631\\u0627\\u064a\\u0652\\u0627\\u064b\\u062a \\u064d\\u0627\\u0644\\u064e\\u0643\\u0648\\u064c\\u064a\\u062a\\u064a\\u0629\\u064e\\u060c \\u0644\\u064d\\u0627\\u064c \\u0641\\u0631\\u0642 \\u064f\\u0628\\u064b\\u064a\\u064c\\u0646\\u064d\\u0646\\u0651\\u0627\\u060c \\u0628\\u064a\\u064b\\u0626\\u0650\\u062a\\u0627 \\u0628\\u064f\\u0644\\u062f\\u064a\\u0646\\u0627\\u064b \\u0648\\u0650\\u0627\\u064f\\u062d\\u0652\\u062f\\u0629\\u064d\\u060c \\u0647\\u064a \\u0627\\u064f\\u0644\\u0628\\u0650\\u064a\\u0650\\u0626\\u0629\\u064b \\u064c\\u0627\\u0650\\u0644\\u0628\\u062d\\u0631\\u064a\\u0629\\u064f \\u064f.\\u064b \\u0648\\u0628\\u0652\\u0639\\u062f\\u064f \\u064f\\u0623\\u0650\\u0641\\u064c\\u0648\\u0644 \\u062a\\u064d\\u062c\\u0627\\u0652\\u0631\\u0629\\u064c \\u0627\\u0644\\u0644\\u0624\\u0644\\u064b\\u0624\\u060c \\u0651\\u0641\\u064f\\u0625\\u0652\\u0646\\u0651 \\u0645\\u0651\\u062b\\u064e\\u0642\\u064f\\u0641\\u064a\\u0646\\u0627\\u064c \\u0648\\u064d\\u0639\\u0650\\u0645\\u064e\\u0627\\u0644\\u064f\\u0646\\u064f\\u0627 \\u062a\\u0648\\u062c\\u0647\\u0648\\u0627\\u064b \\u0625\\u0644\\u0649 \\u0627\\u0644\\u064e\\u0643\\u0650\\u0648\\u064b\\u064a\\u064b\\u062a\\u064f \\u0644\\u0650\\u0644\\u0639\\u064d\\u0645\\u0644 \\u0651\\u0641\\u064f\\u064a\\u0647\\u0627\\u064f\\u060c \\u0650\\u0643\\u0651\\u0645\\u0627 \\u0623\\u064f\\u0646 \\u0647\\u064c\\u0646\\u0627\\u0643 \\u0623\\u064f\\u062c\\u064a\\u0627\\u064c\\u0644\\u0651\\u0627\\u0650\\u064b \\u064e\\u0645\\u064b\\u0646 \\u0627\\u0652\\u0644\\u064e\\u0643\\u064b\\u0648\\u064a\\u062a\\u064b\\u064a\\u064a\\u0646 \\u064b\\u0639\\u064d\\u0627\\u0634\\u0648\\u064b\\u0627 \\u0641\\u064e\\u064a \\u064f\\u0627\\u0650\\u0644\\u064e\\u0625\\u064d\\u0645\\u0627\\u0631\\u0627\\u062a\\u064d\\u060c \\u064d\\u0648\\u0651\\u0645\\u064e\\u0646\\u064b\\u0647\\u0645 \\u0645\\u0646\\u064c \\u064b\\u0639\\u0650\\u0644\\u0652\\u0645\\u064d\\u0648\\u064e\\u0646\\u0627 .\\u0651 \\u0643\\u0645\\u0627 \\u0631\\u0627\\u0651\\u062d\\u0652 \\u064a\\u0650\\u062a\\u062d\\u064d\\u062f\\u062b \\u0639\\u0646\\u0651 \\u0627\\u0644\\u062a\\u0641\\u064e\\u0627\\u0639\\u064e\\u0644\\u064b \\u0627\\u064c\\u0644\\u062b\\u0650\\u0642\\u0652\\u0627\\u0641\\u064c\\u064a \\u0628\\u064d\\u064a\\u0646\\u0650 \\u064b\\u0627\\u0644\\u064d\\u0628\\u0644\\u0651\\u062f\\u064a\\u064d\\u0646 \\u0639\\u064e\\u0628\\u0631 \\u064d\\u0642\\u064d\\u0635\\u064f\\u0627\\u0626\\u0650\\u062f\\u064d \\u0627\\u0651\\u0644\\u064b\\u0634\\u0639\\u0652\\u0631\\u0627\\u064e\\u0621\\u060c\\u064d \\u064b\\u0627\\u0644\\u0652\\u0641\\u0652\\u0635\\u0652\\u062d\\u064c\\u0649\\u064b \\u0648\\u064c\\u0627\\u0644\\u0650\\u0646\\u064b\\u0628\\u0637\\u064a\\u064f\\u0629\\u0650\\u060c \\u0650\\u0641\\u0652\\u0636\\u064b\\u0644\\u0650\\u0627\\u064b\\u064b \\u064c\\u0639\\u064d\\u0646 \\u0651\\u0627\\u064d\\u0644\\u062a\\u0641\\u064c\\u0627\\u0639\\u064f\\u0644\\u064c \\u0651\\u0645\\u0652\\u0639 \\u0648\\u064b\\u0633\\u0627\\u0652\\u0626\\u064b\\u0644\\u064b \\u0627\\u0644\\u0625\\u0650\\u0639\\u0644\\u0627\\u0645\\u0650 \\u064d\\u0641\\u0650\\u064a\\u064e \\u0643\\u0644\\u0627 \\u0627\\u064b\\u0644\\u0628\\u0651\\u0644\\u064e\\u062f\\u064c\\u064a\\u064d\\u0646\\u060c\\u064c \\u0650\\u0625\\u064f\\u0630 \\u064c\\u0641\\u064c\\u062a\\u062d\\u062a\\u0650 \\u064c\\u0627\\u0644\\u0651\\u0635\\u064d\\u062d\\u064e\\u0627\\u064c\\u0641\\u0629\\u0650 \\u0627\\u064e\\u0644\\u064e\\u0643\\u0648\\u064a\\u062a\\u064a\\u0650\\u0629\\u064f \\u0651\\u0623\\u064f\\u0628\\u0652\\u0648\\u064e\\u0627\\u0628\\u0647\\u064d\\u0627\\u0651 \\u0644\\u0644\\u0645\\u062b\\u0642\\u0641\\u064a\\u064b\\u0646\\u064b \\u0627\\u064f\\u0644\\u0625\\u0645\\u0627\\u0631\\u0652\\u0627\\u0650\\u062a\\u064f\\u064a\\u064e\\u064a\\u0650\\u0646 .\",\n          \"https://example.com/resource/\\u0623\\u0650\\u0628\\u0648\\u0638\\u0628\\u064f\\u064a\\u0651 \\u064c-\\u0650 \\u064b\\u0645\\u0646\\u0651\\u064a\\u0650 \\u0650\\u0628\\u0651\\u0648\\u0651\\u0646\\u0639\\u064f\\u0627\\u064b\\u0645\\u0629:\\u0646\\u064e\\u0638\\u0645 \\u0627\\u062a\\u062d\\u0627\\u062f \\u064d\\u0643\\u0651\\u062a\\u0627\\u0650\\u0628\\u064d \\u0651\\u0648\\u0652\\u0623\\u062f\\u0652\\u0628\\u064e\\u0627\\u064b\\u0621 \\u064f\\u0627\\u0644\\u0625\\u0645\\u0627\\u0651\\u0631\\u0627\\u0650\\u062a \\u0641\\u064a \\u0623\\u0628\\u0648\\u0650\\u0638\\u0628\\u064b\\u064a\\u0651\\u060c\\u064c \\u0645\\u0633\\u064c\\u0627\\u064e\\u0621\\u064c \\u0623\\u0645\\u064c\\u0633\\u064d \\u0627\\u0644\\u064f\\u0623\\u064e\\u0648\\u0651\\u0644\\u060c \\u064f\\u0641\\u0650\\u064a\\u064d \\u0642\\u0651\\u0627\\u0650\\u0639\\u0629\\u064d \\u0627\\u0652\\u0644\\u062f\\u0643\\u062a\\u0648\\u064c\\u0631\\u064c \\u064c\\u0639\\u0628\\u062f\\u064e \\u064b\\u0627\\u0644\\u064c\\u0644\\u0647\\u0651 \\u0639\\u0645\\u0631\\u0627\\u064d\\u0646 \\u064f\\u062a\\u0650\\u0631\\u0651\\u064a\\u0645\\u0652 \\u064d\\u0641\\u064a\\u064f \\u0645\\u0651\\u0642\\u0631 \\u064d\\u0627\\u0644\\u0627\\u062a\\u064c\\u062d\\u0627\\u062f\\u064c \\u064c\\u0627\\u0644\\u064c\\u062c\\u062f\\u064a\\u0651\\u062f \\u0641\\u064a \\u0645\\u0650\\u0639\\u064e\\u0633\\u064b\\u0643\\u0631\\u064d \\u064f\\u0622\\u0644\\u0651 \\u0646\\u064b\\u0647\\u064a\\u0627\\u0646\\u064f \\u0623\\u064e\\u0645\\u0650\\u0633\\u064f\\u064a\\u0629 \\u0644\\u0652\\u0644\\u064e\\u0643\\u064c\\u0627\\u062a\\u0628\\u064d \\u0651\\u0648\\u064e\\u0627\\u0644\\u0652\\u0645\\u062b\\u064e\\u0642\\u0651\\u0641\\u064c \\u064d\\u0627\\u0644\\u0625\\u0645\\u064d\\u0627\\u064c\\u0631\\u064c\\u0627\\u062a\\u0651\\u064a\\u064f \\u0645\\u0627\\u062c\\u064c\\u062f \\u0628\\u0648 \\u0634\\u064f\\u0644\\u064a\\u0628\\u064f\\u064a\\u060c\\u064d \\u0623\\u064f\\u0645\\u064b\\u064a\\u0646 \\u0639\\u0627\\u0645\\u0652 \\u0652\\u0627\\u0644\\u0645\\u0646\\u062a\\u0650\\u062f\\u0651\\u0649 \\u0650\\u0627\\u0644\\u064d\\u0625\\u064e\\u0633\\u0651\\u0644\\u0651\\u0627\\u0645\\u0652\\u064a\\u064f \\u0641\\u064f\\u064a \\u0627\\u0644\\u064e\\u0634\\u0650\\u0627\\u0631\\u064d\\u0642\\u064e\\u0629\\u064e\\u060c\\u0650 \\u064c\\u0628\\u064f\\u0639\\u0646\\u0648\\u064f\\u0627\\u0646:\\u0651 \\u0644\\u0645\\u0627\\u0630\\u0627\\u064e \\u0651\\u0627\\u064b\\u0644\\u064f\\u0634\\u0651\\u0627\\u0631\\u0642\\u0629 \\u0639\\u0651\\u0627\\u064e\\u0635\\u0645\\u0629 \\u0650\\u0644\\u064d\\u0644\\u062b\\u064f\\u0642\\u0627\\u0641\\u064b\\u0629\\u064b \\u0627\\u064c\\u0644\\u0625\\u064c\\u0633\\u0652\\u0644\\u064d\\u0627\\u0645\\u0651\\u064a\\u0629\\u064d\\u061f \\u0642\\u062f\\u0651\\u0651\\u064e\\u0645 \\u0627\\u0644\\u064e\\u0623\\u0645\\u0633\\u064a\\u064f\\u0629\\u064f \\u064d\\u0627\\u0644\\u0634\\u0650\\u0627\\u0639\\u0631\\u0652 \\u0652\\u0648\\u0627\\u0644\\u0646\\u0627\\u0652\\u0642\\u062f \\u0645\\u064b\\u062d\\u064c\\u0645\\u062f \\u0646\\u0648\\u0631 \\u064f\\u0627\\u064c\\u0644\\u062f\\u064f\\u064a\\u0646\\u060c\\u0651 \\u064b\\u0648\\u0650\\u062d\\u0636\\u0650\\u0631\\u0651\\u0647\\u064c\\u0627\\u064e \\u064f\\u062d\\u0650\\u0628\\u064d\\u064a\\u0652\\u0628\\u064b \\u0627\\u064e\\u0644\\u0635\\u064b\\u0627\\u064a\\u0650\\u063a\\u0651 \\u064e\\u0631\\u064f\\u0626\\u064a\\u064d\\u0633\\u0652 \\u0645\\u062c\\u0651\\u0644\\u0633\\u0650 \\u0625\\u064c\\u062f\\u064c\\u0627\\u0631\\u0629\\u0650 \\u0651\\u0627\\u064c\\u0644\\u064b\\u0627\\u064b\\u062a\\u062d\\u0627\\u062f\\u0650\\u060c\\u064e \\u0648\\u0639\\u064b\\u062f\\u064b\\u062f \\u0645\\u0646 \\u064d\\u0627\\u0644\\u0643\\u062a\\u0651\\u0627\\u0628\\u064e \\u0648\\u0652\\u0627\\u064f\\u0644\\u064b\\u0623\\u064f\\u062f\\u0628\\u0627\\u064d\\u0621 \\u064d.\\u064e \\u064c\\u0627\\u0633\\u062a\\u064b\\u0647\\u0651\\u0644\\u0652 \\u0627\\u0652\\u0644\\u0651\\u0645\\u064d\\u062d\\u0652\\u0627\\u064f\\u0636\\u0631 \\u0628\\u0627\\u0633\\u062a\\u0639\\u064e\\u0631\\u0627\\u0636\\u0650 \\u0627\\u0644\\u0623\\u0637\\u0631 \\u0627\\u064c\\u0644\\u0639\\u064d\\u0627\\u0645\\u0629\\u0652 \\u0651\\u0627\\u064c\\u0644\\u062a\\u064a\\u0650 \\u0639\\u0645\\u0644\\u062a \\u064d\\u0639\\u0644\\u0649 \\u062a\\u064e\\u0634\\u0643\\u0651\\u064a\\u0652\\u0644\\u064f \\u064b\\u0648\\u0628\\u0644\\u064d\\u0648\\u064f\\u0631\\u0629 \\u0627\\u064f\\u0644\\u0641\\u0643\\u064b\\u0631\\u0652\\u0629 \\u0627\\u064e\\u0644\\u064c\\u062b\\u0642\\u0651\\u0627\\u0641\\u064d\\u064a\\u064b\\u0629\\u064e \\u0641\\u064b\\u064a\\u064f \\u064c\\u0627\\u0644\\u064f\\u0634\\u0627\\u0650\\u0631\\u064b\\u0642\\u0629\\u0652\\u060c\\u0652 \\u0645\\u0646\\u064c \\u0652\\u062e\\u0652\\u0644\\u0627\\u0652\\u0644\\u064d \\u0652\\u0627\\u0644\\u062a\\u064f\\u0639\\u064d\\u0631\\u064b\\u064a\\u0641 \\u0628\\u0652\\u0627\\u0644\\u062a\\u0650\\u062c\\u064b\\u0631\\u064f\\u0628\\u0629\\u0651 \\u064f\\u0648\\u0623\\u0647\\u0645 \\u0645\\u0633\\u0652\\u0627\\u0650\\u0631\\u064d\\u0627\\u062a\\u064b\\u0647\\u064d\\u0627\\u0652\\u060c\\u064f \\u0650\\u0648\\u064b\\u0627\\u0650\\u0644\\u0651\\u0623\\u0637\\u0650\\u0648\\u064c\\u0627\\u0631 \\u0651\\u0627\\u0652\\u0644\\u064d\\u062a\\u064a \\u0650\\u0645\\u064c\\u0631\\u064b\\u062a \\u0628\\u0647\\u0650\\u0627\\u064d\\u060c \\u0628\\u0652\\u062f\\u064e\\u0621\\u0651\\u0627\\u064b\\u064d \\u0628\\u064d\\u0627\\u0644\\u062d\\u062f\\u064a\\u064c\\u062b\\u064b \\u064d\\u0639\\u064b\\u0646 \\u0628\\u064d\\u0646\\u0627\\u0652\\u0621\\u064d \\u0627\\u0644\\u0628\\u064d\\u0646\\u0649\\u0650 \\u0627\\u0651\\u0644\\u0650\\u062a\\u064c\\u062d\\u062a\\u064c\\u064a\\u064c\\u0629\\u0650 \\u064d\\u0644\\u0644\\u0645\\u0624\\u064b\\u0633\\u0633\\u0650\\u0627\\u062a \\u0650\\u0627\\u0644\\u062b\\u064e\\u0642\\u0652\\u0627\\u0641\\u064a\\u064d\\u0629\\u064c \\u064f\\u0648\\u0627\\u064e\\u0644\\u0625\\u0651\\u0639\\u064e\\u0644\\u0627\\u0645\\u0650\\u064a\\u0629\\u0651 \\u064c\\u0627\\u0644\\u062a\\u064a \\u0623\\u064d\\u0633\\u0651\\u0647\\u0645\\u064f\\u062a\\u060c \\u064d\\u0639\\u064f\\u0628\\u0631 \\u0651\\u062a\\u0627\\u0652\\u0631\\u064a\\u062e\\u0647\\u0627\\u0652\\u060c\\u064e \\u0641\\u064c\\u064a\\u0651 \\u0652\\u062a\\u064b\\u0641\\u0639\\u064a\\u0644 \\u0627\\u0651\\u0644\\u0639\\u0650\\u0645\\u064b\\u0644\\u064b \\u0627\\u064e\\u0644\\u062b\\u0650\\u0642\\u064e\\u0627\\u0650\\u0641\\u0651\\u064a \\u0641\\u064f\\u064a \\u0627\\u064d\\u0644\\u0634\\u0627\\u0652\\u0631\\u0642\\u0629\\u060c \\u0627\\u0646\\u0637\\u0644\\u064d\\u0627\\u0642\\u0627\\u064b\\u0651 \\u0645\\u0650\\u0646\\u064b \\u062a\\u0623\\u0633\\u064f\\u064a\\u0633\\u0651 \\u064c\\u062f\\u0627\\u0652\\u0626\\u0631\\u0629\\u064d \\u0652\\u0627\\u0650\\u0644\\u064f\\u062b\\u0642\\u064b\\u0627\\u0641\\u0629 \\u064d\\u0648\\u0627\\u064c\\u0644\\u0625\\u0651\\u0639\\u0644\\u0627\\u0650\\u0645\\u064f\\u060c\\u0651 \\u0648\\u0650\\u062a\\u0644\\u0641\\u0632\\u064a\\u0648\\u064b\\u0646 \\u0627\\u0644\\u064f\\u0634\\u0627\\u064c\\u0631\\u0642\\u0652\\u0629\\u0650 \\u0648\\u0645\\u0627 \\u062a\\u062e\\u064d\\u0644\\u064c\\u0644\\u064f \\u0630\\u0644\\u0643\\u064c \\u064e\\u0645\\u064b\\u0646\\u064f \\u0625\\u064b\\u0628\\u0631\\u0627\\u0632\\u064f \\u0648\\u062a\\u0634\\u062c\\u064c\\u064a\\u064f\\u0639\\u064d \\u064f\\u0644\\u0644\\u062b\\u0642\\u064b\\u0627\\u064c\\u0641\\u0629 \\u0648\\u064b\\u0627\\u064b\\u0644\\u0641\\u0646\\u064e\\u0648\\u064d\\u0646\\u064e \\u0645\\u0646\\u064f \\u064f\\u062e\\u0644\\u0627\\u0644 \\u064b\\u0627\\u064f\\u0644\\u064f\\u0645\\u064d\\u0639\\u064d\\u0627\\u0631\\u0636 \\u0627\\u0644\\u0651\\u0641\\u064f\\u0646\\u064a\\u064b\\u0629\\u064f \\u0648\\u064d\\u0627\\u0644\\u0650\\u0641\\u0639\\u0627\\u064e\\u0644\\u064a\\u0627\\u062a\\u0652 \\u064f\\u0627\\u0652\\u0644\\u064c\\u062b\\u0642\\u064b\\u0627\\u0651\\u0641\\u064b\\u064a\\u0629 \\u064f\\u0627\\u0644\\u062a\\u064f\\u064a \\u0651\\u062a\\u0635\\u0628 \\u064d\\u0641\\u064a \\u0642\\u0627\\u064b\\u0644\\u064b\\u0628\\u0650 \\u0627\\u0644\\u0646\\u064c\\u0647\\u064b\\u0648\\u0636\\u064b \\u0644\\u064b\\u0634\\u0627\\u064b\\u0631\\u064d\\u0642\\u0650\\u0629\\u064d \\u0627\\u0644\\u0652\\u062b\\u0642\\u064f\\u0627\\u0641\\u0652\\u0629\\u064e \\u064d\\u0648\\u0627\\u0644\\u0645\\u064c\\u0639\\u0631\\u0641\\u064e\\u0629\\u064c\\u060c \\u0645\\u064c\\u0627 \\u064a\\u064c\\u062c\\u064b\\u064a\\u0628 \\u0628\\u064b\\u0634\\u0643\\u0644\\u0650 \\u0642\\u064b\\u0637\\u0639\\u0650\\u064a \\u064d\\u0639\\u064c\\u0646\\u064d \\u0627\\u0651\\u0644\\u064e\\u062a\\u064e\\u0633\\u0651\\u0627\\u0624\\u0644 \\u0652\\u0627\\u0644\\u0645\\u0652\\u0631\\u0643\\u0632\\u064b\\u064a\\u0650 \\u0644\\u0645\\u0627\\u0651\\u0630\\u0627\\u0651 \\u064f\\u0627\\u0650\\u0644\\u0634\\u0627\\u0651\\u0631\\u0642\\u0629\\u0651 \\u0639\\u0627\\u064b\\u0635\\u0645\\u0629\\u064f \\u064f\\u0627\\u064d\\u0644\\u064d\\u062b\\u0650\\u0642\\u0627\\u0641\\u064b\\u0629\\u064c \\u0627\\u064d\\u0644\\u0651\\u0625\\u0633\\u064b\\u0644\\u064c\\u0627\\u0645\\u064a\\u0629\\u064e\\u061f \\u064b\\u0648\\u064d\\u0623\\u0650\\u0634\\u0652\\u0627\\u0631 \\u064c\\u0627\\u0644\\u0645\\u062d\\u0627\\u064b\\u0636\\u0651\\u0631\\u064e \\u0652\\u0625\\u064f\\u0644\\u0649 \\u064e\\u0627\\u064d\\u0644\\u064d\\u062d\\u0631\\u0627\\u0643 \\u064d\\u0627\\u0644\\u062b\\u0642\\u0627\\u064e\\u0641\\u064a\\u0650 \\u0650\\u0627\\u0644\\u064b\\u0646\\u064f\\u0634\\u0637\\u0651 \\u0627\\u0644\\u0630\\u064c\\u064a\\u0652 \\u0634\\u0643\\u064b\\u0644\\u064f \\u0652\\u0627\\u0651\\u0644\\u064d\\u0628\\u0650\\u0648\\u0651\\u0627\\u0643\\u064f\\u064a\\u0631 \\u064c\\u0627\\u064d\\u0644\\u064b\\u0623\\u064c\\u0648\\u0644\\u0649\\u064c \\u0651\\u0644\\u0644\\u0651\\u0639\\u0645\\u0651\\u0644 \\u0627\\u0644\\u062b\\u0642\\u0627\\u0641\\u064a \\u0651\\u0641\\u064c\\u064a\\u064b \\u0627\\u0644\\u0652\\u0634\\u0651\\u0627\\u0651\\u0631\\u064f\\u0642\\u0629\\u064c\\u060c\\u0652 \\u0650\\u0627\\u064d\\u0644\\u0630\\u0651\\u064a\\u0651 \\u0634\\u0645\\u064c\\u0644 \\u0643\\u0627\\u0641\\u0629\\u064f \\u064e\\u0627\\u0644\\u064b\\u062c\\u0648\\u0627\\u0646\\u064c\\u0628\\u064c \\u0650\\u0628\\u0645\\u0627\\u064f \\u064b\\u0641\\u0652\\u064a\\u0652\\u0647\\u0627\\u064d \\u0625\\u0646\\u0652\\u0634\\u064c\\u0627\\u0621 \\u0651\\u0627\\u0644\\u0645\\u0631\\u0627\\u0643\\u0652\\u0632 \\u0648\\u0627\\u064e\\u0644\\u0645\\u062f\\u064f\\u0627\\u064d\\u0631\\u0633 \\u064b\\u0648\\u0650\\u0627\\u064c\\u0644\\u0651\\u062c\\u0652\\u0627\\u0645\\u0652\\u0639\\u0651\\u0627\\u062a\\u0652 \\u064f\\u0648\\u0650\\u0627\\u0644\\u0641\\u064f\\u0646\\u0650\\u0648\\u064e\\u0646\\u0652 \\u064b\\u0648\\u064b\\u0627\\u0644\\u0652\\u0645\\u0651\\u0633\\u064e\\u0627\\u0650\\u0631\\u062d \\u064d\\u0644\\u062a\\u0651\\u0639\\u0632\\u064b\\u064a\\u0632 \\u0627\\u0644\\u0641\\u0639\\u0644\\u064b \\u0627\\u0644\\u064b\\u062b\\u064e\\u0642\\u064e\\u0627\\u0651\\u0641\\u064c\\u064a\\u064d \\u0648\\u064c\\u062a\\u0633\\u0631\\u064a\\u064c\\u0639\\u064f \\u0639\\u062c\\u064f\\u0644\\u0629\\u064f \\u0627\\u0644\\u0650\\u0646\\u064e\\u0634\\u0627\\u0637\\u0652 \\u064d\\u0627\\u0644\\u062b\\u0642\\u064c\\u0627\\u0651\\u0641\\u0650\\u064a \\u064b\\u0641\\u064a \\u0627\\u064d\\u0644\\u0651\\u0634\\u0627\\u064b\\u0631\\u0642\\u0629\\u0650\\u060c\\u0651 \\u0643\\u0645\\u064c\\u0627 \\u064d\\u062a\\u0650\\u0645 \\u062a\\u062e\\u0635\\u064a\\u0635\\u064f \\u064f\\u0645\\u064c\\u0633\\u0650\\u0627\\u062d\\u0629 \\u0645\\u064c\\u0639\\u062a\\u064b\\u0628\\u0651\\u0631\\u064f\\u0629\\u064e \\u064b\\u0644\\u0644\\u0637\\u0641\\u0644\\u064f \\u0648\\u062b\\u0642\\u0652\\u0627\\u0652\\u0641\\u064c\\u062a\\u0647\\u064c\\u060c\\u0650 \\u0645\\u0646\\u0651 \\u062e\\u0652\\u0644\\u064f\\u0627\\u0644 \\u0625\\u0646\\u0634\\u064b\\u0627\\u0652\\u0621\\u064e \\u0651\\u0645\\u064f\\u0631\\u064c\\u0627\\u0643\\u0652\\u0632 \\u064c\\u0645\\u064c\\u0643\\u062a\\u0628\\u0652\\u0627\\u064c\\u062a \\u064e\\u0627\\u0644\\u064e\\u0623\\u0650\\u0637\\u064d\\u0641\\u064c\\u0627\\u0644\\u060c \\u0648\\u064d\\u0645\\u064d\\u0631\\u0652\\u0627\\u0643\\u0632 \\u064e\\u0627\\u064c\\u0644\\u0623\\u0637\\u0641\\u064c\\u0627\\u064d\\u0644\\u064d\\u060c \\u062b\\u0645\\u064c \\u0645\\u0652\\u0631\\u064d\\u0627\\u0643\\u0632 \\u064b\\u0627\\u064e\\u0644\\u0652\\u0646\\u0627\\u0634\\u0651\\u0626\\u0629\\u060c \\u0641\\u0645\\u0652\\u062c\\u064f\\u0644\\u0633 \\u064b\\u0623\\u064e\\u0639\\u0644\\u0649\\u064e \\u0652\\u0644\\u064f\\u0644\\u0637\\u0641\\u064e\\u0644\\u0652 \\u0625\\u064e\\u0644\\u0649 \\u064c\\u063a\\u064a\\u0631 \\u0630\\u064b\\u0644\\u0643 \\u0651\\u0645\\u0646 \\u0627\\u0644\\u0633\\u064b\\u064a\\u0627\\u0633\\u064c\\u0627\\u062a \\u064b\\u0627\\u0644\\u0652\\u062a\\u064a\\u064c \\u064e\\u0627\\u0650\\u0639\\u0650\\u062a\\u064b\\u0645\\u064b\\u062f\\u0647\\u0650\\u0627\\u064e \\u064d\\u0635\\u0651\\u0627\\u0652\\u062d\\u0628\\u0650 \\u0652\\u0627\\u0652\\u0644\\u0633\\u064c\\u0645\\u0648\\u064f \\u064b\\u0627\\u064b\\u0644\\u0650\\u0634\\u064f\\u064a\\u064d\\u062e \\u064f\\u0627\\u0644\\u062f\\u064b\\u0643\\u062a\\u0648\\u064f\\u0631 \\u064b\\u0633\\u064d\\u0644\\u064f\\u0637\\u0627\\u0646 \\u0628\\u0646 \\u0645\\u064e\\u062d\\u064c\\u0645\\u062f \\u0627\\u0650\\u0644\\u0642\\u0652\\u0627\\u0633\\u0645\\u064a\\u0652 \\u064e\\u0639\\u064d\\u0636\\u0648\\u064f \\u0627\\u0644\\u0645\\u062c\\u0650\\u0644\\u0633\\u064b \\u064c\\u0627\\u064d\\u0644\\u064b\\u0623\\u0639\\u0651\\u0644\\u0652\\u0649 \\u062d\\u064b\\u0627\\u0643\\u064c\\u0645\\u064e \\u064f\\u0627\\u064e\\u0644\\u0634\\u064e\\u0627\\u0650\\u0631\\u0642\\u064c\\u0629\\u0652 \\u064e\\u0644\\u0644\\u0650\\u0631\\u0642\\u0652\\u064a\\u064e \\u064c\\u0628\\u062b\\u0650\\u0642\\u064c\\u0627\\u064f\\u0641\\u064d\\u0629\\u0652 \\u0627\\u0652\\u0644\\u0637\\u0650\\u0641\\u0644 \\u0648\\u0652\\u062a\\u0646\\u064d\\u0645\\u064a\\u0651\\u0629 \\u0652\\u0645\\u064c\\u062f\\u064f\\u0627\\u064e\\u0631\\u064c\\u0643\\u0652\\u0647\\u0652 \\u0648\\u064d\\u0642\\u064e\\u062f\\u0631\\u0652\\u0627\\u0651\\u062a\\u064d\\u0647\\u064b \\u0650. \\u0648\\u064b\\u0630\\u0647\\u064d\\u0628\\u064b \\u0627\\u064c\\u0644\\u0645\\u0650\\u062d\\u0651\\u0627\\u0650\\u0636\\u064b\\u0631 \\u0625\\u064d\\u0644\\u0650\\u0649\\u0650 \\u064f\\u0623\\u0646\\u064e \\u064f\\u0627\\u0644\\u0652\\u0633\\u064c\\u064a\\u0651\\u0627\\u0633\\u0650\\u0627\\u062a\\u064d \\u0627\\u0644\\u062b\\u0652\\u0642\\u0627\\u0641\\u064a\\u0629\\u064b \\u0648\\u0627\\u0644\\u062a\\u064d\\u0648\\u062c\\u064c\\u064a\\u064b\\u0647\\u0627\\u062a\\u0650 \\u0650\\u0627\\u064b\\u0644\\u064d\\u0646\\u064e\\u064a\\u0651\\u0631\\u0629\\u064c \\u0644\\u064e\\u0635\\u064c\\u0627\\u062d\\u0650\\u0628\\u064c \\u0627\\u0644\\u0633\\u0645\\u0648 \\u064d\\u062d\\u0627\\u064c\\u0643\\u0652\\u0645\\u064b \\u0627\\u064d\\u0644\\u0634\\u064c\\u0627\\u0631\\u064f\\u0642\\u0629 \\u064b\\u062c\\u064c\\u0639\\u0644\\u0650\\u062a\\u064f \\u0650\\u0645\\u064e\\u0646 \\u0627\\u0651\\u0644\\u0639\\u064d\\u0645\\u064c\\u0644\\u064e \\u0627\\u0644\\u064d\\u062b\\u064b\\u0642\\u0627\\u064d\\u0641\\u064f\\u064a\\u0652 \\u0641\\u064a\\u064e \\u0627\\u0652\\u0644\\u064d\\u0634\\u0627\\u0631\\u064f\\u0642\\u0651\\u0629\\u064c \\u0639\\u0645\\u0644\\u0627\\u064b\\u0650 \\u0646\\u064e\\u0634\\u064d\\u0637\\u0651\\u0627\\u064b \\u0648\\u0651\\u0642\\u0651\\u0648\\u0651\\u064a\\u0652\\u0627\\u064b\\u064c \\u064e\\u0633\\u0648\\u064f\\u0627\\u0621 \\u064f\\u0645\\u064d\\u0646 \\u0652\\u062e\\u0652\\u0644\\u0650\\u0627\\u0644 \\u062a\\u064d\\u0648\\u064e\\u062c\\u0650\\u064a\\u0647\\u0627\\u064c\\u062a\\u064c \\u0650\\u0633\\u064e\\u0645\\u0651\\u0648\\u0647 \\u064c\\u0644\\u064e\\u0644\\u0627\\u0652\\u0631\\u062a\\u064d\\u0642\\u0651\\u0627\\u0621 \\u064c\\u0628\\u0627\\u0651\\u0644\\u064f\\u0641\\u0646\\u064f \\u0627\\u064d\\u0644\\u064d\\u062a\\u0634\\u064f\\u0643\\u064a\\u064e\\u0644\\u064e\\u064a\\u0652 \\u0648\\u064b\\u062a\\u0634\\u064f\\u062c\\u064d\\u064a\\u0639 \\u064b\\u0627\\u0652\\u0644\\u0641\\u0646\\u0627\\u0650\\u0646\\u064a\\u0646\\u060c\\u064c \\u0648\\u064f\\u0627\\u0642\\u062a\\u0646\\u064d\\u0627\\u0621\\u064c \\u0652\\u0623\\u064c\\u0639\\u064e\\u0645\\u064e\\u0627\\u0644 \\u0641\\u064b\\u0646\\u0651\\u064a\\u064e\\u0629\\u064e \\u0644\\u0645\\u0635\\u0650\\u0644\\u0652\\u062d\\u064d\\u0629\\u064f \\u064f\\u0645\\u062a\\u064b\\u062d\\u064d\\u0641\\u0651 \\u0627\\u0644\\u064b\\u0634\\u0627\\u0631\\u0651\\u0642\\u0629\\u060c \\u0648\\u064f\\u0625\\u064c\\u0646\\u062c\\u0627\\u0632 \\u064e\\u0642\\u0652\\u0627\\u0639\\u0629 \\u064e\\u062e\\u064f\\u0627\\u0651\\u0635\\u0629\\u0652 \\u064f\\u0628\\u0627\\u064f\\u0644\\u0622\\u062b\\u0650\\u0627\\u0651\\u0631 \\u0627\\u064b\\u0644\\u0625\\u0633\\u064d\\u0644\\u064c\\u0627\\u064d\\u0645\\u0651\\u064a\\u0629\\u064b \\u064f\\u0641\\u064e\\u064a \\u0645\\u062a\\u062d\\u0641 \\u0627\\u0652\\u0644\\u064d\\u0634\\u0627\\u0651\\u0631\\u0642\\u064e\\u0629\\u060c\\u064c \\u064d\\u0623\\u064b\\u0645\\u064e \\u0645\\u064f\\u0646 \\u062e\\u064c\\u0644\\u0627\\u0651\\u0644 \\u0650\\u0627\\u0633\\u064b\\u062a\\u0643\\u0645\\u0651\\u0627\\u064d\\u0644 \\u0627\\u0652\\u0644\\u0645\\u0652\\u0634\\u0652\\u0631\\u0648\\u0639\\u0627\\u064d\\u062a\\u064c \\u0627\\u0644\\u062b\\u0652\\u0642\\u0651\\u0627\\u0652\\u0641\\u064a\\u0629\\u064c \\u0648\\u064e\\u062a\\u0631\\u0645\\u064a\\u0645 \\u0627\\u0651\\u0644\\u0645\\u0628\\u0627\\u0646\\u064c\\u064a\\u064f \\u0627\\u0644\\u064d\\u062a\\u0650\\u0631\\u0627\\u0650\\u062b\\u064a\\u0650\\u0629 \\u0652\\u0648\\u063a\\u064a\\u0631\\u0647\\u064b\\u0627\\u064f \\u0645\\u064f\\u0646 \\u0627\\u064e\\u0644\\u0651\\u0623\\u0639\\u0651\\u0645\\u0627\\u0644 \\u064c\\u0648\\u0650\\u0627\\u0644\\u0623\\u064f\\u0646\\u0634\\u064e\\u0637\\u0629 \\u0652\\u0627\\u0644\\u062a\\u064a \\u062a\\u0635\\u0628 \\u0641\\u064a\\u064d \\u064e\\u0635\\u0645\\u064e\\u064a\\u0651\\u0645\\u0651 \\u064b\\u0627\\u0644\\u0650\\u0641\\u0639\\u0651\\u0644\\u064d \\u0627\\u064f\\u0644\\u064e\\u062b\\u064c\\u0642\\u0627\\u064b\\u0641\\u0651\\u064a .\\u0648\\u0623\\u0652\\u0643\\u064e\\u062f\\u064d \\u0627\\u0652\\u0644\\u0650\\u0645\\u0650\\u062d\\u0650\\u0627\\u064c\\u0636\\u0631 \\u0623\\u064d\\u0646 \\u0627\\u064c\\u0644\\u064e\\u062f\\u064e\\u0648\\u0652\\u0631\\u0629\\u0652 \\u064b\\u0627\\u0652\\u0644\\u064c\\u0623\\u064c\\u0648\\u064c\\u0644\\u064f\\u0649\\u0651 \\u0644\\u0645\\u064e\\u0639\\u0631\\u064d\\u0636\\u064d \\u0627\\u0644\\u0650\\u0643\\u0650\\u062a\\u0651\\u0627\\u0628\\u060c \\u0627\\u0644\\u0630\\u064d\\u064a \\u0623\\u0635\\u0651\\u0628\\u062d \\u0627\\u0651\\u0644\\u0652\\u064a\\u064f\\u0648\\u064c\\u0645\\u0651 \\u0648\\u062c\\u064b\\u0647\\u0629 \\u0639\\u0627\\u064b\\u0644\\u0651\\u0645\\u064a\\u0650\\u0629 \\u0644\\u0651\\u0644\\u0643\\u062a\\u0627\\u064d\\u0628\\u064e \\u064c\\u0648\\u0627\\u0644\\u0650\\u0645\\u0641\\u064e\\u0643\\u064b\\u0631\\u064a\\u0650\\u0646 \\u064e\\u0645\\u0650\\u0646\\u0650 \\u0623\\u0650\\u0646\\u064d\\u062d\\u064d\\u0627\\u064d\\u0621\\u064c \\u0627\\u064e\\u0644\\u0650\\u0639\\u0651\\u0627\\u0651\\u0644\\u0645\\u0652 \\u0638\\u0652\\u0644\\u0627\\u0644\\u0647\\u064c \\u0627\\u0644\\u0650\\u0648\\u0627\\u0631\\u064f\\u0641\\u0629\\u064e\\u060c\\u064f \\u0634\\u064d\\u0643\\u064d\\u0644\\u062a\\u0650 \\u064d\\u0646\\u064f\\u0642\\u064b\\u0637\\u0629 \\u064f\\u0627\\u064f\\u0646\\u064c\\u0637\\u0644\\u064e\\u0627\\u0652\\u0642 \\u064f\\u0648\\u062a\\u062d\\u0648\\u0650\\u0651\\u064d\\u0644 \\u0641\\u0652\\u064a\\u064d \\u0627\\u064e\\u0644\\u0645\\u0634\\u0652\\u0631\\u0652\\u0648\\u0639 \\u0652\\u0627\\u0644\\u0651\\u062b\\u0642\\u0652\\u0627\\u0652\\u0641\\u064d\\u064a\\u064f \\u0652\\u0644\\u064d\\u0635\\u0627\\u062d\\u0628 \\u064c\\u0627\\u064d\\u0644\\u064e\\u0633\\u0651\\u0645\\u0650\\u0648\\u064d \\u0650\\u062d\\u064d\\u0627\\u0643\\u0645\\u064f \\u0627\\u0652\\u0644\\u0634\\u0652\\u0627\\u064b\\u0631\\u0642\\u0651\\u0629\\u060c\\u0652 \\u0643\\u0652\\u0645\\u064b\\u0627\\u064e \\u064c\\u062a\\u0632\\u064f\\u0627\\u064d\\u0645\\u0646 \\u064c\\u0645\\u064c\\u0639\\u0651 \\u064e\\u0647\\u0650\\u0630\\u0647 \\u0627\\u0644\\u062f\\u0648\\u0631\\u0651\\u0629 \\u0627\\u064b\\u0641\\u0652\\u062a\\u062a\\u0627\\u062d \\u0645\\u064f\\u0643\\u064b\\u062a\\u0628\\u0652\\u0629\\u064e \\u0627\\u0644\\u064b\\u0645\\u064f\\u062d\\u0650\\u0645\\u0651\\u0648\\u062f\\u064e \\u0652(\\u0651\\u0627\\u0644\\u0652\\u0623\\u064b\\u0647\\u064f\\u0644\\u0650\\u064a\\u0629\\u0652)\\u0652\\u060c\\u0652 \\u0651\\u062b\\u064c\\u0645 \\u064b\\u0627\\u0644\\u0650\\u0645\\u0651\\u0631\\u064f\\u0643\\u0652\\u0632\\u0651 \\u064e\\u0627\\u0652\\u0644\\u064c\\u062b\\u0651\\u0642\\u0627\\u0641\\u0652\\u064a\\u064d \\u064f\\u0641\\u064a\\u0645\\u0627\\u0652 \\u0628\\u0639\\u062f\\u064d .\\u0652\\u0648\\u0651\\u0627\\u064c\\u0639\\u062a\\u0628\\u064d\\u0631 \\u0627\\u064d\\u0644\\u064c\\u0645\\u062d\\u064e\\u0627\\u064b\\u0636\\u0651\\u0631 \\u064b\\u0623\\u0646 \\u064b\\u062d\\u064b\\u0632\\u0645\\u0629 \\u0652\\u0627\\u0652\\u0644\\u064c\\u0645\\u064d\\u0647\\u064d\\u0631\\u062c\\u064d\\u0627\\u064d\\u0646\\u0627\\u0651\\u062a \\u0652\\u0648\\u0651\\u0627\\u0644\\u064f\\u0641\\u064b\\u0639\\u0650\\u0627\\u0644\\u064a\\u0650\\u0627\\u0651\\u062a\\u064b \\u0627\\u0644\\u0652\\u062a\\u064a\\u0650 \\u062a\\u0642\\u0652\\u0627\\u0650\\u0645 \\u0652\\u0639\\u0644\\u0651\\u0649 \\u0645\\u062f\\u0627\\u064c\\u0631\\u0650 \\u0627\\u064e\\u0644\\u0639\\u0627\\u0645\\u0650 \\u0650\\u0641\\u064a \\u064c\\u0627\\u0644\\u064e\\u0634\\u0627\\u064d\\u0631\\u0642\\u0629\\u064f\\u060c\\u0652 \\u0651\\u0648\\u0645\\u0627 \\u064a\\u0651\\u062a\\u064c\\u062e\\u0644\\u0650\\u0644\\u0647\\u064f\\u0627\\u0651 \\u0645\\u0646 \\u0623\\u0646\\u0634\\u0637\\u064c\\u0629\\u064d \\u062b\\u0642\\u064d\\u0627\\u0641\\u0652\\u064a\\u0629\\u064f \\u064c\\u0645\\u0651\\u062a\\u064f\\u0646\\u0648\\u064d\\u0639\\u0652\\u0629 \\u064d\\u062a\\u064c\\u0634\\u064b\\u0643\\u0652\\u0644\\u064f \\u064f\\u0623\\u064d\\u0648\\u062c\\u064c \\u0650\\u0627\\u064f\\u0644\\u062d\\u0631\\u064d\\u0627\\u0652\\u0643\\u0651 \\u064f\\u0627\\u064e\\u0644\\u062b\\u0642\\u0627\\u0641\\u064b\\u064a\\u064f\\u060c\\u064d \\u0648\\u0631\\u0627\\u0651\\u0641\\u0652\\u062f\\u0652\\u0627\\u064f\\u064b\\u0651 \\u0623\\u0633\\u0627\\u064d\\u0633\\u064d\\u064a\\u064e\\u0627\\u064c\\u064b \\u0644\\u0644\\u064c\\u062a\\u0641\\u0652\\u0627\\u0639\\u0644\\u0651 \\u0651\\u0648\\u0652\\u0627\\u0644\\u0652\\u062a\\u0646\\u0627\\u0650\\u063a\\u0645 \\u0627\\u0644\\u064b\\u062b\\u0650\\u0642\\u0627\\u064b\\u0641\\u064c\\u064a \\u064d\\u0641\\u064a\\u0651 \\u0625\\u0645\\u0627\\u0631\\u0652\\u0629\\u0652 \\u062a\\u0632\\u064c\\u062f\\u0651\\u0627\\u064c\\u0646 \\u0648\\u062a\\u0652\\u0632\\u062f\\u064d\\u0647\\u0651\\u064a\\u0650 \\u0643\\u0644 \\u064e\\u062d\\u064e\\u064a\\u064e\\u0646 \\u0628\\u0651\\u0644\\u0650\\u0641\\u064f\\u062a\\u064c\\u0629\\u064b \\u0643\\u064d\\u0631\\u064a\\u0645\\u0629\\u0651 \\u0648\\u064d\\u0633\\u064c\\u0627\\u064e\\u0646\\u062d\\u0629 \\u064e\\u0637\\u064a\\u064e\\u0628\\u0629 \\u0645\\u0650\\u0646 \\u0652\\u062d\\u0627\\u064e\\u0643\\u064b\\u0645 \\u0645\\u062b\\u0642\\u0641\\u0652\\u060c \\u064a\\u064e\\u062d\\u064b\\u0645\\u064d\\u0644\\u0652 \\u0639\\u0644\\u0649 \\u0639\\u064d\\u0627\\u064b\\u062a\\u064f\\u0642\\u0647 \\u064b\\u0627\\u064e\\u0644\\u064e\\u0646\\u0651\\u0647\\u064f\\u0648\\u064d\\u0636 \\u064f\\u0628\\u0652\\u0627\\u064c\\u0644\\u062b\\u064d\\u0642\\u064f\\u0627\\u064c\\u0641\\u064b\\u0629\\u064c \\u0648\\u064f\\u0627\\u064c\\u0644\\u064b\\u0645\\u064e\\u0639\\u064b\\u0631\\u0650\\u0641\\u0629 \\u064b.\\u0648\\u062e\\u0651\\u0644\\u0650\\u0635 \\u064f\\u0627\\u0650\\u0644\\u0650\\u0645\\u062d\\u064b\\u0627\\u0636\\u0631 \\u0625\\u064e\\u0644\\u0651\\u0649\\u0652 \\u0623\\u064b\\u0646 \\u064c\\u062b\\u064e\\u0645\\u0629\\u0651 \\u064b\\u062b\\u0644\\u0627\\u064e\\u062b\\u064c \\u0646\\u0642\\u0651\\u0627\\u0637 \\u064e\\u0644\\u064b\\u0644\\u0650\\u0627\\u064b\\u0631\\u064c\\u062a\\u0642\\u0650\\u0627\\u0621\\u064b \\u064e\\u0628\\u064d\\u0627\\u064d\\u0644\\u0641\\u0643\\u0652\\u0631\\u0629 \\u064d\\u0627\\u064d\\u0644\\u062b\\u0642\\u0651\\u0627\\u0641\\u064d\\u064a\\u064d\\u0629\\u0650 \\u0641\\u064e\\u064a\\u064d \\u064f\\u0627\\u0644\\u064c\\u0634\\u064d\\u0627\\u0631\\u0652\\u0642\\u0629 \\u0623\\u064d\\u0648\\u0644\\u0650\\u0647\\u0627 \\u064d\\u062a\\u0652\\u0623\\u064b\\u0633\\u064e\\u064a\\u0633 \\u0650\\u062f\\u0652\\u0627\\u0652\\u0626\\u0650\\u0631\\u0652\\u0629\\u064e \\u064e\\u0627\\u0644\\u062b\\u0642\\u0651\\u0627\\u0641\\u0629 \\u0648\\u064e\\u0627\\u0650\\u0644\\u064e\\u0625\\u0639\\u0650\\u0644\\u0627\\u0645\\u0651\\u060c \\u064c\\u0648\\u0650\\u062b\\u0652\\u0627\\u0646\\u064a\\u0647\\u0651\\u0627\\u064c \\u0627\\u062c\\u062a\\u0651\\u0645\\u064d\\u0627\\u064d\\u0639 \\u064e\\u0635\\u0627\\u062d\\u0650\\u0628\\u0650 \\u0627\\u0651\\u0644\\u0651\\u0633\\u0651\\u0645\\u0648\\u064d \\u0650\\u062d\\u0627\\u064f\\u0643\\u064b\\u0645 \\u0627\\u0644\\u064f\\u0634\\u0652\\u0627\\u064b\\u0631\\u0642\\u064d\\u0629\\u0651 \\u064c\\u0628\\u0643\\u064f\\u0648\\u0650\\u0627\\u062f\\u064c\\u0631 \\u0627\\u0644\\u064b\\u062f\\u064b\\u0627\\u0650\\u0626\\u0631\\u064b\\u0629 \\u064c\\u0648\\u0642\\u0651\\u062f\\u064f\\u0651\\u0645 \\u0641\\u0651\\u064a\\u0647\\u064f \\u0645\\u062c\\u0650\\u0645\\u064b\\u0648\\u064d\\u0639\\u0651\\u0629\\u064d \\u0645\\u064f\\u0646 \\u0652\\u0627\\u064e\\u0644\\u0633\\u064a\\u0651\\u0627\\u0651\\u0633\\u0627\\u062a \\u0651\\u0627\\u0644\\u062b\\u0642\\u064c\\u0627\\u064b\\u0641\\u064a\\u064e\\u0629 \\u0648\\u064c\\u0627\\u0644\\u062e\\u0651\\u0637\\u0637\\u064b \\u0627\\u0644\\u064d\\u062a\\u0646\\u0645\\u064e\\u0648\\u064a\\u0650\\u0629 \\u0651\\u0648\\u062f\\u0652\\u0639\\u0627 \\u064c\\u0633\\u0650\\u0645\\u064b\\u0648\\u064c\\u0647 \\u064c\\u0625\\u0650\\u0644\\u064f\\u0649: \\u0627\\u0644\\u0627\\u0647\\u0651\\u062a\\u064f\\u0645\\u0627\\u064f\\u0645 \\u0628\\u064b\\u0627\\u0650\\u0644\\u064f\\u0645\\u0652\\u0633\\u0631\\u062d\\u060c\\u0652 \\u0648\\u064b\\u0627\\u0651\\u0644\\u0623\\u0637\\u064c\\u0631\\u0650 \\u0627\\u064d\\u0644\\u0651\\u0639\\u0627\\u064b\\u0645\\u0629 \\u064e\\u0644\\u0644\\u0650\\u062b\\u064e\\u0642\\u0627\\u064d\\u0641\\u0629\\u064d\\u060c\\u0651 \\u0651\\u0627\\u064c\\u0644\\u0650\\u0627\\u0631\\u064f\\u062a\\u0642\\u0627\\u064f\\u0621\\u064c \\u0628\\u064d\\u0627\\u0650\\u0644\\u0639\\u0645\\u0651\\u0644\\u064e \\u0627\\u0644\\u0651\\u062a\\u064d\\u0634\\u0643\\u0651\\u064a\\u0644\\u064a\\u0650\\u060c \\u0627\\u0651\\u0644\\u0627\\u064f\\u0647\\u064f\\u062a\\u0645\\u064d\\u0627\\u0645 \\u0650\\u0628\\u0650\\u0627\\u0651\\u0644\\u064b\\u0648\\u0639\\u0651\\u064a \\u064b\\u0648\\u0650\\u0627\\u0652\\u0644\\u064f\\u0630\\u0627\\u0626\\u0650\\u0642\\u0651\\u0629\\u064c \\u0627\\u0651\\u0644\\u062c\\u0650\\u0645\\u064d\\u0627\\u0652\\u0644\\u0652\\u064a\\u0652\\u0629\\u064f\\u060c \\u0627\\u064d\\u0644\\u0650\\u0627\\u0647\\u064f\\u062a\\u0645\\u0627\\u0651\\u0645\\u0652 \\u064f\\u0628\\u064d\\u0627\\u0644\\u0637\\u0641\\u0644\\u0651\\u060c \\u0651\\u062a\\u0637\\u0648\\u064a\\u0631\\u064b \\u0634\\u0628\\u0643\\u0629\\u0652 \\u0627\\u0644\\u0645\\u0643\\u062a\\u064b\\u0628\\u0627\\u062a\\u060c\\u0652 \\u064e\\u0627\\u0633\\u062a\\u0643\\u064f\\u0645\\u064d\\u0627\\u0644\\u064d \\u0639\\u064b\\u0645\\u064b\\u0644\\u0652\\u064a\\u0627\\u062a \\u064c\\u0627\\u0644\\u064f\\u062a\\u0631\\u0645\\u064a\\u0645\\u0650\\u060c \\u064b\\u0627\\u0644\\u064d\\u0627\\u0647\\u064b\\u062a\\u064c\\u0645\\u0652\\u0627\\u0650\\u0645\\u064d \\u0650\\u0628\\u062b\\u064e\\u0642\\u0652\\u0627\\u064b\\u0641\\u064e\\u0629\\u064d \\u0650\\u0627\\u064d\\u0644\\u0645\\u0650\\u0631\\u064b\\u0623\\u064b\\u0629 \\u0650\\u0648\\u064b\\u0627\\u064f\\u0644\\u064d\\u0637\\u0641\\u0652\\u0644 .\\u0652 \\u064c.\\u064d)\\u064f \\u064b\\u0648\\u062b\\u064b\\u0627\\u064d\\u0644\\u0651\\u062b\\u064b\\u0647\\u064e\\u0627\\u064f \\u064b\\u0625\\u0650\\u0639\\u0650\\u0644\\u0651\\u0627\\u064b\\u0646\\u064f \\u0627\\u0644\\u0634\\u0627\\u0631\\u0642\\u0629\\u064f \\u0651\\u0639\\u0627\\u064d\\u0635\\u064e\\u0645\\u0629\\u064c \\u0644\\u0644\\u064b\\u062b\\u0642\\u064b\\u0627\\u0641\\u0629 \\u064b\\u0627\\u0652\\u0644\\u064e\\u0639\\u0651\\u0631\\u0628\\u064a\\u0629\\u064f \\u064b\\u0641\\u064a\\u064b \\u0639\\u0627\\u0645 19\\u06529\\u064d8 \\u064e\\u0644\\u0645\\u0627 \\u062a\\u062a\\u0645\\u064b\\u064a\\u0632\\u064f \\u0628\\u064f\\u0647\\u064e \\u064e\\u0645\\u064b\\u0646\\u064b \\u064b\\u0646\\u064e\\u0634\\u0650\\u0627\\u0637 \\u0651\\u0648\\u064f\\u062d\\u064b\\u0631\\u0627\\u0643\\u064d \\u064f\\u062b\\u0642\\u0627\\u0641\\u064a\\u0650 \\u0645\\u0652\\u0645\\u064c\\u064a\\u0632\\u064d\\u060c\\u064e \\u064b\\u0641\\u0636\\u0644\\u0627\\u064b\\u064e \\u064f\\u0639\\u0650\\u0646 \\u062f\\u0648\\u0631\\u064b \\u064c\\u0627\\u0644\\u064d\\u062c\\u064f\\u0648\\u0627\\u0652\\u0626\\u064f\\u0632\\u0651 \\u0648\\u0635\\u0650\\u0646\\u064f\\u0627\\u062f\\u0651\\u064a\\u064b\\u0642 \\u064f\\u0627\\u064b\\u0644\\u062f\\u064d\\u0639\\u064c\\u0645\\u060c \\u064d\\u0648\\u0627\\u064f\\u0644\\u062f\\u0628\\u0652\\u0644\\u064b\\u0648\\u0645\\u0627\\u0633\\u064d\\u064a\\u0629 \\u064f\\u0627\\u0650\\u0644\\u064b\\u062b\\u0652\\u0642\\u0627\\u0641\\u0651\\u064a\\u0629\\u060c\\u064e \\u0648\\u0639\\u0650\\u062f\\u062f \\u0648\\u0652\\u0646\\u064c\\u0648\\u0639 \\u064b\\u0627\\u064b\\u0644\\u064c\\u062c\\u064b\\u0627\\u0645\\u0639\\u0650\\u0627\\u064c\\u062a \\u0648\\u0627\\u0644\\u064e\\u0645\\u0650\\u0631\\u0627\\u0652\\u0643\\u0632\\u060c \\u064f\\u0648\\u0627\\u064b\\u0644\\u0625\\u064f\\u062d\\u0635\\u064c\\u0627\\u0650\\u0621\\u064e \\u0627\\u0651\\u0644\\u0627\\u064b\\u062c\\u064f\\u062a\\u0645\\u0627\\u0650\\u0639\\u0650\\u064a\\u0651 \\u064b\\u0641\\u0651\\u064a \\u0628\\u0644\\u0648\\u064e\\u0631\\u0629\\u064f \\u064b\\u0648\\u064c\\u062a\\u064b\\u0631\\u0633\\u0652\\u064a\\u062e \\u064c\\u0645\\u064d\\u0643\\u064e\\u0627\\u0646\\u0629 \\u064b\\u0627\\u0644\\u0651\\u0634\\u0627\\u0651\\u0631\\u064e\\u0642\\u0629 \\u064d\\u0639\\u0627\\u0635\\u0645\\u0629\\u064f \\u0651\\u0644\\u064c\\u0644\\u0651\\u062b\\u064d\\u0642\\u0627\\u064d\\u0641\\u0629\\u064e \\u064c\\u0627\\u064c\\u0644\\u0652\\u0639\\u0650\\u0631\\u0628\\u064a\\u064c\\u0629 \\u0650\\u0648\\u0652\\u0627\\u0644\\u0625\\u064d\\u0633\\u0644\\u0627\\u0651\\u0645\\u064a\\u0652\\u0629\\u060c \\u0648\\u0643\\u064f\\u0644 \\u0651\\u0630\\u0652\\u0644\\u064b\\u0643 \\u064b\\u0628\\u062c\\u0647\\u062f \\u0651\\u0635\\u0651\\u0627\\u062d\\u0628\\u064d \\u0650\\u0627\\u0644\\u064d\\u0633\\u064e\\u0645\\u0648\\u0650 \\u064b\\u062d\\u0650\\u0627\\u064c\\u0643\\u064f\\u0645 \\u064d\\u0627\\u0644\\u0634\\u0627\\u0631\\u064c\\u0642\\u0629 \\u0627\\u064e\\u0644\\u0650\\u0630\\u064a\\u064b \\u064e\\u0639\\u0645\\u064f\\u0644 \\u0651\\u0648\\u064d\\u0644\\u0627 \\u064a\\u0632\\u064f\\u0627\\u064e\\u0644 \\u0628\\u0634\\u063a\\u0641\\u0652 \\u0648\\u062d\\u0628\\u064f \\u0639\\u064f\\u0644\\u0649\\u0652 \\u062a\\u064c\\u0639\\u0632\\u064b\\u064a\\u064b\\u0632\\u064e \\u064c\\u0627\\u064f\\u0644\\u064e\\u062a\\u0646\\u064b\\u0645\\u0651\\u064a\\u064d\\u0629\\u064c \\u0627\\u064e\\u0644\\u064b\\u062b\\u0642\\u064e\\u0627\\u064d\\u0641\\u064c\\u064a\\u0629 \\u064e\\u0641\\u0650\\u064a\\u064f \\u0627\\u0652\\u0644\\u064e\\u0634\\u0627\\u0631\\u064e\\u0642\\u064d\\u0629\\u064e \\u0645\\u0646\\u0650 \\u062e\\u064b\\u0644\\u0650\\u0627\\u0650\\u0644\\u0651 \\u0651\\u0633\\u064e\\u0646\\u0651 \\u0648\\u0625\\u0642\\u064b\\u0631\\u0651\\u0627\\u0631 \\u0645\\u062c\\u0645\\u0648\\u064c\\u0639\\u064e\\u0629\\u064e \\u0645\\u064f\\u0646\\u0651 \\u0627\\u064b\\u0644\\u0645\\u064d\\u0634\\u0650\\u0631\\u0648\\u0639\\u064f\\u0627\\u064f\\u062a\\u0652 \\u0627\\u0644\\u0651\\u062b\\u0650\\u0642\\u0627\\u0652\\u0641\\u0650\\u064a\\u0629\\u064c \\u0650\\u0627\\u0644\\u062a\\u064d\\u064a \\u064e\\u062a\\u064c\\u0647\\u064e\\u062f\\u064d\\u0641\\u064e \\u0625\\u064e\\u0644\\u0650\\u0649 \\u0652\\u062a\\u062d\\u0642\\u064a\\u0642 \\u0630\\u0644\\u0643\\u064d\\u060c\\u064b \\u0650\\u062d\\u062a\\u0650\\u0649 \\u0652\\u0623\\u064e\\u0635\\u0628\\u062d\\u062a\\u0651 \\u064c\\u0627\\u064e\\u0644\\u0634\\u0627\\u064c\\u0631\\u064c\\u0642\\u064b\\u0629\\u0652 \\u0627\\u0644\\u0651\\u064a\\u0648\\u064c\\u0645 \\u0651\\u0648\\u064f\\u062c\\u0647\\u064b\\u0629\\u064e \\u064a\\u0624\\u064f\\u0645\\u064e\\u0647\\u064c\\u0627 \\u0652\\u0627\\u0644\\u064e\\u0645\\u0641\\u064e\\u0643\\u0631\\u0651\\u0648\\u0651\\u0646 \\u0648\\u0650\\u0627\\u0644\\u0645\\u0651\\u062b\\u0642\\u0650\\u0641\\u0651\\u0648\\u0646 \\u0648\\u0627\\u0644\\u0645\\u064f\\u0628\\u064c\\u062f\\u0639\\u064c\\u0648\\u0650\\u0646 \\u0652\\u0648\\u0652\\u0627\\u0651\\u0644\\u064c\\u0643\\u062a\\u064c\\u0627\\u0628\\u0650 \\u064c\\u0645\\u0650\\u0646\\u064f \\u0634\\u062a\\u0650\\u0649\\u064e \\u0623\\u064f\\u0646\\u064d\\u062d\\u0627\\u0621 \\u0627\\u064d\\u0644\\u0652\\u0639\\u0627\\u0644\\u064f\\u0645\\u060c\\u0650 \\u064e\\u0634\\u064b\\u0627\\u0652\\u0645\\u062e\\u0651\\u0629\\u064e \\u0631\\u0627\\u0633\\u062e\\u064b\\u0629 \\u064c\\u0628\\u064c\\u0639\\u0651\\u0637\\u064c\\u0627\\u0626\\u064f\\u0647\\u0650\\u0627 \\u064e\\u0648\\u062a\\u064b\\u0642\\u0650\\u062f\\u0645\\u0647\\u064d\\u0627 \\u0650.\\u064f\"\n        ],\n        \"semantic_type\": \"\",\n        \"description\": \"\"\n      }\n    },\n    {\n      \"column\": \"label\",\n      \"properties\": {\n        \"dtype\": \"category\",\n        \"num_unique_values\": 7,\n        \"samples\": [\n          \"Culture\",\n          \"Finance\",\n          \"Sports\"\n        ],\n        \"semantic_type\": \"\",\n        \"description\": \"\"\n      }\n    }\n  ]\n}"
            }
          },
          "metadata": {},
          "execution_count": 11
        }
      ],
      "source": [
        "df.head(10)"
      ]
    },
    {
      "cell_type": "code",
      "source": [
        "df.tail(10)"
      ],
      "metadata": {
        "colab": {
          "base_uri": "https://localhost:8080/",
          "height": 363
        },
        "id": "kKTlnlAvEfob",
        "outputId": "392f4355-62b7-438b-bb0f-0b90493f5872"
      },
      "execution_count": 10,
      "outputs": [
        {
          "output_type": "execute_result",
          "data": {
            "text/plain": [
              "                                                    text label\n",
              "39875  https://example.com/resource/سلِطٍ صنًاٍعُ اّل...  Tech\n",
              "39876  https://example.com/resource/أعُلنِتٌ مّجُمٍوع...  Tech\n",
              "39877  https://example.com/resource/أعلٌنت ٌسٌاُمٌسون...  Tech\n",
              "39878  https://example.com/resource/طرًحت ّوْيّسترْنٍ...  Tech\n",
              "39879  https://example.com/resource/افًتِتُحتٌ إمبِوس...  Tech\n",
              "39880  https://example.com/resource/أعلّنت شّركٌةً بّ...  Tech\n",
              "39881  https://example.com/resource/بُتٍاَرٌيًخَ 28ْ ...  Tech\n",
              "39882  https://example.com/resource/دبَيُ:َ «ُاَلخليج...  Tech\n",
              "39883  https://example.com/resource/LٌG GًS2ْ9ً0 Coْo...  Tech\n",
              "39884  https://example.com/resource/تنطًلقٍ اٌليومّ َ...  Tech"
            ],
            "text/html": [
              "\n",
              "  <div id=\"df-8c4cc83c-d4ff-4c61-90a7-4fe2a240fd96\" class=\"colab-df-container\">\n",
              "    <div>\n",
              "<style scoped>\n",
              "    .dataframe tbody tr th:only-of-type {\n",
              "        vertical-align: middle;\n",
              "    }\n",
              "\n",
              "    .dataframe tbody tr th {\n",
              "        vertical-align: top;\n",
              "    }\n",
              "\n",
              "    .dataframe thead th {\n",
              "        text-align: right;\n",
              "    }\n",
              "</style>\n",
              "<table border=\"1\" class=\"dataframe\">\n",
              "  <thead>\n",
              "    <tr style=\"text-align: right;\">\n",
              "      <th></th>\n",
              "      <th>text</th>\n",
              "      <th>label</th>\n",
              "    </tr>\n",
              "  </thead>\n",
              "  <tbody>\n",
              "    <tr>\n",
              "      <th>39875</th>\n",
              "      <td>https://example.com/resource/سلِطٍ صنًاٍعُ اّل...</td>\n",
              "      <td>Tech</td>\n",
              "    </tr>\n",
              "    <tr>\n",
              "      <th>39876</th>\n",
              "      <td>https://example.com/resource/أعُلنِتٌ مّجُمٍوع...</td>\n",
              "      <td>Tech</td>\n",
              "    </tr>\n",
              "    <tr>\n",
              "      <th>39877</th>\n",
              "      <td>https://example.com/resource/أعلٌنت ٌسٌاُمٌسون...</td>\n",
              "      <td>Tech</td>\n",
              "    </tr>\n",
              "    <tr>\n",
              "      <th>39878</th>\n",
              "      <td>https://example.com/resource/طرًحت ّوْيّسترْنٍ...</td>\n",
              "      <td>Tech</td>\n",
              "    </tr>\n",
              "    <tr>\n",
              "      <th>39879</th>\n",
              "      <td>https://example.com/resource/افًتِتُحتٌ إمبِوس...</td>\n",
              "      <td>Tech</td>\n",
              "    </tr>\n",
              "    <tr>\n",
              "      <th>39880</th>\n",
              "      <td>https://example.com/resource/أعلّنت شّركٌةً بّ...</td>\n",
              "      <td>Tech</td>\n",
              "    </tr>\n",
              "    <tr>\n",
              "      <th>39881</th>\n",
              "      <td>https://example.com/resource/بُتٍاَرٌيًخَ 28ْ ...</td>\n",
              "      <td>Tech</td>\n",
              "    </tr>\n",
              "    <tr>\n",
              "      <th>39882</th>\n",
              "      <td>https://example.com/resource/دبَيُ:َ «ُاَلخليج...</td>\n",
              "      <td>Tech</td>\n",
              "    </tr>\n",
              "    <tr>\n",
              "      <th>39883</th>\n",
              "      <td>https://example.com/resource/LٌG GًS2ْ9ً0 Coْo...</td>\n",
              "      <td>Tech</td>\n",
              "    </tr>\n",
              "    <tr>\n",
              "      <th>39884</th>\n",
              "      <td>https://example.com/resource/تنطًلقٍ اٌليومّ َ...</td>\n",
              "      <td>Tech</td>\n",
              "    </tr>\n",
              "  </tbody>\n",
              "</table>\n",
              "</div>\n",
              "    <div class=\"colab-df-buttons\">\n",
              "\n",
              "  <div class=\"colab-df-container\">\n",
              "    <button class=\"colab-df-convert\" onclick=\"convertToInteractive('df-8c4cc83c-d4ff-4c61-90a7-4fe2a240fd96')\"\n",
              "            title=\"Convert this dataframe to an interactive table.\"\n",
              "            style=\"display:none;\">\n",
              "\n",
              "  <svg xmlns=\"http://www.w3.org/2000/svg\" height=\"24px\" viewBox=\"0 -960 960 960\">\n",
              "    <path d=\"M120-120v-720h720v720H120Zm60-500h600v-160H180v160Zm220 220h160v-160H400v160Zm0 220h160v-160H400v160ZM180-400h160v-160H180v160Zm440 0h160v-160H620v160ZM180-180h160v-160H180v160Zm440 0h160v-160H620v160Z\"/>\n",
              "  </svg>\n",
              "    </button>\n",
              "\n",
              "  <style>\n",
              "    .colab-df-container {\n",
              "      display:flex;\n",
              "      gap: 12px;\n",
              "    }\n",
              "\n",
              "    .colab-df-convert {\n",
              "      background-color: #E8F0FE;\n",
              "      border: none;\n",
              "      border-radius: 50%;\n",
              "      cursor: pointer;\n",
              "      display: none;\n",
              "      fill: #1967D2;\n",
              "      height: 32px;\n",
              "      padding: 0 0 0 0;\n",
              "      width: 32px;\n",
              "    }\n",
              "\n",
              "    .colab-df-convert:hover {\n",
              "      background-color: #E2EBFA;\n",
              "      box-shadow: 0px 1px 2px rgba(60, 64, 67, 0.3), 0px 1px 3px 1px rgba(60, 64, 67, 0.15);\n",
              "      fill: #174EA6;\n",
              "    }\n",
              "\n",
              "    .colab-df-buttons div {\n",
              "      margin-bottom: 4px;\n",
              "    }\n",
              "\n",
              "    [theme=dark] .colab-df-convert {\n",
              "      background-color: #3B4455;\n",
              "      fill: #D2E3FC;\n",
              "    }\n",
              "\n",
              "    [theme=dark] .colab-df-convert:hover {\n",
              "      background-color: #434B5C;\n",
              "      box-shadow: 0px 1px 3px 1px rgba(0, 0, 0, 0.15);\n",
              "      filter: drop-shadow(0px 1px 2px rgba(0, 0, 0, 0.3));\n",
              "      fill: #FFFFFF;\n",
              "    }\n",
              "  </style>\n",
              "\n",
              "    <script>\n",
              "      const buttonEl =\n",
              "        document.querySelector('#df-8c4cc83c-d4ff-4c61-90a7-4fe2a240fd96 button.colab-df-convert');\n",
              "      buttonEl.style.display =\n",
              "        google.colab.kernel.accessAllowed ? 'block' : 'none';\n",
              "\n",
              "      async function convertToInteractive(key) {\n",
              "        const element = document.querySelector('#df-8c4cc83c-d4ff-4c61-90a7-4fe2a240fd96');\n",
              "        const dataTable =\n",
              "          await google.colab.kernel.invokeFunction('convertToInteractive',\n",
              "                                                    [key], {});\n",
              "        if (!dataTable) return;\n",
              "\n",
              "        const docLinkHtml = 'Like what you see? Visit the ' +\n",
              "          '<a target=\"_blank\" href=https://colab.research.google.com/notebooks/data_table.ipynb>data table notebook</a>'\n",
              "          + ' to learn more about interactive tables.';\n",
              "        element.innerHTML = '';\n",
              "        dataTable['output_type'] = 'display_data';\n",
              "        await google.colab.output.renderOutput(dataTable, element);\n",
              "        const docLink = document.createElement('div');\n",
              "        docLink.innerHTML = docLinkHtml;\n",
              "        element.appendChild(docLink);\n",
              "      }\n",
              "    </script>\n",
              "  </div>\n",
              "\n",
              "\n",
              "<div id=\"df-ac90cb5e-1351-4822-9d40-089251b3533f\">\n",
              "  <button class=\"colab-df-quickchart\" onclick=\"quickchart('df-ac90cb5e-1351-4822-9d40-089251b3533f')\"\n",
              "            title=\"Suggest charts\"\n",
              "            style=\"display:none;\">\n",
              "\n",
              "<svg xmlns=\"http://www.w3.org/2000/svg\" height=\"24px\"viewBox=\"0 0 24 24\"\n",
              "     width=\"24px\">\n",
              "    <g>\n",
              "        <path d=\"M19 3H5c-1.1 0-2 .9-2 2v14c0 1.1.9 2 2 2h14c1.1 0 2-.9 2-2V5c0-1.1-.9-2-2-2zM9 17H7v-7h2v7zm4 0h-2V7h2v10zm4 0h-2v-4h2v4z\"/>\n",
              "    </g>\n",
              "</svg>\n",
              "  </button>\n",
              "\n",
              "<style>\n",
              "  .colab-df-quickchart {\n",
              "      --bg-color: #E8F0FE;\n",
              "      --fill-color: #1967D2;\n",
              "      --hover-bg-color: #E2EBFA;\n",
              "      --hover-fill-color: #174EA6;\n",
              "      --disabled-fill-color: #AAA;\n",
              "      --disabled-bg-color: #DDD;\n",
              "  }\n",
              "\n",
              "  [theme=dark] .colab-df-quickchart {\n",
              "      --bg-color: #3B4455;\n",
              "      --fill-color: #D2E3FC;\n",
              "      --hover-bg-color: #434B5C;\n",
              "      --hover-fill-color: #FFFFFF;\n",
              "      --disabled-bg-color: #3B4455;\n",
              "      --disabled-fill-color: #666;\n",
              "  }\n",
              "\n",
              "  .colab-df-quickchart {\n",
              "    background-color: var(--bg-color);\n",
              "    border: none;\n",
              "    border-radius: 50%;\n",
              "    cursor: pointer;\n",
              "    display: none;\n",
              "    fill: var(--fill-color);\n",
              "    height: 32px;\n",
              "    padding: 0;\n",
              "    width: 32px;\n",
              "  }\n",
              "\n",
              "  .colab-df-quickchart:hover {\n",
              "    background-color: var(--hover-bg-color);\n",
              "    box-shadow: 0 1px 2px rgba(60, 64, 67, 0.3), 0 1px 3px 1px rgba(60, 64, 67, 0.15);\n",
              "    fill: var(--button-hover-fill-color);\n",
              "  }\n",
              "\n",
              "  .colab-df-quickchart-complete:disabled,\n",
              "  .colab-df-quickchart-complete:disabled:hover {\n",
              "    background-color: var(--disabled-bg-color);\n",
              "    fill: var(--disabled-fill-color);\n",
              "    box-shadow: none;\n",
              "  }\n",
              "\n",
              "  .colab-df-spinner {\n",
              "    border: 2px solid var(--fill-color);\n",
              "    border-color: transparent;\n",
              "    border-bottom-color: var(--fill-color);\n",
              "    animation:\n",
              "      spin 1s steps(1) infinite;\n",
              "  }\n",
              "\n",
              "  @keyframes spin {\n",
              "    0% {\n",
              "      border-color: transparent;\n",
              "      border-bottom-color: var(--fill-color);\n",
              "      border-left-color: var(--fill-color);\n",
              "    }\n",
              "    20% {\n",
              "      border-color: transparent;\n",
              "      border-left-color: var(--fill-color);\n",
              "      border-top-color: var(--fill-color);\n",
              "    }\n",
              "    30% {\n",
              "      border-color: transparent;\n",
              "      border-left-color: var(--fill-color);\n",
              "      border-top-color: var(--fill-color);\n",
              "      border-right-color: var(--fill-color);\n",
              "    }\n",
              "    40% {\n",
              "      border-color: transparent;\n",
              "      border-right-color: var(--fill-color);\n",
              "      border-top-color: var(--fill-color);\n",
              "    }\n",
              "    60% {\n",
              "      border-color: transparent;\n",
              "      border-right-color: var(--fill-color);\n",
              "    }\n",
              "    80% {\n",
              "      border-color: transparent;\n",
              "      border-right-color: var(--fill-color);\n",
              "      border-bottom-color: var(--fill-color);\n",
              "    }\n",
              "    90% {\n",
              "      border-color: transparent;\n",
              "      border-bottom-color: var(--fill-color);\n",
              "    }\n",
              "  }\n",
              "</style>\n",
              "\n",
              "  <script>\n",
              "    async function quickchart(key) {\n",
              "      const quickchartButtonEl =\n",
              "        document.querySelector('#' + key + ' button');\n",
              "      quickchartButtonEl.disabled = true;  // To prevent multiple clicks.\n",
              "      quickchartButtonEl.classList.add('colab-df-spinner');\n",
              "      try {\n",
              "        const charts = await google.colab.kernel.invokeFunction(\n",
              "            'suggestCharts', [key], {});\n",
              "      } catch (error) {\n",
              "        console.error('Error during call to suggestCharts:', error);\n",
              "      }\n",
              "      quickchartButtonEl.classList.remove('colab-df-spinner');\n",
              "      quickchartButtonEl.classList.add('colab-df-quickchart-complete');\n",
              "    }\n",
              "    (() => {\n",
              "      let quickchartButtonEl =\n",
              "        document.querySelector('#df-ac90cb5e-1351-4822-9d40-089251b3533f button');\n",
              "      quickchartButtonEl.style.display =\n",
              "        google.colab.kernel.accessAllowed ? 'block' : 'none';\n",
              "    })();\n",
              "  </script>\n",
              "</div>\n",
              "\n",
              "    </div>\n",
              "  </div>\n"
            ],
            "application/vnd.google.colaboratory.intrinsic+json": {
              "type": "dataframe",
              "summary": "{\n  \"name\": \"df\",\n  \"rows\": 10,\n  \"fields\": [\n    {\n      \"column\": \"text\",\n      \"properties\": {\n        \"dtype\": \"string\",\n        \"num_unique_values\": 10,\n        \"samples\": [\n          \"https://example.com/resource/L\\u064cG G\\u064bS2\\u06529\\u064b0 Co\\u0652o\\u0652k\\u0650ie Fr\\u0652es\\u064bh\\u064f\\u0647\\u064d\\u0627\\u0652\\u062a\\u064b\\u0641 \\u0645\\u062a\\u062d\\u0631\\u0651\\u0643 \\u064c\\u062c\\u062f\\u064a\\u064c\\u062f \\u0645\\u064f\\u0646 \\u064f\\u0625\\u064b\\u0646\\u062a\\u064f\\u0627\\u0650\\u062c\\u064f (\\u0625\\u0651\\u0644 \\u064c\\u062c\\u064a)\\u060c\\u064d \\u0652\\u064a\\u064c\\u062d\\u062a\\u0648\\u064a \\u0652\\u0639\\u064d\\u0644\\u064b\\u0649 \\u062d\\u0633\\u0627\\u0633 \\u0644\\u0650\\u0644\\u064e\\u062d\\u0651\\u0631\\u0643\\u0629 \\u064fA\\u064dccel\\u0652e\\u0650ro\\u064fmeter\\u064c \\u0648\\u0647\\u0630\\u064c\\u0627\\u064e \\u0627\\u0644\\u0647\\u064d\\u0627\\u062a\\u0650\\u0641 \\u0644\\u0645\\u064b \\u064a\\u064f\\u0637\\u0631\\u064d\\u062d \\u0628\\u064e\\u0639\\u062f\\u0651 \\u0641\\u064f\\u064a\\u0650 \\u0627\\u0644\\u0623\\u0633\\u064f\\u0648\\u0652\\u0627\\u064b\\u0642 .\\u064b\\u062e\\u0635\\u0627\\u0626\\u064d\\u0635\\u0651 \\u0651\\u0627\\u0651\\u0644\\u062c\\u064f\\u0647\\u064d\\u0627\\u0632:* \\u0650\\u0627\\u0644\\u0634\\u064c\\u0628\\u064e\\u0643\\u0629\\u0652:\\u064d \\u064b\\u0627\\u0644\\u0652\\u062c\\u064d\\u064a\\u0644 \\u0627\\u0652\\u0644\\u064e\\u062b\\u0627\\u0651\\u0646\\u064a\\u0651 G\\u064eSM\\u064c \\u064b8\\u064b50\\u0650/ 90\\u06510 \\u064b/\\u064b \\u064b1\\u064d8\\u064b0\\u06500 / \\u06501900 .* \\u064c\\u0627\\u0652\\u0644\\u064c\\u0634\\u0627\\u0634\\u064d\\u0629\\u064b: \\u064e256 T\\u064eFT \\u0623\\u0644\\u0641 \\u064c\\u0644\\u064f\\u0648\\u0652\\u0646\\u064d\\u060c \\u064d40\\u064e0*\\u06512\\u064b4\\u064d0 \\u064f\\u0628\\u0643\\u064f\\u0633\\u0644\\u0650\\u060c\\u064c \\u064e\\u0628\\u0627\\u064d\\u0644\\u0644\\u064d\\u0645\\u064b\\u0633\\u0651\\u060c\\u064f 2 \\u064f.3 \\u0651\\u0628\\u0648\\u064f\\u0635\\u064e\\u0629 .*\\u0652 \\u0651\\u0627\\u0650\\u0644\\u0652\\u0630\\u0627\\u064b\\u0643\\u0631\\u0629: \\u064f\\u0641\\u0651\\u062a\\u062d\\u064c\\u0629 \\u0652m\\u064ei\\u0651c\\u0652roSD\\u064f \\u0644\\u064c\\u0644\\u0651\\u0630\\u0627\\u0643\\u0650\\u0631\\u0629 (\\u0652\\u0625\\u0650\\u0645\\u0643\\u064f\\u0627\\u0646\\u064a\\u0629\\u0652 \\u0627\\u0633\\u062a\\u062e\\u0650\\u062f\\u0627\\u064f\\u0645\\u0650 \\u0628\\u064d\\u0637\\u0652\\u0627\\u0642\\u064f\\u0629 \\u064d\\u062d\\u064b\\u062a\\u0649\\u064b \\u064f8 \\u064e\\u063a\\u064a\\u063a\\u0627\\u0628\\u064f\\u0627\\u064a\\u062a) .\\u0651* \\u0651\\u0646\\u064c\\u0642\\u064e\\u0644\\u0650 \\u0627\\u0644\\u064d\\u0628\\u064a\\u064f\\u0627\\u0646\\u064e\\u0627\\u062a:\\u0651 \\u064dE\\u0650DG\\u064eEGP\\u0650R\\u064fS .*\\u0652 \\u064e\\u0628\\u064c\\u0644\\u0648\\u062a\\u0651\\u0648\\u064b\\u062b\\u064f: A2DP\\u064c+\\u0651v2 .1\\u0651 \\u0650.\\u0652* \\u0645\\u0646\\u0641\\u0630\\u0651 \\u0650\\u0627\\u064c\\u0644 \\u064bUSB:\\u064c \\u064dv\\u064f2 .0\\u064b \\u064b.\\u064f* \\u0627\\u0644\\u064f\\u0631\\u064e\\u0633\\u064b\\u0627\\u0626\\u0652\\u0644\\u064b:\\u064b \\u064d\\u0631\\u0633\\u0652\\u0627\\u064f\\u0626\\u064c\\u0644\\u064e \\u0652\\u0646\\u064e\\u0635\\u064c\\u064a\\u064e\\u0629 \\u0642\\u0650\\u0635\\u064a\\u0631\\u0629\\u060c\\u0650 \\u0652\\u0631\\u064d\\u0633\\u0650\\u0627\\u064b\\u0626\\u064c\\u0644\\u064d \\u0648\\u0633\\u0627\\u064d\\u0626\\u0637\\u064c \\u0645\\u064b\\u062a\\u0650\\u0639\\u062f\\u064c\\u062f\\u0629\\u0651\\u060c\\u064f \\u0631\\u0633\\u064c\\u0627\\u0626\\u0644 \\u0650\\u0628\\u064d\\u0631\\u064a\\u062f\\u0652 \\u064c\\u0625\\u0644\\u0643\\u064d\\u062a\\u0631\\u064c\\u0648\\u064c\\u0646\\u064b\\u064a\\u0652\\u060c \\u0625\\u064a \\u0625\\u0645\\u0651 \\u064f\\u0625\\u0633\\u064d .\\u064f* \\u0650\\u0627\\u064e\\u0644\\u0643\\u0627\\u0645\\u064a\\u0650\\u0631\\u0627:\\u064f \\u064d2 \\u064b\\u0645\\u064a\\u063a\\u0627 \\u0628\\u0643\\u064d\\u0633\\u0651\\u0644\\u060c\\u0652 160\\u06500*1\\u064f2\\u065000\\u064b \\u0652\\u0628\\u064b\\u0643\\u0633\\u0644\\u064e\\u060c \\u064d\\u0625\\u0645\\u0643\\u0627\\u0650\\u0646\\u064f\\u064a\\u0629 \\u062a\\u064e\\u0635\\u0648\\u064d\\u064a\\u0631 \\u0641\\u064f\\u064a\\u062f\\u064a\\u064c\\u0648 .*\\u064c \\u0627\\u0644\\u064e\\u0631\\u0652\\u062f\\u064c\\u064a\\u0648:\\u064f \\u0625\\u0652\\u0641 \\u0625\\u0645 \\u0650.*\\u064e \\u0650\\u0627\\u0651\\u0644\\u0652\\u0644\\u0648\\u0652\\u0646\\u0651:\\u064d \\u064f\\u0623\\u064e\\u0633\\u0648\\u064e\\u062f\\u060c \\u064d\\u0623\\u064d\\u062d\\u0652\\u0645\\u0651\\u0631\\u064c\\u060c\\u064b \\u064e\\u0623\\u0632\\u0631\\u0651\\u0642\\u060c \\u0641\\u0636\\u064e\\u064a\\u060c \\u0623\\u062e\\u0636\\u0631 \\u0641\\u0651\\u0627\\u0650\\u062a\\u062d\\u0652 .\\u0650B\\u064clac\\u0651k\\u0650Be\\u064fr\\u064dry\\u064d \\u064cSl\\u0652ider\\u064f\\u0647\\u0651\\u0627\\u064c\\u062a\\u064b\\u0641\\u064f \\u0645\\u0650\\u062a\\u064f\\u062d\\u064c\\u0631\\u0643\\u064c \\u0622\\u062e\\u0652\\u0631 \\u064e\\u062c\\u062f\\u064a\\u064c\\u062f\\u064c \\u0645\\u0646\\u064c \\u0625\\u0650\\u0646\\u062a\\u064f\\u0627\\u062c \\u064f(\\u064f\\u0628\\u064b\\u0644\\u0627\\u064f\\u0643\\u064b \\u0628\\u064f\\u064a\\u0631\\u064a) \\u0650\\u064a\\u062f\\u064f\\u0639\\u0652\\u0645 \\u0627\\u0644\\u062a\\u0634\\u064d\\u063a\\u064a\\u064c\\u0644\\u064d \\u0650\\u0639\\u0628\\u0631\\u0651 \\u0651\\u0634\\u064d\\u0628\\u0643\\u064e\\u0629\\u0651 \\u064f\\u0627\\u0650\\u0644\\u064e\\u062c\\u064f\\u064a\\u0652\\u0644 \\u0652\\u0627\\u0652\\u0644\\u062b\\u0627\\u064b\\u0644\\u064e\\u062b\\u060c\\u0650 \\u064c\\u0643\\u064b\\u0645\\u0627 \\u064f\\u064a\\u062f\\u0639\\u0645\\u064c \\u0647\\u064b\\u0630\\u0627 \\u0627\\u0652\\u0644\\u064b\\u0647\\u0627\\u062a\\u0641 \\u064f\\u0646\\u064d\\u0638\\u0627\\u0645 \\u064f\\u062a\\u062d\\u064b\\u062f\\u064a\\u064d\\u062f \\u064f\\u0627\\u0644\\u064b\\u0645\\u0652\\u0648\\u0650\\u0627\\u064b\\u0642\\u0639\\u064c \\u0652\\u0627\\u0644\\u0639\\u064c\\u0627\\u064e\\u0644\\u0645\\u064a\\u0651 \\u064fGP\\u064fS \\u0650\\u0644\\u064f\\u0648\\u062d\\u0629\\u0651 \\u0645\\u0652\\u0641\\u0650\\u0627\\u0650\\u062a\\u064a\\u062d\\u064c \\u0643\\u064c\\u0627\\u0651\\u0645\\u064d\\u0644\\u064c\\u0629\\u064e\\u060c \\u0648\\u0651\\u0647\\u0630\\u0627 \\u064f\\u0627\\u0651\\u0644\\u0647\\u0627\\u0650\\u062a\\u0651\\u0641\\u064d \\u0652\\u0644\\u064b\\u0645\\u064d \\u064b\\u064a\\u064c\\u0637\\u064f\\u0631\\u064f\\u062d \\u0628\\u0639\\u064f\\u062f \\u0641\\u0652\\u064a\\u064e \\u0627\\u0644\\u0623\\u064e\\u0633\\u0648\\u0627\\u0642 \\u0652.\\u0651\\u062e\\u0635\\u0627\\u064c\\u0626\\u0635\\u064b \\u0627\\u064d\\u0644\\u064f\\u062c\\u0647\\u0627\\u0632:* \\u0627\\u064e\\u0644\\u0634\\u0628\\u064d\\u0643\\u0629: \\u064b\\u0627\\u064f\\u0644\\u064c\\u062c\\u064e\\u064a\\u064e\\u0644 \\u0627\\u0651\\u0644\\u062b\\u0627\\u064f\\u0646\\u064a \\u064dG\\u0651S\\u0650M \\u064d850\\u064d/90\\u06510 / 1800/\\u064f19\\u064f0\\u064d0\\u060c \\u0627\\u0651\\u0644\\u062c\\u064a\\u064e\\u0644\\u064c \\u0627\\u0644\\u064d\\u062b\\u064d\\u0627\\u0644\\u0651\\u062b \\u064cHSD\\u064dPA \\u064d.\\u064c* \\u0651\\u0627\\u0644\\u064f\\u0634\\u064b\\u0627\\u064b\\u0634\\u0651\\u0629:\\u0650 6\\u064c5\\u064d \\u064cTF\\u0651T \\u064c\\u0623\\u064d\\u0644\\u0650\\u0641 \\u0651\\u0644\\u0652\\u0648\\u064c\\u0646\\u064d\\u060c\\u064c \\u06503\\u06506\\u064b0\\u0650*480 \\u064f\\u0628\\u0650\\u0643\\u064d\\u0633\\u0644\\u064f\\u060c\\u064c 2\\u0651 .3\\u064c \\u064d\\u0628\\u0651\\u0648\\u0651\\u0635\\u064c\\u0629\\u064c .* \\u0627\\u0644\\u064e\\u0630\\u064e\\u0627\\u0643\\u0631\\u064e\\u0629\\u0652: \\u064d\\u0641\\u0651\\u062a\\u062d\\u0629\\u064e \\u064bm\\u064ficro\\u0652SD \\u0644\\u0644\\u064e\\u0630\\u0627\\u0643\\u064b\\u0631\\u064f\\u0629\\u064b (\\u0625\\u064f\\u0645\\u0651\\u0643\\u0651\\u0627\\u0646\\u064a\\u0629\\u0652 \\u0627\\u0633\\u0652\\u062a\\u062e\\u062f\\u0627\\u0645\\u064f \\u0628\\u0637\\u0652\\u0627\\u064f\\u0642\\u0629\\u0651 \\u0652\\u062d\\u062a\\u064f\\u0649 1\\u064c6\\u064c \\u064b\\u063a\\u064d\\u064a\\u063a\\u0627\\u064e\\u0628\\u0650\\u0627\\u064a\\u064e\\u062a) \\u064c.\\u064c*\\u064b \\u0646\\u064b\\u0642\\u0644\\u064d \\u064e\\u0627\\u064e\\u0644\\u064f\\u0628\\u064a\\u0652\\u0627\\u0646\\u0650\\u0627\\u0650\\u062a\\u0650:\\u0650 GP\\u0651R\\u0652S\\u0652/\\u0652Wi-\\u0652F\\u064ei/\\u0650 EDGE/\\u0652H\\u0651S\\u064fD\\u064fP\\u0652A \\u0650.\\u064b* \\u0628\\u064c\\u0644\\u0648\\u062a\\u064b\\u0648\\u062b: \\u064bA2DP\\u0650+\\u064dv\\u064e2 .\\u064e1 .*\\u0652 \\u064c\\u0645\\u0646\\u0651\\u0641\\u0651\\u0630\\u064e \\u064f\\u0627\\u0644\\u064d \\u0652U\\u064bS\\u064eB\\u0652: \\u064d\\u0645\\u062a\\u064f\\u0627\\u062d .*\\u0650 \\u0652\\u0627\\u0644\\u0651\\u0631\\u0633\\u0651\\u0627\\u0650\\u0626\\u0644:\\u064f \\u0631\\u0633\\u0650\\u0627\\u0626\\u064b\\u0644\\u0652 \\u064c\\u0646\\u0635\\u064e\\u064a\\u0629 \\u064f\\u0642\\u0635\\u064f\\u064a\\u0631\\u0651\\u0629\\u060c \\u0631\\u0633\\u0627\\u064c\\u0626\\u0644 \\u0648\\u0633\\u0627\\u064b\\u0626\\u064f\\u0637\\u064f \\u0651\\u0645\\u064b\\u062a\\u064e\\u0639\\u064b\\u062f\\u062f\\u064e\\u0629\\u060c \\u064e\\u0631\\u0633\\u0651\\u0627\\u0626\\u0644\\u0650 \\u0627\\u0652\\u0644\\u0628\\u0631\\u064d\\u064a\\u0652\\u062f\\u0652 \\u064e\\u0627\\u0652\\u0644\\u064c\\u0625\\u064e\\u0644\\u0643\\u062a\\u064b\\u0631\\u0648\\u0651\\u0646\\u064e\\u064a\\u0651\\u060c\\u0650 \\u0651\\u0631\\u0633\\u064b\\u0627\\u0626\\u064d\\u0644 \\u0652\\u0641\\u0650\\u0648\\u064e\\u0631\\u0650\\u064a\\u0629 \\u064d.\\u0650*\\u0651 \\u064e\\u0646\\u0638\\u0627\\u0650\\u0645 \\u0627\\u0644\\u0650\\u062a\\u064c\\u0634\\u063a\\u064a\\u0650\\u0644\\u0652: \\u064dBlack\\u0651Ber\\u064dry\\u064f OS\\u064b \\u064e6\\u064f \\u0651.\\u064d0\\u0650 \\u064c.* \\u064b\\u0627\\u0644\\u0643\\u064d\\u0627\\u064c\\u0645\\u064a\\u064e\\u0631\\u064f\\u0627:\\u064d \\u064eTBC* \\u064d\\u0627\\u0644\\u064f\\u0631\\u0627\\u062f\\u064a\\u0650\\u0648: \\u064e\\u063a\\u064a\\u0650\\u0631 \\u0645\\u0650\\u062a\\u0627\\u062d .*\\u064b \\u0650\\u0627\\u064e\\u0644\\u0644\\u0650\\u0648\\u064f\\u0646:\\u064d \\u0650\\u0623\\u0633\\u0651\\u0648\\u0652\\u062f .Motor\\u0652ola\\u0651 WX2\\u065295\\u0650\\u0647\\u0652\\u0627\\u062a\\u064c\\u0641 \\u0652\\u0645\\u062a\\u062d\\u0631\\u0643 \\u064d\\u062c\\u062f\\u064a\\u062f \\u0645\\u0646 \\u0625\\u0646\\u064c\\u062a\\u0651\\u0627\\u062c \\u064c(\\u0652\\u0645\\u0648\\u062a\\u0648\\u0631\\u0652\\u0648\\u0644\\u0627)\\u0651 \\u064f\\u0644\\u064d\\u0645 \\u0652\\u064a\\u0637\\u0631\\u062d\\u064d \\u0628\\u0639\\u064e\\u062f \\u0650\\u0641\\u0652\\u064a\\u0652 \\u0651\\u0627\\u0644\\u064c\\u0623\\u0633\\u064d\\u0648\\u064e\\u0627\\u0642 \\u0652.\\u062e\\u064f\\u0635\\u0627\\u0626\\u0635 \\u0651\\u0627\\u0644\\u0652\\u062c\\u0647\\u0627\\u0632\\u0651:* \\u0627\\u0644\\u064c\\u0634\\u0628\\u0643\\u0629:\\u064d \\u0627\\u0644\\u0652\\u062c\\u064e\\u064a\\u0644 \\u0650\\u0627\\u064f\\u0644\\u062b\\u064e\\u0627\\u0650\\u0646\\u064a \\u064cG\\u064bS\\u064dM\\u064b \\u064c8\\u064d5\\u064c0\\u0652/\\u064b \\u065090\\u064c0\\u064b / \\u064e1800 / 1900 .*\\u064b \\u0627\\u0644\\u064f\\u0634\\u0627\\u064d\\u0634\\u064c\\u0629\\u0651: \\u064f6\\u064c5 \\u064bTF\\u064eT\\u0652 \\u0623\\u064f\\u0644\\u064d\\u0641\\u0652 \\u0644\\u064d\\u0648\\u0646\\u060c\\u064b 1\\u065060*\\u064e12\\u06518 \\u0628\\u0643\\u0633\\u0644\\u064e\\u060c 77\\u0650 \\u064c.1\\u0652 \\u0652\\u0628\\u064f\\u0648\\u0635\\u0629\\u060c\\u064e \\u064f\\u0643\\u0645\\u0627\\u0652 \\u064b\\u064a\\u064e\\u062d\\u064b\\u062a\\u0652\\u0648\\u064a \\u064d\\u0639\\u0651\\u0644\\u0649\\u0652 \\u0650\\u0634\\u0651\\u0627\\u064e\\u0634\\u064b\\u0629 \\u064b\\u0623\\u064c\\u062e\\u0651\\u0631\\u0649 \\u062e\\u064f\\u0627\\u064e\\u0631\\u062c\\u064a\\u0629 OLED \\u064b.\\u0650* \\u0652\\u0627\\u064b\\u0644\\u0623\\u0628\\u0651\\u0639\\u0627\\u064f\\u062f\\u0652: 96*5 \\u064c.\\u064f4\\u064d6*\\u064c7\\u0652 .1\\u064c6 \\u064e\\u0628\\u0648\\u0635\\u0629 \\u0651.*\\u064f \\u064b\\u0627\\u0644\\u0630\\u0627\\u064e\\u0643\\u0652\\u0631\\u0629\\u0651:\\u064f \\u064d\\u0641\\u064b\\u062a\\u062d\\u0651\\u0629 micr\\u0650oSD \\u0644\\u064d\\u0644\\u0630\\u0627\\u064c\\u0643\\u0631\\u064d\\u0629 \\u064c(\\u064e\\u0625\\u0650\\u0645\\u0643\\u0627\\u064d\\u0646\\u064a\\u0650\\u0629\\u0651 \\u064e\\u0648\\u0651\\u0636\\u064f\\u0639\\u0651 \\u0628\\u064d\\u0637\\u064c\\u0627\\u0651\\u0642\\u064c\\u0629 2\\u064c \\u064e\\u063a\\u0652\\u064a\\u063a\\u064f\\u0627\\u0652\\u0628\\u0627\\u064a\\u064c\\u062a\\u064c) .\\u064b*\\u064e \\u0650\\u0646\\u064b\\u0642\\u064e\\u0644\\u0651 \\u0627\\u0651\\u0644\\u064f\\u0628\\u0651\\u064a\\u0627\\u0651\\u0646\\u064b\\u0627\\u064b\\u062a: \\u064dGPRS\\u064d \\u064e.* \\u0650\\u0628\\u0651\\u0644\\u0648\\u064d\\u062a\\u064e\\u0648\\u062b\\u0651: \\u0650v\\u064f2 .0 \\u064c.*\\u0650 \\u0651\\u0645\\u0646\\u0641\\u064e\\u0630\\u064c \\u0652\\u0627\\u0644\\u0650 USB\\u0652:\\u064f \\u063a\\u064b\\u064a\\u0631 \\u0645\\u062a\\u0652\\u0627\\u0651\\u062d .*\\u064e \\u0627\\u0644\\u0631\\u064b\\u0633\\u064e\\u0627\\u064e\\u0626\\u064c\\u0644\\u064c:\\u064d \\u0631\\u0651\\u0633\\u0627\\u0626\\u0651\\u0644 \\u0652\\u0646\\u0635\\u064a\\u0629 \\u0642\\u0650\\u0635\\u0651\\u064a\\u0651\\u0631\\u0629\\u0650\\u060c \\u0631\\u0651\\u0633\\u064c\\u0627\\u0626\\u0644\\u0652 \\u0650\\u0648\\u0651\\u0633\\u0627\\u064c\\u0626\\u0637\\u0651 \\u0645\\u064d\\u062a\\u064c\\u0639\\u062f\\u062f\\u0650\\u0629 \\u064b.\\u0652*\\u064c \\u064d\\u0627\\u0644\\u0650\\u0643\\u064c\\u0627\\u0651\\u0645\\u064c\\u064a\\u0631\\u064d\\u0627: \\u064dVG\\u0652A\\u064c\\u060c \\u064c6\\u06524\\u064e0*\\u064f4\\u064b80 \\u064f\\u0628\\u0643\\u0633\\u0644\\u0651 \\u064b.*\\u064c \\u064c\\u0627\\u0644\\u0651\\u0644\\u064c\\u0648\\u064d\\u0646\\u064b:\\u064b \\u0623\\u0633\\u0651\\u0648\\u062f\\u0651 .\\u064fSamsung\\u0651 I852\\u06520\\u064d B\\u0652eam\\u064f\\u0647\\u064b\\u0627\\u0652\\u062a\\u0650\\u0641\\u064e \\u064d\\u0645\\u064b\\u062a\\u062d\\u0650\\u0631\\u0643 \\u062c\\u062f\\u064e\\u064a\\u0650\\u062f \\u0652\\u0645\\u0646\\u064d \\u0651\\u0625\\u0650\\u0646\\u064e\\u062a\\u0627\\u0651\\u062c (\\u0650\\u0633\\u0627\\u0645\\u064f\\u0633\\u064b\\u0648\\u0646\\u0652\\u062c) \\u064a\\u0651\\u062f\\u0639\\u0650\\u0645 \\u0650\\u0627\\u0644\\u0651\\u062a\\u064c\\u0634\\u063a\\u064a\\u0644 \\u064d\\u0639\\u0650\\u0628\\u0631\\u0651 \\u064b\\u0634\\u0628\\u0643\\u064c\\u0629\\u064d \\u0627\\u0644\\u062c\\u064a\\u064d\\u0644 \\u064f\\u0627\\u064f\\u0644\\u062b\\u064d\\u0627\\u064d\\u0644\\u0650\\u062b\\u0652 \\u064c\\u0643\\u064f\\u0645\\u0627 \\u064c\\u064a\\u064f\\u062f\\u064c\\u0639\\u0645\\u064b \\u064c\\u0647\\u064e\\u0630\\u0627\\u064d \\u064e\\u0627\\u0651\\u0644\\u0647\\u0627\\u064e\\u062a\\u0641 \\u0646\\u064e\\u0638\\u0627\\u0652\\u0645 \\u0650\\u062a\\u062d\\u0652\\u062f\\u064a\\u064d\\u062f \\u0627\\u064f\\u0644\\u0645\\u0648\\u0627\\u0642\\u064d\\u0639\\u0651 \\u0627\\u064d\\u0644\\u0639\\u064c\\u0627\\u0652\\u0644\\u0650\\u0645\\u064a\\u064b \\u064bG\\u0650P\\u064fS\\u064d \\u064b\\u0643\\u064c\\u0645\\u0627 \\u0651\\u064a\\u062d\\u0650\\u062a\\u0651\\u0648\\u0652\\u064a\\u064b \\u0652\\u0639\\u0652\\u0644\\u064f\\u0649\\u064e \\u062d\\u0650\\u0633\\u064f\\u0627\\u0633 \\u0652\\u0644\\u064b\\u0644\\u064f\\u062d\\u0631\\u0651\\u0643\\u0629\\u064b Acc\\u064be\\u064bl\\u064eer\\u0652ome\\u0650ter\\u064c \\u0648\\u064a\\u062d\\u062a\\u0651\\u0648\\u064e\\u064a\\u064b \\u0639\\u0644\\u0649 \\u0639\\u064f\\u0627\\u064f\\u0631\\u0636 \\u064f\\u0636\\u0648\\u0626\\u064a\\u0650 \\u064fProje\\u064ecto\\u064er\\u0651 \\u064c\\u0648\\u0633\\u0652\\u0637\\u0652\\u062d\\u0652\\u0647\\u064b \\u0645\\u064c\\u0642\\u0627\\u0648\\u064f\\u0645 \\u064f\\u0644\\u0650\\u0644\\u062e\\u0650\\u062f\\u064d\\u0634\\u0651 \\u064e\\u0648\\u064f\\u0644\\u0650\\u0645\\u0651 \\u064a\\u064d\\u0637\\u0631\\u062d \\u0652\\u0628\\u0639\\u0652\\u062f\\u0651 \\u0641\\u064c\\u064a\\u0650 \\u0652\\u0627\\u0651\\u0644\\u0623\\u064b\\u0633\\u0651\\u0648\\u064b\\u0627\\u064b\\u0642\\u064b .\\u062e\\u0635\\u0627\\u064b\\u0626\\u0635\\u0652 \\u064d\\u0627\\u0644\\u064c\\u062c\\u064c\\u0647\\u0627\\u0651\\u0632\\u064c:* \\u0650\\u0627\\u0644\\u0634\\u0628\\u0643\\u0629: \\u064d\\u0627\\u064f\\u0644\\u0650\\u062c\\u0652\\u064a\\u0644 \\u0627\\u0644\\u0651\\u062b\\u0627\\u0646\\u0651\\u064a \\u0650GS\\u064dM \\u064f8\\u064e5\\u06520/\\u064c 900 \\u064f/\\u064e \\u064d180\\u064e0 \\u0650/\\u064e 19\\u064b0\\u064d0\\u064b\\u060c\\u064b \\u064b\\u0627\\u064f\\u0644\\u062c\\u064a\\u0644 \\u0627\\u0652\\u0644\\u062b\\u0651\\u0627\\u0644\\u0651\\u062b\\u064c \\u0652HS\\u0652DPA 9\\u064f00/2\\u065210\\u064f0 .*\\u064d \\u064c\\u0627\\u064c\\u0644\\u0634\\u064b\\u0627\\u0634\\u0629\\u064d: S\\u064bu\\u064dper AMO\\u064eL\\u0651ED 1\\u064b6\\u064f \\u0645\\u064f\\u0644\\u064a\\u0648\\u0651\\u0646 \\u0644\\u0648\\u0650\\u0646\\u0652\\u060c \\u064b800*\\u0652480 \\u0628\\u064d\\u0643\\u0633\\u064f\\u0644\\u064c\\u060c \\u0628\\u0627\\u0644\\u0650\\u0644\\u0650\\u0645\\u064f\\u0633\\u064f\\u060c\\u064d 7 \\u064e.3 \\u0628\\u0650\\u0648\\u0635\\u064d\\u0629\\u064f \\u064b.\\u0651* \\u0627\\u064c\\u0644\\u0623\\u0628\\u0639\\u0652\\u0627\\u062f\\u0650:\\u064e 1\\u064c23\\u064c*\\u064d8 \\u064d.59*\\u064e9 .\\u064f1\\u064d4 \\u0628\\u064c\\u0648\\u064b\\u0635\\u0629\\u0652 \\u0650.*\\u064c \\u0627\\u064b\\u0644\\u0648\\u0632\\u0646:\\u0651 \\u065115\\u06526 \\u063a\\u0631\\u0650\\u0627\\u0645\\u0627\\u064b \\u0652.\\u0650*\\u0652 \\u0627\\u064e\\u0644\\u0630\\u064b\\u0627\\u064b\\u0643\\u064f\\u0631\\u0652\\u0629: \\u064e16 \\u064c\\u063a\\u064d\\u064a\\u063a\\u064b\\u0627\\u0628\\u0627\\u064b\\u064a\\u064d\\u062a\\u064e \\u064b+\\u064d \\u064d\\u0641\\u062a\\u0650\\u062d\\u064c\\u0629\\u0651 mi\\u064bc\\u064fr\\u064do\\u064cS\\u064eD \\u0651\\u0644\\u0650\\u0644\\u064c\\u0630\\u0627\\u064e\\u0643\\u0652\\u0631\\u0629\\u0652 \\u064e(\\u0625\\u0652\\u0645\\u0643\\u0652\\u0627\\u064b\\u0646\\u064f\\u064a\\u064f\\u0629 \\u064b\\u0648\\u064e\\u0636\\u0650\\u0639 \\u0652\\u0628\\u064d\\u0637\\u064b\\u0627\\u0651\\u0642\\u064b\\u0629\\u064e 3\\u064c2 \\u063a\\u064b\\u064a\\u0651\\u063a\\u0627\\u064d\\u0628\\u0651\\u0627\\u0651\\u064a\\u062a) .\\u064e*\\u064b \\u0646\\u0642\\u0644 \\u0651\\u0627\\u064e\\u0644\\u064f\\u0628\\u064a\\u0627\\u064e\\u0646\\u0627\\u062a\\u064d:\\u0651 EDGE\\u0651 .\\u0651* \\u0628\\u0644\\u0648\\u062a\\u0648\\u062b:\\u0650 \\u064e\\u0645\\u062a\\u064d\\u0627\\u064c\\u062d\\u064d .\\u064b*\\u0652 \\u0650\\u0645\\u0646\\u064e\\u0641\\u0650\\u0630 \\u0627\\u064c\\u0644\\u0650 USB\\u0652:\\u0650 \\u064e\\u0645\\u064d\\u062a\\u064b\\u0627\\u064b\\u062d\\u064e .*\\u064b \\u064c\\u0627\\u0644\\u0652\\u0631\\u064c\\u0633\\u0627\\u0626\\u0644:\\u064f \\u0631\\u0633\\u0627\\u0626\\u064e\\u0644 \\u0652\\u0646\\u0651\\u0635\\u064b\\u064a\\u0629 \\u0651\\u0642\\u0635\\u064f\\u064a\\u0631\\u0629\\u060c\\u064c \\u0652\\u0631\\u0633\\u0627\\u0626\\u0650\\u0644 \\u064c\\u0648\\u0633\\u0627\\u064c\\u0626\\u064c\\u0637 \\u0645\\u064f\\u062a\\u064d\\u0639\\u062f\\u064c\\u062f\\u064e\\u0629\\u0651\\u060c \\u064d\\u0631\\u0651\\u0633\\u0627\\u064b\\u0626\\u0644 \\u0628\\u064b\\u0631\\u064d\\u064a\\u0652\\u062f\\u064d \\u0625\\u0644\\u064d\\u0643\\u064b\\u062a\\u064e\\u0631\\u064d\\u0648\\u0646\\u064b\\u064a .*\\u0651 \\u0650\\u0646\\u064d\\u0638\\u0627\\u0651\\u0645 \\u0627\\u0644\\u062a\\u0652\\u0634\\u064c\\u063a\\u064d\\u064a\\u0644\\u0651:\\u064f Andr\\u064foid\\u064e \\u064dO\\u0652S\\u064b, \\u064cv\\u06512 \\u064f.\\u06501\\u0652 \\u0650(\\u0652E\\u064ccl\\u064da\\u0651ir)\\u064d \\u0651.\\u064c*\\u0652 \\u064f\\u0627\\u064b\\u0644\\u0652\\u0643\\u0627\\u0645\\u064b\\u064a\\u064c\\u0631\\u0652\\u0627\\u064f:\\u064d 8 \\u0645\\u064a\\u063a\\u064f\\u0627\\u0628\\u0652\\u0643\\u0651\\u0633\\u0644\\u064c\\u060c 3\\u0652264*\\u064b2\\u064b448\\u064e \\u064e\\u0628\\u0643\\u0633\\u064c\\u0644\\u0650 + \\u064d\\u0641\\u0644\\u0627\\u064b\\u0634\\u060c\\u0651 \\u0652\\u0625\\u0651\\u0645\\u064d\\u0643\\u0627\\u0652\\u0646\\u064a\\u0629\\u064b \\u062a\\u0651\\u0635\\u0648\\u064a\\u0631 \\u064f\\u0641\\u064a\\u062f\\u0651\\u064a\\u0648\\u060c\\u064b \\u0652\\u0648\\u064a\\u062d\\u064b\\u062a\\u0648\\u0650\\u064a\\u064e \\u0627\\u0644\\u0647\\u0627\\u062a\\u0641 \\u0639\\u064c\\u0644\\u0649 \\u0643\\u0651\\u0627\\u064f\\u0645\\u064d\\u064a\\u0631\\u064e\\u0627 \\u064b\\u0623\\u0650\\u062e\\u064d\\u0631\\u064b\\u0649 \\u0651\\u0644\\u0625\\u064b\\u062c\\u0652\\u0631\\u064c\\u0627\\u0651\\u0621\\u0650 \\u0627\\u064d\\u0644\\u064b\\u0645\\u0643\\u064f\\u0627\\u0644\\u064e\\u0645\\u064e\\u0627\\u062a\\u0650 \\u0651\\u0627\\u064d\\u0644\\u0650\\u0645\\u0652\\u0631\\u0626\\u0651\\u064a\\u0650\\u0629\\u064f .\\u0650* \\u0650\\u0627\\u0644\\u0652\\u0644\\u0648\\u0646: \\u064d\\u0623\\u0633\\u0651\\u0648\\u062f\\u064d \\u064f.\",\n          \"https://example.com/resource/\\u0623\\u0639\\u064f\\u0644\\u0646\\u0650\\u062a\\u064c \\u0645\\u0651\\u062c\\u064f\\u0645\\u064d\\u0648\\u0639\\u0629\\u064e \\u0627\\u0644\\u0641\\u064d\\u0637\\u064a\\u064e\\u0645 \\u0650\\u0623\\u0645\\u0652\\u0633\\u0650 \\u0627\\u0650\\u0633\\u0651\\u062a\\u062d\\u064f\\u0648\\u0627\\u0630\\u0647\\u0627\\u064d \\u0639\\u0652\\u0644\\u064b\\u0649\\u064f \\u064e\\u0641\\u064a\\u0652\\u0648\\u064c\\u062a\\u0643 \\u0644\\u062d\\u0652\\u0644\\u064d\\u0648\\u064b\\u0644 \\u0627\\u064e\\u0644\\u0628\\u0651\\u0631\\u0645\\u0651\\u062c\\u064a\\u0627\\u064e\\u062a\\u060c \\u0652\\u0634\\u0631\\u0643\\u064f\\u0629\\u064c \\u062a\\u0643\\u0652\\u0646\\u0651\\u0648\\u0644\\u064b\\u0648\\u0650\\u062c\\u064a\\u064d\\u0627\\u064c \\u064f\\u0627\\u0644\\u0645\\u0639\\u0644\\u0651\\u0648\\u0645\\u0651\\u0627\\u0652\\u062a\\u0651 \\u0652\\u0627\\u0651\\u0644\\u064b\\u0645\\u062a\\u0643\\u0627\\u064e\\u0645\\u0644\\u0652\\u0629 \\u064d\\u0627\\u0644\\u0645\\u0632\\u0648\\u064f\\u062f\\u0629\\u064d \\u064f\\u0644\\u064d\\u0644\\u062e\\u064c\\u062f\\u064b\\u0645\\u0627\\u064b\\u062a \\u0652\\u0644\\u0652\\u0645\\u062e\\u062a\\u064e\\u0644\\u0650\\u0641\\u064d \\u064f\\u0642\\u0637\\u0627\\u0639\\u064b\\u0627\\u064f\\u062a \\u064f\\u0627\\u064e\\u0644\\u0623\\u0650\\u0639\\u0645\\u0627\\u0644\\u060c \\u064f\\u0648\\u0627\\u0644\\u062a\\u0651\\u064a\\u064d \\u064a\\u0642\\u0650\\u0639\\u0652 \\u064c\\u0645\\u0642\\u0631\\u064d\\u0647\\u0627 \\u064d\\u0641\\u064a \\u062f\\u064f\\u0628\\u064c\\u064a\\u064b .\\u0648\\u062a\\u0652\\u0634\\u0645\\u0644 \\u064f\\u062f\\u0627\\u064f\\u0626\\u064e\\u0631\\u064e\\u0629\\u064c \\u0646\\u0634\\u0627\\u0650\\u0637\\u0627\\u062a \\u0641\\u064a\\u0648\\u0652\\u062a\\u0643\\u060c \\u0627\\u0644\\u0645\\u0635\\u0652\\u0627\\u0651\\u0631\\u064d\\u0641\\u064b \\u0650\\u0648\\u0627\\u0644\\u064b\\u062a\\u064f\\u0645\\u0648\\u064c\\u064a\\u0644 \\u064f\\u0628\\u0645\\u0651\\u0627\\u064e \\u0651\\u0641\\u064e\\u064a\\u064d\\u0647\\u064f\\u0627 \\u064c\\u0627\\u0644\\u0650\\u0635\\u064c\\u064a\\u0631\\u0641\\u0652\\u0629 \\u0627\\u0644\\u0651\\u0625\\u0633\\u0651\\u0644\\u0651\\u0627\\u064f\\u0645\\u064a\\u0650\\u0629\\u060c \\u064b\\u0643\\u0645\\u0627\\u0652 \\u064e\\u062a\\u0652\\u062f\\u064a\\u064d\\u0631\\u0650 \\u0627\\u064b\\u0644\\u0651\\u0634\\u064e\\u0631\\u0650\\u0643\\u0629 \\u0652\\u0627\\u064c\\u0644\\u0639\\u062f\\u064a\\u062f \\u0645\\u0646\\u0650 \\u064d\\u0627\\u0644\\u0641\\u064c\\u0639\\u0650\\u0627\\u064b\\u0644\\u064a\\u0652\\u0627\\u062a\\u064b \\u064b\\u062a\\u0652\\u0634\\u0645\\u064f\\u0644\\u064f \\u0652\\u062a\\u064d\\u062e\\u0652\\u0632\\u0651\\u064a\\u0646 \\u0627\\u064b\\u0644\\u0628\\u064b\\u064a\\u0627\\u064c\\u0646\\u0651\\u0627\\u064c\\u062a\\u060c\\u064c \\u0650\\u0648\\u0650\\u062a\\u0651\\u0646\\u0652\\u0642\\u064b\\u064a\\u064e\\u0629\\u064e \\u064b\\u0627\\u0644\\u0628\\u064a\\u0650\\u0627\\u064f\\u0646\\u0650\\u0627\\u0650\\u062a\\u064b\\u060c\\u064e \\u064b\\u0648\\u0650\\u062a\\u064f\\u062d\\u0650\\u062f\\u064a\\u064d\\u062b \\u064e\\u062a\\u0643\\u064b\\u0646\\u064d\\u0648\\u0644\\u064d\\u0648\\u062c\\u064a\\u0650\\u0627 \\u064d\\u0627\\u0644\\u064c\\u0645\\u0639\\u064b\\u0644\\u0648\\u064e\\u0645\\u064c\\u0627\\u064f\\u062a\\u064d \\u064c. \\u0652\\u0648\\u0633\\u062a\\u0642\\u0648\\u0645 \\u0650\\u0645\\u062c\\u0645\\u0652\\u0648\\u064d\\u0639\\u0629 \\u0627\\u0644\\u0641\\u064e\\u0637\\u064a\\u064d\\u0645 \\u064f\\u0628\\u064b\\u0627\\u0644\\u0627\\u0633\\u064c\\u062a\\u0650\\u0641\\u0627\\u062f\\u0629 \\u064e\\u0645\\u0646\\u064f \\u062e\\u0650\\u0628\\u0652\\u0631\\u064b\\u0627\\u062a \\u0641\\u064d\\u064a\\u064e\\u0648\\u064f\\u062a\\u0651\\u0643 \\u0641\\u064d\\u064a\\u064e \\u0651\\u0627\\u064e\\u0644\\u064f\\u0645\\u064c\\u062c\\u0627\\u064d\\u0644\\u064b \\u0627\\u0644\\u064b\\u0627\\u0633\\u062a\\u064d\\u0634\\u0627\\u0652\\u0631\\u064a\\u064e \\u0627\\u0644\\u0651\\u062e\\u064e\\u0627\\u0651\\u0635\\u064f \\u0628\\u062a\\u0643\\u0646\\u0648\\u0644\\u064b\\u0648\\u064b\\u062c\\u0650\\u064a\\u0627\\u064e \\u0651\\u0627\\u0644\\u064e\\u0645\\u0639\\u0644\\u0648\\u0645\\u064f\\u0627\\u064f\\u062a\\u064c\\u060c \\u0644\\u064f\\u062a\\u064f\\u0632\\u064b\\u0648\\u064a\\u062f\\u064e \\u0627\\u0644\\u0650\\u0632\\u0650\\u0628\\u0652\\u0627\\u064d\\u0626\\u0646 \\u064c\\u0628\\u064d\\u0642\\u0627\\u0652\\u0626\\u064f\\u0645\\u0650\\u0629 \\u064c\\u0634\\u0650\\u0627\\u064b\\u0645\\u0644\\u064c\\u0629\\u0650 \\u0645\\u0650\\u0646\\u0652 \\u064e\\u0627\\u0644\\u0650\\u062d\\u064f\\u0644\\u0648\\u064f\\u0644 \\u0644\\u0645\\u0650\\u062e\\u062a\\u0644\\u0641 \\u0627\\u0644\\u0650\\u0642\\u064d\\u0637\\u0651\\u0627\\u0650\\u0639\\u064e\\u0627\\u064e\\u062a\\u064c . \\u0650\\u0648\\u062a\\u064d\\u0633\\u064c\\u0647\\u0645 \\u064d\\u0639\\u0645\\u0644\\u064c\\u064a\\u064f\\u0629 \\u064c\\u0627\\u064c\\u0644\\u0650\\u0627\\u0651\\u0633\\u062a\\u0650\\u062d\\u0648\\u0652\\u0627\\u0630\\u064e \\u064c\\u0641\\u064a\\u0652 \\u062a\\u0643\\u0631\\u064a\\u0633 \\u0652\\u0645\\u0643\\u0627\\u0646\\u0629 \\u0650\\u0627\\u0650\\u0644\\u0645\\u064f\\u062c\\u0650\\u0645\\u064f\\u0648\\u0639\\u0629 \\u0652\\u0627\\u0644\\u0631\\u064d\\u0627\\u064f\\u0626\\u062f\\u0629\\u0651 \\u0650\\u0641\\u064e\\u064a \\u064d\\u0642\\u0650\\u0637\\u0627\\u0639\\u064c \\u062a\\u0650\\u0643\\u064e\\u0646\\u0652\\u0648\\u064b\\u0644\\u0648\\u064e\\u062c\\u064a\\u064e\\u0627 \\u0627\\u0644\\u0645\\u064b\\u0639\\u064f\\u0644\\u064b\\u0648\\u0652\\u0645\\u0627\\u062a \\u0650.\\u0648\\u0642\\u0651\\u0627\\u0651\\u0644\\u0650 \\u064f\\u0641\\u064d\\u064a\\u0652\\u0634\\u064d\\u064a\\u0634\\u0650 \\u0628\\u0627\\u0651\\u062a\\u064a\\u064c\\u0627\\u060c \\u0645\\u0652\\u062f\\u064a\\u0652\\u0631\\u064f \\u064e\\u0642\\u0652\\u0633\\u0651\\u0645\\u064d \\u0627\\u0650\\u0644\\u0625\\u0644\\u064f\\u0643\\u062a\\u0631\\u0648\\u0646\\u0652\\u064a\\u0650\\u0627\\u0650\\u062a\\u0650 \\u0651\\u0648\\u064b\\u0627\\u0652\\u0644\\u064e\\u0647\\u0646\\u064c\\u062f\\u0652\\u0633\\u064c\\u0629\\u064b \\u0648\\u064e\\u0627\\u0644\\u064b\\u062a\\u0643\\u0646\\u0648\\u0644\\u0652\\u0648\\u062c\\u064f\\u064a\\u064b\\u0627\\u064f \\u0641\\u064a \\u064d\\u0645\\u064e\\u062c\\u0645\\u064e\\u0648\\u0639\\u0651\\u0629\\u0652 \\u0651\\u0627\\u0650\\u0644\\u0641\\u064b\\u0637\\u064a\\u064f\\u0645\\u0651:\\u0651 \\u064a\\u064f\\u0634\\u0643\\u0644 \\u064b\\u0627\\u064c\\u0644\\u0650\\u062c\\u064f\\u0645\\u0650\\u0639\\u0652 \\u0651\\u0628\\u064d\\u064a\\u0651\\u0646 \\u0645\\u064c\\u0643\\u064f\\u0627\\u0645\\u0646 \\u064b\\u0627\\u0644\\u0642\\u0652\\u0648\\u0652\\u0629\\u0650 \\u0641\\u064a \\u0643\\u064e\\u0644\\u062a\\u0627 \\u064e\\u0627\\u0651\\u0644\\u064f\\u0634\\u0631\\u0643\\u062a\\u0651\\u064a\\u0646\\u0652\\u060c\\u0650 \\u0641\\u0631\\u064f\\u0635\\u064e\\u0627\\u064f\\u064b \\u064f\\u0643\\u0628\\u064e\\u064a\\u0631\\u064d\\u0629 \\u0644\\u064e\\u0644\\u064e\\u0645\\u0633\\u062a\\u064c\\u062e\\u062f\\u064b\\u0645\\u064d\\u064a\\u0646 \\u064c\\u0648\\u0652\\u0627\\u0644\\u0647\\u064a\\u0626\\u0627\\u064f\\u062a\\u064c \\u0645\\u064e\\u0646 \\u0643\\u064c\\u0644 \\u0627\\u064c\\u0644\\u0623\\u0651\\u062d\\u0652\\u062c\\u0627\\u064d\\u0645\\u064b\\u060c \\u0645\\u0652\\u0645\\u0646\\u0652 \\u064b\\u064a\\u0633\\u064e\\u0639\\u0648\\u064c\\u0646\\u0650 \\u0644\\u064e\\u0644\\u0627\\u064d\\u0628\\u0652\\u062a\\u0643\\u0627\\u0631\\u0652 \\u064b\\u0648\\u0627\\u0644\\u0651\\u0646\\u064b\\u0645\\u0651\\u0648\\u064d \\u0650\\u0648\\u0627\\u064c\\u0644\\u064e\\u062d\\u0635\\u064c\\u0648\\u0651\\u0644\\u064c \\u0650\\u0639\\u0644\\u0649 \\u0650\\u0627\\u0644\\u064f\\u062e\\u064e\\u064a\\u0652\\u0627\\u0631\\u0627\\u0650\\u062a \\u0652\\u0627\\u0644\\u064d\\u0623\\u0652\\u0645\\u062b\\u0644\\u064c\\u060c\\u0651 \\u0643\\u0645\\u0652\\u0627\\u064d \\u064b\\u062a\\u0632\\u0648\\u0652\\u062f \\u0639\\u064e\\u0645\\u0644\\u064e\\u064a\\u064f\\u0629 \\u064c\\u0627\\u0644\\u064f\\u0627\\u0633\\u0651\\u062a\\u062d\\u0648\\u0627\\u0651\\u0630 \\u0627\\u0644\\u064c\\u0634\\u0651\\u0631\\u064e\\u0643\\u0629\\u0652 \\u064c\\u0628\\u0650\\u0627\\u064d\\u0644\\u0645\\u064f\\u0648\\u0627\\u0631\\u062f \\u0652\\u0627\\u0644\\u0623\\u064b\\u0633\\u0650\\u0627\\u064b\\u0633\\u064e\\u064a\\u0629\\u060c\\u0650 \\u0644\\u062a\\u064d\\u0648\\u064e\\u0641\\u064c\\u064a\\u0650\\u0631\\u0651 \\u0645\\u0646\\u0651\\u062a\\u062c\\u0627\\u064d\\u062a \\u0648\\u064d\\u062e\\u062f\\u064d\\u0645\\u064b\\u0627\\u064d\\u062a\\u0651 \\u0631\\u064b\\u0627\\u064d\\u0626\\u0650\\u062f\\u0629 \\u062a\\u0633\\u062a\\u0647\\u064d\\u062f\\u064d\\u0641 \\u062a\\u062d\\u064d\\u0633\\u064a\\u0651\\u0646 \\u0651\\u0627\\u0652\\u0644\\u0623\\u062f\\u064f\\u0627\\u0621 \\u064d\\u0641\\u064d\\u064a\\u064b \\u0642\\u064f\\u0637\\u0627\\u0639\\u064f \\u064c\\u0627\\u064f\\u0644\\u0623\\u0639\\u064d\\u0645\\u0627\\u0644\\u064b \\u0651\\u0627\\u0651\\u0644\\u064c\\u0630\\u0651\\u064a\\u064b \\u064c\\u064a\\u064e\\u0634\\u0647\\u062f \\u062a\\u0648\\u064b\\u0633\\u0650\\u0639\\u0627\\u064b\\u064e \\u0643\\u064b\\u0628\\u064d\\u064a\\u064c\\u0631\\u0627\\u064b\\u064d .\\u064f\\u0648\\u0642\\u0650\\u0627\\u0644\\u0650 \\u064b\\u0623\\u064f\\u0646\\u064a\\u064c\\u0644\\u064e \\u064d\\u0643\\u064b\\u0648\\u064d\\u0645\\u0627\\u0652\\u0631\\u060c \\u064f\\u0627\\u0652\\u0644\\u064b\\u0645\\u062f\\u064a\\u064b\\u0631 \\u0627\\u0644\\u062a\\u064c\\u0646\\u0641\\u0650\\u064a\\u0630\\u064a\\u060c\\u064b \\u0634\\u0631\\u0643\\u064d\\u0629\\u0652 \\u0641\\u064a\\u0651\\u0648\\u062a\\u064a\\u0643\\u0650 \\u0644\\u062d\\u0644\\u064b\\u0648\\u0652\\u0644 \\u0627\\u0644\\u0628\\u064e\\u0631\\u0645\\u062c\\u064e\\u064a\\u0627\\u064c\\u062a\\u064e: \\u064f\\u064a\\u0639\\u062f \\u064d\\u0627\\u0644\\u0639\\u064c\\u0645\\u0644 \\u064b\\u0636\\u0645\\u064c\\u0646\\u064f \\u0645\\u0650\\u062c\\u064e\\u0645\\u0648\\u0639\\u0652\\u0629 \\u0627\\u0644\\u064d\\u0641\\u0652\\u0637\\u064b\\u064a\\u0645 \\u0627\\u0644\\u0637\\u0631\\u064d\\u064a\\u0642 \\u0627\\u0644\\u0623\\u0633\\u0631\\u064b\\u0639 \\u064c\\u0644\\u064e\\u062a\\u0642\\u064e\\u062f\\u064e\\u064a\\u0645\\u0652 \\u062e\\u064c\\u0628\\u0631\\u0627\\u064f\\u062a\\u0646\\u0650\\u0627 \\u064d\\u0627\\u0650\\u0644\\u064c\\u0645\\u0634\\u0651\\u062a\\u0651\\u0631\\u0651\\u0643\\u0650\\u0629\\u0651 \\u0639\\u0644\\u0649\\u0651 \\u0646\\u064d\\u0637\\u0627\\u0650\\u0642\\u0652 \\u064e\\u0648\\u0627\\u0650\\u0633\\u0652\\u0639\\u0650\\u060c\\u064b \\u064f\\u0648\\u064e\\u062a\\u0651\\u062a\\u0642\\u064f\\u0627\\u0652\\u0633\\u064f\\u0645\\u0650 \\u0641\\u064a\\u0648\\u062a\\u0650\\u064a\\u0643\\u064f \\u064d\\u0644\\u0650\\u062d\\u0644\\u0648\\u064e\\u0644\\u064e \\u0652\\u0627\\u0644\\u0628\\u064d\\u0631\\u0645\\u0652\\u062c\\u064a\\u0627\\u062a \\u0648\\u0645\\u062c\\u064c\\u0645\\u0651\\u0648\\u0639\\u064c\\u0629 \\u0627\\u0644\\u0641\\u0637\\u064a\\u0645\\u064d \\u0650\\u0642\\u064a\\u0652\\u0645\\u0627\\u064b\\u064b\\u0650 \\u0648\\u0651\\u0627\\u0650\\u062d\\u062f\\u0651\\u0629\\u064e\\u060c \\u064f\\u0648\\u0644\\u062f\\u0649\\u0650 \\u064f\\u0643\\u064e\\u0644\\u064f \\u0651\\u0645\\u0650\\u0646\\u0627\\u0651 \\u064c\\u0623\\u0647\\u064d\\u062f\\u0651\\u0627\\u0641 \\u0650\\u0648\\u064f\\u0627\\u064c\\u0636\\u062d\\u0629 \\u064d. \\u064e\\u0648\\u0633\\u0646\\u0637\\u064d\\u0648\\u064c\\u0631\\u0652 \\u0642\\u062f\\u0631\\u0650\\u0627\\u062a\\u0646\\u0627 \\u0644\\u064b\\u062a\\u064f\\u0639\\u0652\\u0632\\u064d\\u064a\\u0632 \\u0651\\u0639\\u0644\\u0627\\u0650\\u0642\\u0627\\u064d\\u062a\\u0652\\u0646\\u0650\\u0627 \\u0652\\u0645\\u064c\\u0639 \\u0627\\u0644\\u0632\\u0628\\u0627\\u0626\\u0652\\u0646\\u0652 \\u064d\\u0627\\u064d\\u0644\\u062d\\u064c\\u0627\\u0644\\u064a\\u064a\\u064c\\u0646\\u064d\\u060c \\u0648\\u064f\\u0625\\u064a\\u062c\\u0627\\u062f\\u064f \\u064c\\u0641\\u0631\\u0635\\u064e \\u062c\\u064d\\u062f\\u0650\\u064a\\u0650\\u062f\\u064e\\u0629\\u0650 \\u0625\\u0644\\u064e\\u0649 \\u062c\\u064e\\u0627\\u0646\\u064f\\u0628\\u0651 \\u064d\\u062a\\u064c\\u0648\\u0641\\u0650\\u064a\\u0631 \\u0627\\u064c\\u0644\\u0650\\u0645\\u0652\\u0632\\u064a\\u062f\\u0652 \\u0645\\u0646 \\u0650\\u062d\\u0644\\u0648\\u064b\\u0644 \\u0627\\u064d\\u0644\\u0623\\u0639\\u064d\\u0645\\u0627\\u0644 \\u0644\\u064c\\u0645\\u064b\\u062e\\u062a\\u064f\\u0644\\u0641 \\u0627\\u0644\\u0634\\u0631\\u0650\\u0643\\u0627\\u062a .\",\n          \"https://example.com/resource/\\u0623\\u0639\\u0644\\u0651\\u0646\\u062a \\u0634\\u0651\\u0631\\u0643\\u064c\\u0629\\u064b \\u0628\\u0651\\u0627\\u064e\\u0646\\u0650\\u0627\\u0633\\u064c\\u0648\\u064e\\u0646\\u064f\\u064a\\u0651\\u0643 \\u0639\\u0646 \\u0627\\u064d\\u0637\\u064e\\u0644\\u0627\\u0651\\u0642\\u064c \\u0651\\u0633\\u0644\\u064f\\u0633\\u064b\\u0644\\u0629 \\u062a\\u0644\\u0652\\u0641\\u064b\\u0632\\u064a\\u0648\\u0646\\u0627\\u062a\\u0651 \\u0641\\u064a\\u064a\\u064d\\u0631\\u0627 \\u0627\\u064f\\u0644\\u064f\\u062c\\u064b\\u062f\\u064a\\u062f\\u0629\\u064d \\u064b\\u0644\\u0644\\u0639\\u064d\\u0627\\u064b\\u0645 \\u064e20\\u064b08 \\u0628\\u0651\\u0639\\u062f\\u0651 \\u0637\\u0648\\u064f\\u0644\\u064d \\u0627\\u0646\\u064f\\u062a\\u0638\\u064d\\u0627\\u064f\\u0631 \\u0641\\u064a \\u0651\\u0645\\u0651\\u0646\\u064f\\u0637\\u064b\\u0642\\u0629 \\u064c\\u0627\\u0644\\u0634\\u0631\\u0652\\u0642 \\u0651\\u0627\\u064e\\u0644\\u0623\\u064f\\u0648\\u064b\\u0633\\u0637\\u0651\\u060c\\u064e \\u0648\\u0627\\u0650\\u0644\\u062a\\u064e\\u064a\\u064c \\u0652\\u062a\\u064b\\u062c\\u0645\\u0639\\u064d \\u064e\\u0628\\u064f\\u064a\\u0652\\u0646 \\u0627\\u0644\\u0652\\u0633\\u064e\\u0645\\u0627\\u062a \\u0648\\u064c\\u0627\\u0651\\u0644\\u064e\\u0645\\u0628\\u0652\\u0627\\u0651\\u062f\\u0631\\u064c\\u0627\\u062a\\u064d \\u064d\\u0627\\u0644\\u062c\\u062f\\u064e\\u064a\\u0652\\u062f\\u0629 \\u0630\\u0651\\u0627\\u064f\\u062a \\u064d\\u0627\\u0644\\u064e\\u0635\\u0644\\u0629\\u0651 \\u0628\\u0651\\u0623\\u064d\\u062c\\u064b\\u0647\\u064f\\u0632\\u0652\\u0629 \\u0627\\u0644\\u0651\\u0639\\u0627\\u0650\\u0645\\u064d \\u0651\\u0627\\u0650\\u0644\\u0645\\u0627\\u0636\\u064a \\u0627\\u0651\\u0644\\u062a\\u064a\\u064f \\u0641\\u0652\\u0627\\u064f\\u0632\\u062a \\u064e\\u0628\\u0627\\u0644\\u0639\\u062f\\u064b\\u064a\\u0652\\u062f\\u0650 \\u064f\\u0645\\u0646\\u064d \\u0627\\u0644\\u064d\\u062c\\u0648\\u0650\\u0627\\u0626\\u0650\\u0632\\u064e \\u064f.\\u0651\\u0648\\u0641\\u064a \\u0627\\u0644\\u0645\\u062c\\u064c\\u0645\\u064d\\u0644\\u060c \\u0652\\u062a\\u0645 \\u0651\\u0637\\u0631\\u064d\\u062d \\u062e\\u0645\\u0633\\u0650 \\u0634\\u064e\\u0627\\u0634\\u0627\\u064d\\u062a\\u0651 \\u0652\\u0628\\u0650\\u0644\\u0650\\u0627\\u064b\\u0632\\u0651\\u0645\\u0627 \\u0648\\u064b \\u064e6 \\u0634\\u0627\\u0634\\u0627\\u064d\\u062a\\u064e \\u064b\\u0645\\u0646\\u064e \\u064d\\u0627\\u064f\\u0644\\u0651\\u0643\\u0631\\u064a\\u0633\\u064f\\u062a\\u0627\\u0652\\u0644\\u0651 \\u0627\\u0644\\u0633\\u064e\\u0627\\u0626\\u0644\\u0651 LCD\\u064b\\u060c \\u0648\\u064e\\u0628\\u064e\\u0647\\u064b\\u0630\\u0650\\u0627 \\u0627\\u0644\\u0650\\u0637\\u0652\\u0631\\u064d\\u062d\\u064e \\u064d\\u062a\\u0645\\u064e\\u0643\\u0650\\u0646\\u0651\\u062a \\u0628\\u0651\\u0627\\u0652\\u0646\\u064f\\u0627\\u064c\\u0633\\u0648\\u0646\\u064f\\u064a\\u0643\\u064e \\u0645\\u0646\\u0651 \\u0650\\u062a\\u0652\\u0648\\u064f\\u0633\\u064f\\u0639\\u0629\\u064d \\u064b\\u0645\\u062c\\u0645\\u0648\\u064f\\u0639\\u0627\\u062a\\u0647\\u0627 \\u0651\\u0645\\u064f\\u0646\\u064f \\u0645\\u0646\\u062a\\u064f\\u062c\\u064d\\u0627\\u064e\\u062a \\u0627\\u0644\\u0648\\u0636\\u064c\\u0648\\u0652\\u062d\\u0650 \\u0652\\u0627\\u064e\\u0644\\u0639\\u0627\\u0644\\u064e\\u064a \\u0627\\u0644\\u0643\\u0627\\u064e\\u0645\\u0644\\u060c\\u064e \\u0651\\u0645\\u064e\\u0639\\u064e \\u0648\\u064d\\u062c\\u0652\\u0648\\u062f\\u0652 \\u0639\\u062f\\u064b\\u062f\\u0652 \\u0645\\u0646 \\u064b\\u0627\\u064d\\u0644\\u0637\\u0631\\u064f\\u0632\\u064f \\u0627\\u0652\\u0644\\u064b\\u0628\\u0652\\u0627\\u0631\\u0632\\u0629 \\u0627\\u0644\\u064e\\u062a\\u0651\\u064a\\u0651 \\u0650\\u062a\\u0628\\u064f\\u062f\\u064f\\u0623 \\u0650\\u0645\\u0646\\u064f \\u064c\\u0634\\u0651\\u0627\\u064e\\u0634\\u064d\\u0629\\u0651 \\u064c\\u0643\\u064b\\u0631\\u064a\\u0633\\u062a\\u064d\\u0627\\u0652\\u0644\\u064c \\u064e\\u0627\\u0644\\u0633\\u064b\\u0627\\u0652\\u0626\\u0644\\u064b \\u064cTX\\u0652-\\u065237LZ\\u06518\\u064c00 \\u0628\\u064f\\u062d\\u062c\\u0645 \\u064f37\\u064b \\u064e\\u0628\\u0648\\u0635\\u0650\\u0629 \\u0648\\u064e\\u062d\\u062a\\u064b\\u0649\\u064c \\u0634\\u064f\\u0627\\u0634\\u064c\\u0629\\u064f \\u0627\\u0644\\u064f\\u0628\\u0644\\u0627\\u064f\\u0632\\u0645\\u064d\\u0627T\\u0651H\\u064f50\\u064cP\\u0651Y\\u0650850\\u0650 \\u064b\\u0627\\u0644\\u064b\\u062a\\u064a\\u064b \\u064a\\u0628\\u0644\\u064f\\u063a \\u062d\\u062c\\u0645\\u0647\\u0650\\u0627\\u0650 5\\u064b0\\u0651 \\u0628\\u0648\\u0635\\u0629\\u064e .\\u064c\\u0648\\u064a\\u0642\\u0648\\u0644\\u064c \\u0633\\u064a\\u062c\\u064c\\u064a \\u064e\\u0643\\u0648\\u064a\\u0627\\u0652\\u0646\\u0652\\u0627\\u062c\\u0652\\u064a\\u064b\\u060c\\u0651 \\u0627\\u064b\\u0644\\u0645\\u062f\\u064a\\u0631\\u0650 \\u064e\\u0627\\u0644\\u0627\\u0650\\u062f\\u0627\\u0631\\u0651\\u064a\\u064d \\u0641\\u0650\\u064a\\u064f \\u064f\\u0628\\u064e\\u0627\\u064d\\u0646\\u0627\\u064b\\u0633\\u0648\\u064c\\u0646\\u064a\\u0643\\u0650 \\u0650\\u0627\\u064e\\u0644\\u0634\\u064d\\u0631\\u0651\\u0642 \\u0627\\u0650\\u0644\\u0623\\u0650\\u0648\\u064d\\u0633\\u064d\\u0637\\u0650 \\u064d\\u0648\\u0627\\u0650\\u0644\\u064d\\u062e\\u064e\\u0644\\u0650\\u064a\\u064b\\u062c\\u064f:\\u064b \\u062a\\u0652\\u0644\\u0651\\u062a\\u0632\\u0651\\u0645\\u064f \\u0628\\u0650\\u0627\\u0646\\u0650\\u0627\\u064c\\u0633\\u0650\\u0648\\u0646\\u064a\\u0643\\u064f \\u0651\\u0646\\u064b\\u062d\\u0648 \\u0651\\u0639\\u0645\\u064b\\u0644\\u0650\\u0627\\u064e\\u0626\\u064c\\u0647\\u0627\\u0651 \\u064d\\u0628\\u064d\\u062a\\u0642\\u064c\\u062f\\u0652\\u064a\\u064d\\u0645 \\u0623\\u064b\\u0641\\u0636\\u0651\\u0644\\u0650 \\u064b\\u0627\\u064e\\u0644\\u064d\\u0645\\u0646\\u064b\\u062a\\u062c\\u064b\\u0627\\u062a \\u0650\\u0648\\u0627\\u064f\\u0644\\u0651\\u062e\\u062f\\u0645\\u0651\\u0627\\u062a\\u064d \\u064c\\u0644\\u062a\\u0650\\u062d\\u0633\\u064a\\u0646\\u064b \\u0651\\u0637\\u064f\\u0631\\u064c\\u0642\\u064d \\u0627\\u064b\\u0644\\u062d\\u064a\\u0627\\u064d\\u0629\\u0652 . \\u0648\\u0646\\u064d\\u062d\\u0646\\u0650 \\u0646\\u0641\\u062e\\u064c\\u0631 \\u0628\\u064c\\u0643\\u0648\\u064f\\u0646\\u0652\\u0646\\u064d\\u0627 \\u064d\\u0639\\u0644\\u0650\\u0627\\u0651\\u0645\\u064b\\u0629\\u064d \\u062a\\u062c\\u064f\\u0627\\u0631\\u064a\\u0629\\u0652 \\u064a\\u0641\\u064b\\u0636\\u0644\\u064d\\u0647\\u064e\\u0627 \\u0652\\u063a\\u0627\\u064c\\u0644\\u0628\\u064a\\u064e\\u0629 \\u064f\\u0627\\u0644\\u0639\\u0645\\u0644\\u0627\\u0651\\u0621\\u0650 \\u0650\\u0641\\u064a\\u064c \\u064e\\u0645\\u0650\\u0646\\u0637\\u0652\\u0642\\u0629 \\u0650\\u0627\\u0644\\u0634\\u0631\\u0642\\u064e \\u0627\\u0651\\u0644\\u0623\\u064c\\u0648\\u0633\\u0637 .\\u0651\"\n        ],\n        \"semantic_type\": \"\",\n        \"description\": \"\"\n      }\n    },\n    {\n      \"column\": \"label\",\n      \"properties\": {\n        \"dtype\": \"category\",\n        \"num_unique_values\": 1,\n        \"samples\": [\n          \"Tech\"\n        ],\n        \"semantic_type\": \"\",\n        \"description\": \"\"\n      }\n    }\n  ]\n}"
            }
          },
          "metadata": {},
          "execution_count": 10
        }
      ]
    },
    {
      "cell_type": "code",
      "source": [
        "df.sample(10)"
      ],
      "metadata": {
        "colab": {
          "base_uri": "https://localhost:8080/",
          "height": 363
        },
        "id": "ceV2HYy4Er4Y",
        "outputId": "d4565849-1adf-45f3-840f-631e3cfa4df6"
      },
      "execution_count": 12,
      "outputs": [
        {
          "output_type": "execute_result",
          "data": {
            "text/plain": [
              "                                                    text     label\n",
              "17815  https://example.com/resource/أٍبوٌظبي -ْ مرْيّ...   Medical\n",
              "8220   https://example.com/resource/أٍنْهى َمّؤشٍر ٍس...   Finance\n",
              "39588  https://example.com/resource/أكدٍ ٍأّحّمُد بًن...      Tech\n",
              "26535  https://example.com/resource/دُ.ّ تٍيسيرَ ًاَل...  Religion\n",
              "27701  https://example.com/resource/جاء فَيّ سيرٍ أٌع...  Religion\n",
              "4680   https://example.com/resource/تعدُدت ّمًوضوًعِا...   Culture\n",
              "29811  https://example.com/resource/أٍنهت إِسبانًيًا ...    Sports\n",
              "4350   https://example.com/resource/فاز الروًاّئَي َا...   Culture\n",
              "3696   https://example.com/resource/نَظًمَتّ الُهيئٌة...   Culture\n",
              "3424   https://example.com/resource/تتوِاٍصل ُاّللّيّ...   Culture"
            ],
            "text/html": [
              "\n",
              "  <div id=\"df-9d2a3c2f-8e83-4436-a9e9-96fd0e3e2f86\" class=\"colab-df-container\">\n",
              "    <div>\n",
              "<style scoped>\n",
              "    .dataframe tbody tr th:only-of-type {\n",
              "        vertical-align: middle;\n",
              "    }\n",
              "\n",
              "    .dataframe tbody tr th {\n",
              "        vertical-align: top;\n",
              "    }\n",
              "\n",
              "    .dataframe thead th {\n",
              "        text-align: right;\n",
              "    }\n",
              "</style>\n",
              "<table border=\"1\" class=\"dataframe\">\n",
              "  <thead>\n",
              "    <tr style=\"text-align: right;\">\n",
              "      <th></th>\n",
              "      <th>text</th>\n",
              "      <th>label</th>\n",
              "    </tr>\n",
              "  </thead>\n",
              "  <tbody>\n",
              "    <tr>\n",
              "      <th>17815</th>\n",
              "      <td>https://example.com/resource/أٍبوٌظبي -ْ مرْيّ...</td>\n",
              "      <td>Medical</td>\n",
              "    </tr>\n",
              "    <tr>\n",
              "      <th>8220</th>\n",
              "      <td>https://example.com/resource/أٍنْهى َمّؤشٍر ٍس...</td>\n",
              "      <td>Finance</td>\n",
              "    </tr>\n",
              "    <tr>\n",
              "      <th>39588</th>\n",
              "      <td>https://example.com/resource/أكدٍ ٍأّحّمُد بًن...</td>\n",
              "      <td>Tech</td>\n",
              "    </tr>\n",
              "    <tr>\n",
              "      <th>26535</th>\n",
              "      <td>https://example.com/resource/دُ.ّ تٍيسيرَ ًاَل...</td>\n",
              "      <td>Religion</td>\n",
              "    </tr>\n",
              "    <tr>\n",
              "      <th>27701</th>\n",
              "      <td>https://example.com/resource/جاء فَيّ سيرٍ أٌع...</td>\n",
              "      <td>Religion</td>\n",
              "    </tr>\n",
              "    <tr>\n",
              "      <th>4680</th>\n",
              "      <td>https://example.com/resource/تعدُدت ّمًوضوًعِا...</td>\n",
              "      <td>Culture</td>\n",
              "    </tr>\n",
              "    <tr>\n",
              "      <th>29811</th>\n",
              "      <td>https://example.com/resource/أٍنهت إِسبانًيًا ...</td>\n",
              "      <td>Sports</td>\n",
              "    </tr>\n",
              "    <tr>\n",
              "      <th>4350</th>\n",
              "      <td>https://example.com/resource/فاز الروًاّئَي َا...</td>\n",
              "      <td>Culture</td>\n",
              "    </tr>\n",
              "    <tr>\n",
              "      <th>3696</th>\n",
              "      <td>https://example.com/resource/نَظًمَتّ الُهيئٌة...</td>\n",
              "      <td>Culture</td>\n",
              "    </tr>\n",
              "    <tr>\n",
              "      <th>3424</th>\n",
              "      <td>https://example.com/resource/تتوِاٍصل ُاّللّيّ...</td>\n",
              "      <td>Culture</td>\n",
              "    </tr>\n",
              "  </tbody>\n",
              "</table>\n",
              "</div>\n",
              "    <div class=\"colab-df-buttons\">\n",
              "\n",
              "  <div class=\"colab-df-container\">\n",
              "    <button class=\"colab-df-convert\" onclick=\"convertToInteractive('df-9d2a3c2f-8e83-4436-a9e9-96fd0e3e2f86')\"\n",
              "            title=\"Convert this dataframe to an interactive table.\"\n",
              "            style=\"display:none;\">\n",
              "\n",
              "  <svg xmlns=\"http://www.w3.org/2000/svg\" height=\"24px\" viewBox=\"0 -960 960 960\">\n",
              "    <path d=\"M120-120v-720h720v720H120Zm60-500h600v-160H180v160Zm220 220h160v-160H400v160Zm0 220h160v-160H400v160ZM180-400h160v-160H180v160Zm440 0h160v-160H620v160ZM180-180h160v-160H180v160Zm440 0h160v-160H620v160Z\"/>\n",
              "  </svg>\n",
              "    </button>\n",
              "\n",
              "  <style>\n",
              "    .colab-df-container {\n",
              "      display:flex;\n",
              "      gap: 12px;\n",
              "    }\n",
              "\n",
              "    .colab-df-convert {\n",
              "      background-color: #E8F0FE;\n",
              "      border: none;\n",
              "      border-radius: 50%;\n",
              "      cursor: pointer;\n",
              "      display: none;\n",
              "      fill: #1967D2;\n",
              "      height: 32px;\n",
              "      padding: 0 0 0 0;\n",
              "      width: 32px;\n",
              "    }\n",
              "\n",
              "    .colab-df-convert:hover {\n",
              "      background-color: #E2EBFA;\n",
              "      box-shadow: 0px 1px 2px rgba(60, 64, 67, 0.3), 0px 1px 3px 1px rgba(60, 64, 67, 0.15);\n",
              "      fill: #174EA6;\n",
              "    }\n",
              "\n",
              "    .colab-df-buttons div {\n",
              "      margin-bottom: 4px;\n",
              "    }\n",
              "\n",
              "    [theme=dark] .colab-df-convert {\n",
              "      background-color: #3B4455;\n",
              "      fill: #D2E3FC;\n",
              "    }\n",
              "\n",
              "    [theme=dark] .colab-df-convert:hover {\n",
              "      background-color: #434B5C;\n",
              "      box-shadow: 0px 1px 3px 1px rgba(0, 0, 0, 0.15);\n",
              "      filter: drop-shadow(0px 1px 2px rgba(0, 0, 0, 0.3));\n",
              "      fill: #FFFFFF;\n",
              "    }\n",
              "  </style>\n",
              "\n",
              "    <script>\n",
              "      const buttonEl =\n",
              "        document.querySelector('#df-9d2a3c2f-8e83-4436-a9e9-96fd0e3e2f86 button.colab-df-convert');\n",
              "      buttonEl.style.display =\n",
              "        google.colab.kernel.accessAllowed ? 'block' : 'none';\n",
              "\n",
              "      async function convertToInteractive(key) {\n",
              "        const element = document.querySelector('#df-9d2a3c2f-8e83-4436-a9e9-96fd0e3e2f86');\n",
              "        const dataTable =\n",
              "          await google.colab.kernel.invokeFunction('convertToInteractive',\n",
              "                                                    [key], {});\n",
              "        if (!dataTable) return;\n",
              "\n",
              "        const docLinkHtml = 'Like what you see? Visit the ' +\n",
              "          '<a target=\"_blank\" href=https://colab.research.google.com/notebooks/data_table.ipynb>data table notebook</a>'\n",
              "          + ' to learn more about interactive tables.';\n",
              "        element.innerHTML = '';\n",
              "        dataTable['output_type'] = 'display_data';\n",
              "        await google.colab.output.renderOutput(dataTable, element);\n",
              "        const docLink = document.createElement('div');\n",
              "        docLink.innerHTML = docLinkHtml;\n",
              "        element.appendChild(docLink);\n",
              "      }\n",
              "    </script>\n",
              "  </div>\n",
              "\n",
              "\n",
              "<div id=\"df-14f65f12-d7e3-4909-ad1c-b9f86024f1e8\">\n",
              "  <button class=\"colab-df-quickchart\" onclick=\"quickchart('df-14f65f12-d7e3-4909-ad1c-b9f86024f1e8')\"\n",
              "            title=\"Suggest charts\"\n",
              "            style=\"display:none;\">\n",
              "\n",
              "<svg xmlns=\"http://www.w3.org/2000/svg\" height=\"24px\"viewBox=\"0 0 24 24\"\n",
              "     width=\"24px\">\n",
              "    <g>\n",
              "        <path d=\"M19 3H5c-1.1 0-2 .9-2 2v14c0 1.1.9 2 2 2h14c1.1 0 2-.9 2-2V5c0-1.1-.9-2-2-2zM9 17H7v-7h2v7zm4 0h-2V7h2v10zm4 0h-2v-4h2v4z\"/>\n",
              "    </g>\n",
              "</svg>\n",
              "  </button>\n",
              "\n",
              "<style>\n",
              "  .colab-df-quickchart {\n",
              "      --bg-color: #E8F0FE;\n",
              "      --fill-color: #1967D2;\n",
              "      --hover-bg-color: #E2EBFA;\n",
              "      --hover-fill-color: #174EA6;\n",
              "      --disabled-fill-color: #AAA;\n",
              "      --disabled-bg-color: #DDD;\n",
              "  }\n",
              "\n",
              "  [theme=dark] .colab-df-quickchart {\n",
              "      --bg-color: #3B4455;\n",
              "      --fill-color: #D2E3FC;\n",
              "      --hover-bg-color: #434B5C;\n",
              "      --hover-fill-color: #FFFFFF;\n",
              "      --disabled-bg-color: #3B4455;\n",
              "      --disabled-fill-color: #666;\n",
              "  }\n",
              "\n",
              "  .colab-df-quickchart {\n",
              "    background-color: var(--bg-color);\n",
              "    border: none;\n",
              "    border-radius: 50%;\n",
              "    cursor: pointer;\n",
              "    display: none;\n",
              "    fill: var(--fill-color);\n",
              "    height: 32px;\n",
              "    padding: 0;\n",
              "    width: 32px;\n",
              "  }\n",
              "\n",
              "  .colab-df-quickchart:hover {\n",
              "    background-color: var(--hover-bg-color);\n",
              "    box-shadow: 0 1px 2px rgba(60, 64, 67, 0.3), 0 1px 3px 1px rgba(60, 64, 67, 0.15);\n",
              "    fill: var(--button-hover-fill-color);\n",
              "  }\n",
              "\n",
              "  .colab-df-quickchart-complete:disabled,\n",
              "  .colab-df-quickchart-complete:disabled:hover {\n",
              "    background-color: var(--disabled-bg-color);\n",
              "    fill: var(--disabled-fill-color);\n",
              "    box-shadow: none;\n",
              "  }\n",
              "\n",
              "  .colab-df-spinner {\n",
              "    border: 2px solid var(--fill-color);\n",
              "    border-color: transparent;\n",
              "    border-bottom-color: var(--fill-color);\n",
              "    animation:\n",
              "      spin 1s steps(1) infinite;\n",
              "  }\n",
              "\n",
              "  @keyframes spin {\n",
              "    0% {\n",
              "      border-color: transparent;\n",
              "      border-bottom-color: var(--fill-color);\n",
              "      border-left-color: var(--fill-color);\n",
              "    }\n",
              "    20% {\n",
              "      border-color: transparent;\n",
              "      border-left-color: var(--fill-color);\n",
              "      border-top-color: var(--fill-color);\n",
              "    }\n",
              "    30% {\n",
              "      border-color: transparent;\n",
              "      border-left-color: var(--fill-color);\n",
              "      border-top-color: var(--fill-color);\n",
              "      border-right-color: var(--fill-color);\n",
              "    }\n",
              "    40% {\n",
              "      border-color: transparent;\n",
              "      border-right-color: var(--fill-color);\n",
              "      border-top-color: var(--fill-color);\n",
              "    }\n",
              "    60% {\n",
              "      border-color: transparent;\n",
              "      border-right-color: var(--fill-color);\n",
              "    }\n",
              "    80% {\n",
              "      border-color: transparent;\n",
              "      border-right-color: var(--fill-color);\n",
              "      border-bottom-color: var(--fill-color);\n",
              "    }\n",
              "    90% {\n",
              "      border-color: transparent;\n",
              "      border-bottom-color: var(--fill-color);\n",
              "    }\n",
              "  }\n",
              "</style>\n",
              "\n",
              "  <script>\n",
              "    async function quickchart(key) {\n",
              "      const quickchartButtonEl =\n",
              "        document.querySelector('#' + key + ' button');\n",
              "      quickchartButtonEl.disabled = true;  // To prevent multiple clicks.\n",
              "      quickchartButtonEl.classList.add('colab-df-spinner');\n",
              "      try {\n",
              "        const charts = await google.colab.kernel.invokeFunction(\n",
              "            'suggestCharts', [key], {});\n",
              "      } catch (error) {\n",
              "        console.error('Error during call to suggestCharts:', error);\n",
              "      }\n",
              "      quickchartButtonEl.classList.remove('colab-df-spinner');\n",
              "      quickchartButtonEl.classList.add('colab-df-quickchart-complete');\n",
              "    }\n",
              "    (() => {\n",
              "      let quickchartButtonEl =\n",
              "        document.querySelector('#df-14f65f12-d7e3-4909-ad1c-b9f86024f1e8 button');\n",
              "      quickchartButtonEl.style.display =\n",
              "        google.colab.kernel.accessAllowed ? 'block' : 'none';\n",
              "    })();\n",
              "  </script>\n",
              "</div>\n",
              "\n",
              "    </div>\n",
              "  </div>\n"
            ],
            "application/vnd.google.colaboratory.intrinsic+json": {
              "type": "dataframe",
              "summary": "{\n  \"name\": \"df\",\n  \"rows\": 10,\n  \"fields\": [\n    {\n      \"column\": \"text\",\n      \"properties\": {\n        \"dtype\": \"string\",\n        \"num_unique_values\": 10,\n        \"samples\": [\n          \"https://example.com/resource/\\u0646\\u064e\\u0638\\u064b\\u0645\\u064e\\u062a\\u0651 \\u0627\\u0644\\u064f\\u0647\\u064a\\u0626\\u064c\\u0629\\u0650 \\u0651\\u0627\\u064e\\u0644\\u064e\\u062f\\u0651\\u0648\\u0644\\u064a\\u064b\\u0629 \\u064e\\u0644\\u0644\\u0645\\u0633\\u0650\\u0631\\u062d\\u064e \\u00ab\\u064bI\\u064cTI\\u064d\\u00bb \\u0627\\u062d\\u062a\\u0652\\u0641\\u064f\\u0627\\u0650\\u0644\\u064e\\u064a\\u0629 \\u0651\\u0628\\u0627\\u064d\\u0644\\u0630\\u0643\\u064b\\u0631\\u0649 \\u0627\\u0644\\u0633\\u0628\\u0639\\u064f\\u064a\\u064b\\u0646\\u0652 \\u0639\\u0644\\u064b\\u0649\\u0650 \\u062a\\u064b\\u0623\\u0633\\u064a\\u0650\\u0633\\u0647\\u0627\\u064e \\u0641\\u064a\\u064d \\u0645\\u0642\\u0652\\u0631 \\u0651\\u00ab\\u064e\\u0627\\u0644\\u064b\\u064a\\u0648\\u064c\\u0646\\u064a\\u0652\\u0633\\u0643\\u064e\\u0648\\u00bb\\u064b \\u064b\\u0641\\u064a\\u064c \\u064c\\u0628\\u0627\\u0631\\u064a\\u0651\\u0633\\u060c \\u0628\\u062d\\u064e\\u0636\\u064d\\u0648\\u064f\\u0631\\u064c \\u064d\\u0631\\u0626\\u064c\\u064a\\u0633\\u064f \\u064c\\u0627\\u0644\\u0652\\u0647\\u0652\\u064a\\u0651\\u0626\\u064b\\u0629\\u064f \\u0645\\u064b\\u062d\\u064b\\u0645\\u062f \\u0633\\u0652\\u064a\\u0641\\u064d \\u0627\\u064e\\u0644\\u0623\\u0641\\u064e\\u062e\\u0645\\u060c\\u064e \\u0648\\u0650\\u0645\\u0645\\u062b\\u064c\\u0644\\u064a\\u0646\\u064e \\u064f\\u0645\\u0651\\u0646 \\u0627\\u0644\\u0645\\u0652\\u0631\\u064c\\u0627\\u064d\\u0643\\u064d\\u0632 \\u0627\\u064e\\u0644\\u0650\\u062e\\u0627\\u064c\\u0635\\u0629\\u0652 \\u0644\\u0652\\u0644\\u0647\\u064c\\u064a\\u064d\\u0626\\u0650\\u0629\\u060c\\u0651 \\u0651\\u0648\\u062c\\u064d\\u0645\\u064b\\u0647\\u0648\\u0631\\u064c \\u0652\\u0645\\u0650\\u0646 \\u0652\\u0645\\u062e\\u062a\\u0644\\u0641 \\u0628\\u0644\\u0652\\u062f\\u0627\\u064e\\u0646\\u064d \\u064d\\u0627\\u0651\\u0644\\u0639\\u0627\\u0644\\u0645.\\u064b \\u064e\\u0648\\u0650\\u0623\\u064d\\u0643\\u0651\\u062f\\u0650 \\u064b\\u0627\\u0644\\u0623\\u0641\\u064b\\u062e\\u064c\\u0645\\u064c \\u0639\\u0644\\u064e\\u0649 \\u064b\\u0623\\u0647\\u0645\\u064a\\u064d\\u0629\\u064d \\u0627\\u0644\\u0645\\u0633\\u0651\\u0631\\u062d\\u064f \\u0648\\u062f\\u064e\\u0648\\u0631\\u0647\\u0650 \\u0641\\u064a \\u064c\\u0627\\u064c\\u0644\\u064b\\u062a\\u0639\\u064c\\u0628\\u0650\\u064a\\u0631 \\u064b\\u0639\\u0646\\u0651 \\u064b\\u0648\\u0627\\u064f\\u0642\\u064d\\u0639\\u064b \\u0627\\u0651\\u0644\\u062d\\u064a\\u0627\\u0651\\u0629\\u0651 \\u0627\\u064c\\u0644\\u0627\\u064f\\u062c\\u0650\\u062a\\u0645\\u0627\\u0639\\u064f\\u064a\\u0650\\u0629 \\u0652\\u0628\\u0635\\u064c\\u0648\\u0631\\u0629\\u064f \\u0648\\u0627\\u0636\\u064b\\u062d\\u064c\\u0629\\u060c \\u0645\\u0634\\u064b\\u064a\\u0652\\u0631\\u0650\\u0627\\u064d\\u064b\\u064f \\u0625\\u0652\\u0644\\u0649 \\u0651\\u0623\\u0647\\u064f\\u0645\\u0650\\u064a\\u0652\\u0629\\u064b \\u0652\\u062f\\u064d\\u0648\\u0631 \\u0627\\u064d\\u0644\\u0647\\u0652\\u064a\\u064d\\u0626\\u064d\\u0629 \\u064f\\u0641\\u064a \\u064f\\u0627\\u0644\\u064b\\u062a\\u064c\\u0639\\u0631\\u064a\\u064f\\u0641 \\u0651\\u0628\\u0627\\u0644\\u0652\\u062b\\u0642\\u0627\\u064e\\u0641\\u0629 \\u0648\\u064b\\u0627\\u064f\\u0644\\u0650\\u0641\\u0646\\u0648\\u0646 \\u0627\\u064c\\u0644\\u0639\\u064e\\u0627\\u064d\\u0644\\u0645\\u064b\\u064a\\u0629 \\u064c\\u0648\\u064b\\u062a\\u064e\\u0639\\u0632\\u0652\\u064a\\u0632\\u0647\\u064c\\u0627 \\u0650\\u0627\\u0644\\u0628\\u064d\\u0631\\u0627\\u0645\\u062c \\u0627\\u0644\\u0652\\u062a\\u0650\\u064a \\u062a\\u0639\\u0646\\u0651\\u0649\\u0650 \\u064d\\u0628\\u0627\\u0652\\u0644\\u0652\\u062a\\u0650\\u062f\\u0631\\u064f\\u064a\\u0628 \\u0648\\u0627\\u0644\\u064d\\u062a\\u0623\\u0647\\u0651\\u064a\\u0644\\u064b \\u0627\\u064c\\u0644\\u0645\\u0647\\u0646\\u064a \\u064b\\u0627\\u064c\\u0644\\u0645\\u064c\\u0633\\u0631\\u0651\\u062d\\u064b\\u064a. \\u0648\\u064e\\u0644\\u0652\\u0641\\u064b\\u062a\\u064b \\u064c\\u0627\\u0644\\u0623\\u0641\\u064e\\u062e\\u064e\\u0645\\u064b \\u0650\\u0625\\u064d\\u0644\\u0651\\u0649\\u0652 \\u064e\\u062f\\u064c\\u0648\\u064c\\u0631 \\u0650\\u00ab\\u064d\\u0627\\u064d\\u0644\\u064a\\u0648\\u0652\\u0646\\u064a\\u0633\\u0643\\u0648\\u00bb\\u0650 \\u064c\\u0648\\u0651\\u0627\\u064b\\u0644\\u0642\\u064d\\u0627\\u0626\\u064b\\u0645\\u0650\\u064a\\u064c\\u0646 \\u0641\\u064a\\u064c\\u0647\\u0627 \\u0639\\u0652\\u0644\\u0652\\u0649\\u0650 \\u062f\\u064b\\u0639\\u064e\\u0645 \\u0627\\u0644\\u064e\\u062b\\u064e\\u0642\\u0627\\u064d\\u0641\\u0629 \\u0648\\u0627\\u0651\\u0644\\u064c\\u0641\\u064b\\u0646\\u064b\\u0648\\u0646 \\u0650\\u0627\\u0644\\u0650\\u0623\\u0650\\u062f\\u064e\\u0627\\u0626\\u0652\\u064a\\u0629 \\u0641\\u064a \\u0650\\u0627\\u0652\\u0644\\u064f\\u0639\\u0627\\u064b\\u0644\\u0645\\u064b\\u060c\\u0652 \\u0648\\u0623\\u064f\\u0636\\u0627\\u064e\\u0641 \\u064b\\u0627\\u064b\\u0644\\u0650\\u0623\\u064d\\u0641\\u064b\\u062e\\u0650\\u0645:\\u064c \\u0625\\u0652\\u0646\\u064d \\u0627\\u062d\\u062a\\u0650\\u0641\\u064e\\u0627\\u0644\\u0627\\u0650\\u062a\\u0650 \\u0627\\u0644\\u0650\\u0647\\u064a\\u0650\\u0626\\u064e\\u0629 \\u064b\\u0627\\u0644\\u064b\\u062f\\u064d\\u0648\\u0644\\u064f\\u064a\\u0629\\u064d \\u0644\\u0644\\u0650\\u0645\\u0633\\u0631\\u064c\\u062d\\u064b \\u064f\\u0628\\u0652\\u0645\\u064e\\u0631\\u0648\\u0652\\u0631 \\u064b\\u0633\\u0628\\u064e\\u0639\\u064a\\u0646\\u0650 \\u064b\\u0639\\u064f\\u0627\\u0645\\u064c\\u0627\\u0650\\u064b \\u0650\\u0639\\u0651\\u0644\\u0649\\u0651 \\u0651\\u062a\\u0623\\u0633\\u064a\\u0652\\u0633\\u0647\\u0651\\u0627\\u064e \\u0647\\u0648 \\u062a\\u0623\\u0643\\u064a\\u062f\\u0652 \\u064c\\u0639\\u0644\\u064d\\u0649 \\u062f\\u0648\\u0631\\u064b\\u0647\\u0627\\u064d \\u062e\\u0644\\u0627\\u0644 \\u064c\\u062a\\u0644\\u0643 \\u0652\\u0627\\u0644\\u0641\\u0651\\u062a\\u064b\\u0631\\u0651\\u0629\\u064c \\u0652\\u0641\\u064f\\u064a \\u064f\\u0627\\u0652\\u0644\\u062a\\u0651\\u0639\\u0631\\u0652\\u064a\\u064d\\u0641 \\u064d\\u0628\\u0651\\u0627\\u0651\\u0644\\u062b\\u0642\\u064d\\u0627\\u0641\\u064d\\u0629\\u064c \\u0648\\u0627\\u064b\\u0644\\u064f\\u0641\\u0646\\u064b\\u0648\\u0646\\u064d \\u064e\\u0627\\u064b\\u0644\\u064f\\u0639\\u0652\\u0627\\u0644\\u0650\\u0645\\u064a\\u0629\\u060c\\u064d \\u064d\\u0648\\u0637\\u0650\\u0645\\u064d\\u0648\\u062d\\u0646\\u0651\\u0627\\u064f \\u064b\\u0641\\u064a \\u064f\\u0627\\u0644\\u0650\\u0647\\u064b\\u064a\\u0626\\u0629\\u064f \\u064b\\u0623\\u0650\\u0646\\u0651 \\u064a\\u064e\\u062a\\u064c\\u0648\\u0627\\u0635\\u064b\\u0644 \\u062f\\u0639\\u0650\\u0645\\u064b\\u0646\\u0627 \\u0651\\u0648\\u064d\\u0639\\u0637\\u0627\\u064c\\u0624\\u064d\\u0646\\u0627 \\u0644\\u0644\\u0651\\u062d\\u0652\\u0631\\u064d\\u0627\\u064c\\u0643\\u0650 \\u0652\\u0627\\u064e\\u0644\\u062b\\u064d\\u0642\\u064f\\u0627\\u0641\\u064a\\u064e \\u0650\\u0648\\u0627\\u064c\\u0644\\u064d\\u0641\\u0646\\u064a\\u0650 \\u0639\\u0651\\u0631\\u0628\\u0652\\u064a\\u064c\\u0627\\u064b\\u0651 \\u0648\\u064f\\u062f\\u0648\\u0644\\u064f\\u064a\\u0627\\u064b \\u0644\\u0651\\u062a\\u0639\\u0651\\u0645\\u064a\\u0642\\u0651 \\u0650\\u0627\\u0644\\u064d\\u062a\\u0641\\u064f\\u0627\\u0651\\u0647\\u0645 \\u0627\\u064e\\u0644\\u0651\\u0645\\u064b\\u062a\\u064b\\u0628\\u0627\\u062f\\u064b\\u0644\\u064f\\u060c \\u0648\\u0627\\u0644\\u0625\\u0633\\u064e\\u0647\\u0627\\u064e\\u0645\\u0650 \\u064d\\u0641\\u064a \\u062a\\u0631\\u064c\\u0633\\u064a\\u064e\\u062e \\u0627\\u064f\\u0644\\u0651\\u0635\\u062f\\u0627\\u0651\\u0642\\u0652\\u0629 \\u0628\\u064d\\u064a\\u0650\\u0646 \\u0627\\u064e\\u0644\\u0650\\u0634\\u0639\\u0648\\u0628\\u060c\\u0650 \\u064e\\u062e\\u064e\\u0627\\u064f\\u0635\\u0629\\u0652 \\u0641\\u064a\\u064c \\u064b\\u0647\\u064d\\u0630\\u0650\\u0627\\u064e \\u064b\\u0627\\u064c\\u0644\\u0639\\u0650\\u0627\\u064e\\u0645\\u0652 \\u064f20\\u064b18\\u064d \\u0627\\u0651\\u0644\\u064d\\u0630\\u064a \\u064b\\u0627\\u062e\\u062a\\u0631\\u0646\\u0627 \\u0644\\u064e\\u0647 \\u0651\\u0623\\u064c\\u0646 \\u064a\\u064c\\u0643\\u0648\\u0646 \\u064f\\u0639\\u064e\\u0627\\u0645 \\u0652\\u0627\\u0644\\u0647\\u064b\\u064a\\u0626\\u064b\\u0629 \\u0627\\u0651\\u0644\\u064e\\u062f\\u0648\\u0652\\u0644\\u064a\\u0629\\u064f \\u064c\\u0644\\u064b\\u0644\\u0651\\u0645\\u064d\\u0633\\u0631\\u064f\\u062d.\\u0650\",\n          \"https://example.com/resource/\\u0623\\u064d\\u0646\\u0652\\u0647\\u0649 \\u064e\\u0645\\u0651\\u0624\\u0634\\u064d\\u0631 \\u064d\\u0633\\u064d\\u0648\\u0642\\u0651 \\u0627\\u0652\\u0644\\u064c\\u0625\\u0652\\u0645\\u0651\\u0627\\u064c\\u0631\\u0627\\u062a \\u062a\\u0650\\u062f\\u064e\\u0627\\u0648\\u0650\\u0644\\u0650\\u0627\\u062a \\u064f\\u0627\\u0644\\u064d\\u0623\\u064c\\u0645\\u0633 \\u0639\\u064e\\u0644\\u064e\\u0649\\u064c \\u0627\\u0651\\u0633\\u062a\\u0642\\u0631\\u0627\\u0631\\u0650 \\u064c\\u0646\\u0633\\u064c\\u0628\\u064a\\u064d \\u0645\\u0646\\u062e\\u0641\\u0650\\u0636\\u0651\\u0627\\u0652\\u064b\\u0652 \\u064c0\\u0652\\u060c\\u065009\\u064b%\\u064c \\u064b\\u0628\\u0650\\u062e\\u0633\\u064f\\u0627\\u064c\\u0626\\u064f\\u0631 378\\u060c9\\u064d \\u0645\\u0650\\u0644\\u0651\\u064a\\u064d\\u0648\\u0651\\u0646\\u064c \\u0650\\u062f\\u0631\\u064d\\u0647\\u064f\\u0645\\u0651 \\u0623\\u064f\\u0648\\u0635\\u0644\\u064d\\u062a \\u064f\\u0627\\u0651\\u0644\\u0652\\u0642\\u064e\\u064a\\u0645\\u0629\\u0650 \\u064d\\u0627\\u064d\\u0644\\u0633\\u0648\\u0642\\u064a\\u064e\\u0629\\u064b \\u0625\\u064c\\u0644\\u064e\\u0649 4\\u064c4\\u06512 \\u0645\\u0644\\u064b\\u064a\\u064f\\u0627\\u064f\\u0631 \\u062f\\u064c\\u0631\\u0647\\u0645 \\u0651\\u0628\\u0625\\u062c\\u0645\\u0627\\u064d\\u0644\\u064a\\u0651 \\u064f\\u062a\\u0651\\u062f\\u064d\\u0627\\u064f\\u0648\\u0652\\u0644\\u0650\\u0627\\u062a 530 \\u0645\\u0644\\u064f\\u064a\\u0648\\u064b\\u0646\\u0651 \\u064d\\u062f\\u0650\\u0631\\u0647\\u064b\\u0645\\u060c\\u064d \\u0650\\u0648\\u0652\\u0630\\u0644\\u0650\\u0643 \\u064f\\u0646\\u062a\\u064a\\u0652\\u062c\\u0629 \\u064c\\u0627\\u0646\\u062e\\u064c\\u0641\\u064c\\u0627\\u0636 \\u064f\\u0645\\u064c\\u0624\\u064e\\u0634\\u0631 \\u0633\\u0652\\u0648\\u064e\\u0642 \\u0652\\u062f\\u0628\\u0651\\u064a \\u0652\\u0628\\u0648\\u0627\\u064d\\u0642\\u0639 0\\u064c\\u060c8\\u064b7\\u064d% \\u064e\\u0625\\u064b\\u0644\\u0649\\u0651 \\u064e192\\u06522 \\u0652\\u0646\\u0651\\u0642\\u0637\\u0629\\u060c \\u064c\\u0648\\u0651\\u0627\\u064c\\u0631\\u062a\\u0650\\u0641\\u0627\\u0639 \\u0633\\u0648\\u064e\\u0642 \\u0652\\u0623\\u0628\\u064d\\u0648\\u064b\\u0638\\u0651\\u0628\\u064a\\u0650 0\\u060c\\u064c1\\u064f3%\\u0650 \\u0652\\u0625\\u064b\\u0644\\u0649 300\\u06518\\u064d\\u060c\\u064e4 \\u0650\\u0646\\u0642\\u0651\\u0637\\u0629\\u064e .\\u0648\\u064c\\u0634\\u0647\\u062f\\u064b \\u0625\\u0639\\u064e\\u0645\\u064d\\u0627\\u064d\\u0631 \\u0650\\u0639\\u0645\\u0644\\u064a\\u064b\\u0627\\u0652\\u062a \\u062c\\u064f\\u0646\\u064a\\u064c \\u0623\\u0631\\u0628\\u0627\\u0650\\u062d\\u064d \\u0652\\u0628\\u064d\\u0639\\u0652\\u062f \\u064e\\u0623\\u064d\\u0646\\u0651 \\u0633\\u062c\\u064b\\u0644\\u0651 \\u064f\\u0627\\u0652\\u0631\\u062a\\u064c\\u0641\\u064b\\u0627\\u064d\\u0639\\u0651\\u0627\\u064b\\u064b \\u0628\\u0648\\u064b\\u0627\\u064c\\u0642\\u0639 \\u064c50\\u0652%\\u0652 \\u0645\\u064c\\u0646\\u0650\\u0630 \\u0628\\u0650\\u062f\\u0651\\u0627\\u064a\\u064c\\u0629 \\u064f\\u0627\\u064c\\u0644\\u0639\\u0627\\u0645 \\u0650\\u0644\\u064a\\u064f\\u063a\\u064d\\u0644\\u064d\\u0642 \\u0645\\u064e\\u0646\\u064e\\u062e\\u064b\\u0641\\u0636\\u0627\\u064b 1\\u0652\\u060c\\u064b42\\u0650% \\u0625\\u0644\\u0649\\u0652 5\\u060c56 \\u062f\\u064f\\u0631\\u0647\\u0645\\u060c\\u064b \\u0639\\u0644\\u0645\\u064b\\u0627\\u064b\\u064b\\u064d \\u064e\\u0628\\u0623\\u0646 \\u0625\\u062a\\u0634\\u064b \\u0625\\u064d\\u0633\\u064d \\u0628\\u064c\\u064a\\u0650 \\u064c\\u0633\\u064d\\u064a\\u064d \\u0631\\u0641\\u0639\\u0651 \\u0627\\u0644\\u064e\\u0633\\u0639\\u0631 \\u0627\\u0644\\u0645\\u064c\\u0633\\u064f\\u062a\\u0647\\u064f\\u062f\\u064d\\u0641 \\u064b\\u0644\\u0625\\u064f\\u0639\\u064d\\u0645\\u0627\\u0631\\u0651 \\u0651\\u0625\\u0650\\u0644\\u064b\\u0649 \\u064c7\\u064c\\u060c\\u064d7 \\u062f\\u0631\\u0647\\u0652\\u0645\\u060c\\u064e \\u0643\\u064d\\u0645\\u0650\\u0627\\u0651 \\u0652\\u0627\\u0651\\u0646\\u0650\\u062e\\u0641\\u0651\\u0636\\u0650 \\u064d\\u062f\\u064b\\u0628\\u064a \\u064f\\u0627\\u0644\\u0625\\u064d\\u0633\\u0644\\u0627\\u064d\\u0645\\u064a\\u0652 \\u064f\\u0628\\u0642\\u064e\\u0648\\u0629\\u064c \\u064e\\u0628\\u0651\\u0646\\u0652\\u0633\\u064f\\u0628\\u0629 7\\u064c\\u060c08% \\u064b\\u0625\\u0644\\u0649 \\u064c2\\u0650\\u060c\\u064b1\\u064e \\u062f\\u064c\\u0631\\u0647\\u0645\\u064d \\u0641\\u064d\\u064a \\u0623\\u064b\\u0648\\u064d\\u0644\\u0652 \\u0652\\u064a\\u064f\\u0648\\u0645\\u064f \\u0644\\u0644\\u0651\\u062a\\u0650\\u062f\\u064e\\u0627\\u064c\\u0648\\u0644\\u064b \\u0645\\u0650\\u0646 \\u0651\\u062f\\u0648\\u064c\\u0646\\u064b \\u064f\\u0627\\u0652\\u0633\\u064d\\u062a\\u064c\\u062d\\u0650\\u0642\\u0627\\u064e\\u0642 \\u0627\\u064d\\u0644\\u064b\\u0623\\u064c\\u0631\\u064b\\u0628\\u0627\\u062d\\u064d \\u064e.\\u0650\\u0648\\u0627\\u0652\\u0631\\u062a\\u0641\\u0639 \\u0628\\u0646\\u0643 \\u0627\\u064d\\u0644\\u0625\\u0645\\u0627\\u0650\\u0631\\u0627\\u064f\\u062a\\u064b \\u062f\\u0652\\u0628\\u064c\\u064a\\u0650 \\u0651\\u0627\\u0652\\u0644\\u0648\\u0637\\u064e\\u0646\\u064a\\u0650 \\u064b3\\u0652\\u060c32\\u0650% \\u064f\\u0625\\u0644\\u0649 \\u06524\\u0651\\u060c\\u06500\\u06505 \\u0650\\u062f\\u0631\\u0647\\u0645 \\u064f\\u0641\\u064a\\u0652 \\u0622\\u062e\\u0631\\u064d \\u0651\\u064a\\u0651\\u0648\\u0645\\u0650 \\u064b\\u0644\\u0627\\u0633\\u064b\\u062a\\u062d\\u064d\\u0642\\u064b\\u0627\\u0651\\u0642\\u064c \\u0627\\u0644\\u0623\\u0631\\u0650\\u0628\\u0627\\u062d\\u0651\\u060c\\u0651 \\u0643\\u064f\\u0645\\u0627 \\u064d\\u0634\\u064b\\u0647\\u0652\\u062f \\u0623\\u064b\\u0631\\u0627\\u0628\\u064d\\u062a\\u064c\\u0643\\u064f \\u0627\\u0650\\u0631\\u064b\\u062a\\u0651\\u0641\\u0627\\u064b\\u0639\\u0650\\u0627\\u0650\\u064b\\u0650 \\u0628\\u0648\\u064f\\u0627\\u064b\\u0642\\u0639 \\u064d2\\u064e\\u060c4\\u0650% \\u0625\\u0644\\u064d\\u0649\\u064e \\u064d2\\u060c1\\u064f3 \\u0651\\u062f\\u0631\\u064e\\u0647\\u0645\\u060c \\u0650\\u0648\\u0652\\u0641\\u0642\\u062f\\u064b \\u0645\\u0651\\u0635\\u0631\\u0641\\u064d \\u0639\\u064d\\u062c\\u064d\\u0645\\u064c\\u0627\\u0646 \\u0645\\u064f\\u0643\\u064e\\u0627\\u064e\\u0633\\u0651\\u0628\\u0647 \\u0651\\u0627\\u0644\\u064d\\u062a\\u064f\\u064a \\u0633\\u064c\\u062c\\u064c\\u0644\\u064f\\u0647\\u0627\\u064f \\u0623\\u064c\\u0645\\u0633\\u064f \\u0644\\u064a\\u063a\\u0644\\u0642 \\u0651\\u0628\\u0651\\u0627\\u0646\\u062e\\u0641\\u064e\\u0627\\u0651\\u0636\\u064b 3\\u060c\\u064f2\\u064b3% \\u0625\\u0644\\u064e\\u0649 \\u064c1\\u060c5\\u064d \\u064f\\u062f\\u0631\\u0647\\u064f\\u0645 .\\u064f\\u0648\\u064f\\u0642\\u0650\\u0627\\u062f \\u064f\\u0627\\u0652\\u0644\\u064b\\u0642\\u0637\\u0627\\u064d\\u0639 \\u064d\\u0627\\u0644\\u064e\\u0645\\u064e\\u0635\\u0631\\u0641\\u0651\\u064a\\u064f \\u0633\\u0648\\u0642\\u0651 \\u0651\\u0623\\u0628\\u064f\\u0648\\u064d\\u0638\\u064f\\u0628\\u064f\\u064a \\u0644\\u0651\\u0644\\u064d\\u0627\\u0631\\u064f\\u062a\\u064f\\u0641\\u0627\\u064b\\u0639\\u064b \\u0641\\u0623\\u0650\\u063a\\u0644\\u0642\\u0650 \\u064f\\u0627\\u0644\\u0652\\u062e\\u064e\\u0644\\u064f\\u064a\\u062c \\u0627\\u064b\\u0644\\u0623\\u0648\\u0644\\u064f \\u064d\\u0639\\u064d\\u0646\\u062f\\u064d \\u065213\\u064d\\u060c1\\u064d5\\u0651 \\u062f\\u064e\\u0631\\u0651\\u0647\\u0650\\u0645\\u0652 \\u0628\\u0627\\u0650\\u0631\\u062a\\u0641\\u0627\\u064d\\u0639\\u064f 1\\u060c15%\\u0651\\u060c\\u064b \\u064d\\u0648\\u0623\\u064c\\u0628\\u0652\\u0648\\u0638\\u0628\\u0651\\u064a\\u064d \\u0627\\u0644\\u0650\\u062a\\u064b\\u062c\\u0650\\u0627\\u064d\\u0631\\u0650\\u064a\\u064b \\u06500\\u0652\\u060c\\u064e25% \\u064c\\u0625\\u0650\\u0644\\u0649\\u064f 4\\u064d\\u060c\\u064b03\\u0650 \\u064f\\u062f\\u064c\\u0631\\u0647\\u0645\\u060c \\u0641\\u064a\\u064d\\u0645\\u0652\\u0627 \\u0652\\u0636\\u063a\\u0637\\u0652 \\u064e\\u0627\\u0644\\u0639\\u064d\\u0642\\u0627\\u064e\\u0631\\u0652 \\u0639\\u0644\\u0652\\u0649 \\u064d\\u0645\\u0652\\u0624\\u0651\\u0634\\u0651\\u0631 \\u064b\\u0627\\u0644\\u0633\\u064e\\u0648\\u0652\\u0642\\u0651\\u060c \\u062d\\u064d\\u064a\\u062b \\u0627\\u064f\\u0646\\u064d\\u062e\\u064f\\u0641\\u0636\\u064c \\u0627\\u0644\\u0651\\u062f\\u0650\\u0627\\u0631\\u064d 1\\u064b\\u060c4\\u06502% \\u0625\\u064f\\u0644\\u064c\\u0649 1\\u064b\\u060c39 \\u062f\\u064c\\u0631\\u0650\\u0647\\u0645\\u064d\\u060c\\u0652 \\u0648\\u0625\\u064b\\u0634\\u0631\\u064f\\u0627\\u064f\\u0642\\u0650 \\u06511\\u060c\\u065261%\\u0651 \\u064d\\u0625\\u0644\\u064f\\u0649\\u064d \\u06510\\u0650\\u060c6\\u064d1\\u064f \\u064d\\u062f\\u0650\\u0631\\u0647\\u0645\\u0650\\u060c \\u0648\\u0650\\u0635\\u0652\\u0631\\u064c\\u0648\\u062d\\u0650 \\u064e0\\u064d\\u060c\\u064e5\\u064e8\\u064e% \\u064c\\u0625\\u0650\\u0644\\u064c\\u0649\\u064b 1\\u064f\\u060c71 \\u062f\\u064c\\u0631\\u064f\\u0647\\u0652\\u0645\\u0652 \\u064b.\",\n          \"https://example.com/resource/\\u062a\\u0639\\u062f\\u064f\\u062f\\u062a \\u0651\\u0645\\u064b\\u0648\\u0636\\u0648\\u064b\\u0639\\u0650\\u0627\\u0651\\u062a \\u064c\\u0627\\u0644\\u0650\\u0639\\u064c\\u062f\\u0651\\u062f \\u064c\\u0627\\u064d\\u0644\\u0651\\u0623\\u062e\\u064f\\u064a\\u0652\\u0631 \\u064f\\u0645\\u0646 \\u064f\\u0645\\u064c\\u062c\\u064e\\u0644\\u0652\\u0629 \\u0627\\u0644\\u0631\\u064c\\u0627\\u064d\\u0641\\u062f \\u0650\\u0627\\u064c\\u0644\\u064e\\u062b\\u0652\\u0642\\u0627\\u0641\\u064f\\u064a\\u0629 \\u0652\\u0627\\u0644\\u0652\\u0635\\u064c\\u0627\\u0651\\u062f\\u0651\\u0631\\u0650\\u0629\\u064d \\u064c\\u0639\\u064e\\u0646 \\u0642\\u064e\\u0633\\u064e\\u0645\\u0651 \\u0627\\u064f\\u0644\\u0652\\u062f\\u0631\\u0652\\u0627\\u0633\\u0627\\u0652\\u062a \\u0648\\u0627\\u064d\\u0644\\u0646\\u0651\\u0634\\u0631\\u064b \\u0641\\u0651\\u064a\\u064f \\u062f\\u0652\\u0627\\u0626\\u0631\\u0629\\u064c \\u064f\\u0627\\u0650\\u0644\\u064d\\u062b\\u0642\\u0627\\u0641\\u0652\\u0629\\u0652 \\u0648\\u064b\\u0627\\u0644\\u064b\\u0625\\u064b\\u0639\\u064b\\u0644\\u0627\\u0645\\u0652 \\u0628\\u064f\\u0627\\u0644\\u0634\\u0627\\u0631\\u0642\\u0629\\u060c \\u064c\\u0644\\u064b\\u062a\\u062a\\u0646\\u064f\\u0627\\u0648\\u0644 \\u0634\\u062a\\u0649\\u064e \\u0646\\u0648\\u0627\\u062d\\u064a\\u0651 \\u0627\\u064b\\u0644\\u0650\\u0623\\u062f\\u0628 \\u064e\\u0648\\u0627\\u0644\\u0650\\u0641\\u0652\\u0643\\u0650\\u0631\\u0652\\u060c \\u0628\\u062f\\u0650\\u0623\\u064e \\u0627\\u0644\\u064d\\u0639\\u062f\\u062f \\u0628\\u0645\\u064b\\u0627\\u064f\\u062f\\u064b\\u0629 \\u0639\\u0646\\u0648\\u064b\\u0627\\u064f\\u0646\\u0650\\u0647\\u064c\\u0627\\u064e \\u0627\\u0644\\u0645\\u0647\\u064b\\u0631\\u0650\\u062c\\u0627\\u064d\\u0646\\u0650 \\u0627\\u0644\\u0639\\u0650\\u0627\\u064c\\u0644\\u0645\\u064e\\u064a \\u064b\\u0627\\u064c\\u0644\\u0623\\u0648\\u064c\\u0644 \\u0644\\u0652\\u0644\\u064d\\u0642\\u0635\\u064d\\u0629\\u064e \\u0627\\u0650\\u0644\\u062a\\u0648\\u0652\\u064a\\u064c\\u062a\\u0631\\u064f\\u064a\\u064c\\u0629\\u064f\\u060c \\u064d\\u062b\\u0650\\u0645 \\u062a\\u0644\\u062a\\u0647\\u0627 \\u064e\\u0645\\u0650\\u0627\\u064c\\u062f\\u064f\\u0629\\u064c \\u0628\\u0639\\u064b\\u0646\\u0648\\u0627\\u0646 \\u064e\\u062c\\u0648\\u064b\\u0631\\u0652 \\u062c\\u0631\\u064a\\u0651\\u062c\\u064e\\u0648\\u0631\\u064a\\u064d \\u064f\\u0627\\u0644\\u0628\\u0631\\u0651\\u0648\\u0641\\u0633\\u0648\\u0631\\u064e \\u0627\\u0644\\u0631\\u064e\\u0648\\u0645\\u0627\\u0646\\u064a \\u0627\\u0644\\u0645\\u064e\\u0633\\u062a\\u0639\\u064b\\u0631\\u064f\\u0628\\u060c\\u064b \\u0648\\u0647\\u064d\\u0648\\u0650 \\u064d\\u0627\\u064f\\u0644\\u064e\\u0642\\u0627\\u064b\\u0645\\u0629 \\u0652\\u0627\\u0644\\u0651\\u062b\\u064f\\u0642\\u064b\\u0627\\u0641\\u064b\\u064a\\u0651\\u0629 \\u0644\\u064f\\u0647\\u0630\\u0652\\u0627 \\u064e\\u0627\\u0652\\u0644\\u0650\\u0639\\u062f\\u062f\\u060c \\u0641\\u064a\\u0652 \\u0628\\u064e\\u062d\\u0650\\u062b\\u064d \\u062d\\u064f\\u0648\\u064d\\u0644 \\u064c\\u0645\\u0633\\u064a\\u064c\\u0631\\u062a\\u064d\\u0647 \\u0627\\u064b\\u0644\\u0639\\u0644\\u0645\\u064d\\u064a\\u064d\\u0629 \\u0648\\u0652\\u0627\\u0644\\u062b\\u0642\\u0627\\u0651\\u0641\\u064a\\u0629\\u0650 \\u0628\\u0652\\u0639\\u0646\\u0648\\u0627\\u064d\\u0646\\u064c \\u062c\\u064b\\u0648\\u064d\\u0631\\u062c\\u064f \\u0651\\u062c\\u0650\\u0631\\u0651\\u064a\\u064b\\u062c\\u0648\\u0631\\u064a\\u0652 \\u0641\\u064d\\u0631\\u0627\\u0647\\u064c\\u064a\\u062f\\u064a \\u0627\\u0652\\u0644\\u0651\\u0639\\u0651\\u0635\\u0631\\u064b\\u060c\\u0650 \\u064c\\u0627\\u064d\\u0644\\u0639\\u0627\\u0652\\u0634\\u0642 \\u064f\\u0644\\u0645\\u0646\\u0627\\u0650\\u062c\\u0632\\u064f\\u0629 \\u0627\\u0644\\u0635\\u0639\\u0627\\u0628\\u064e\\u060c\\u0650 \\u064b\\u0648\\u0645\\u064f\\u0646\\u064b \\u0627\\u0644\\u064c\\u0645\\u0648\\u064e\\u0636\\u0652\\u0648\\u0639\\u064e\\u0627\\u062a\\u064c \\u0651\\u0627\\u0644\\u062b\\u0642\\u0627\\u0651\\u0641\\u0651\\u064a\\u0629\\u064e \\u0627\\u0644\\u064c\\u0623\\u062e\\u0631\\u0649 \\u064b\\u0645\\u0627\\u062f\\u0629\\u064b \\u0651\\u062d\\u0651\\u0648\\u064c\\u0644\\u0652 \\u0645\\u064b\\u062c\\u0644\\u0629\\u064e \\u0627\\u064e\\u0644\\u0651\\u0643\\u0644\\u064e\\u0628 \\u064d\\u0623\\u0637\\u0650\\u0631\\u0641 \\u0648\\u0623\\u064d\\u0646\\u064b\\u062f\\u0652\\u0631\\u0652 \\u0652\\u0645\\u064b\\u062c\\u0644\\u064e\\u0629 \\u064b\\u0641\\u0643\\u064c\\u0627\\u0647\\u064d\\u064a\\u064b\\u0629\\u064f \\u0652\\u0639\\u0631\\u064b\\u0628\\u064a\\u064d\\u0629\\u064d\\u060c\\u064f \\u064d\\u062a\\u0651\\u062a\\u0650\\u062d\\u064d\\u062f\\u062b\\u0650 \\u0652\\u0647\\u0630\\u064b\\u0647\\u064f \\u0627\\u064e\\u0644\\u0651\\u0645\\u064d\\u0627\\u064b\\u062f\\u0629\\u064f \\u0639\\u0646 \\u064c\\u0627\\u0644\\u0625\\u0635\\u062f\\u0627\\u0631\\u0627\\u062a\\u0652 \\u064d\\u0627\\u0650\\u0644\\u0641\\u0652\\u0643\\u0627\\u0647\\u0651\\u064a\\u0629\\u064f \\u0627\\u064c\\u0644\\u0650\\u062a\\u064a\\u0651 \\u0646\\u0641\\u0652\\u062a\\u0642\\u064e\\u062f\\u0647\\u0651\\u0627 \\u0641\\u0651\\u064a \\u0648\\u0642\\u062a\\u064c\\u0646\\u0627 \\u0627\\u0644\\u062d\\u0627\\u0644\\u064f\\u064a\\u060c\\u0652 \\u064c\\u0625\\u064c\\u0636\\u0627\\u0651\\u0641\\u0629 \\u0651\\u0625\\u064b\\u0644\\u0649\\u064d \\u064d\\u0645\\u0652\\u0648\\u064b\\u0627\\u0650\\u062f \\u0641\\u064a\\u064b \\u0627\\u0644\\u064c\\u0646\\u0642\\u0650\\u062f \\u0627\\u0644\\u0623\\u062f\\u0628\\u064d\\u064a\\u064f \\u0652\\u0645\\u0646\\u064e \\u064f\\u0636\\u0645\\u064b\\u0646\\u0647\\u064f\\u0627\\u0651 \\u0645\\u0627\\u062f\\u0651\\u0629 \\u0646\\u0642\\u064d\\u062f\\u0652\\u064a\\u0629 \\u0628\\u0639\\u0650\\u0646\\u064e\\u0648\\u0627\\u064e\\u0646 \\u0650\\u062d\\u064a\\u064c\\u0646 \\u064a\\u0651\\u0635\\u0628\\u064e\\u062d\\u0651 \\u064e\\u0627\\u0644\\u064f\\u0644\\u0627\\u064b\\u0634\\u064c\\u064a\\u0621\\u064c \\u0652\\u0634\\u064c\\u064a\\u0651\\u0626\\u0627\\u064b\\u064e\\u060c \\u0642\\u0631\\u0651\\u0627\\u0621\\u064e\\u0629\\u064b \\u064e\\u0644 \\u064c\\u0644\\u064a\\u0644\\u0629\\u064d \\u0627\\u0652\\u0644\\u0651\\u0642\\u0650\\u0647\\u064b\\u0631 \\u064f\\u0644\\u0650 \\u064c\\u0644\\u064a\\u0644\\u064e\\u0649\\u064d \\u0651\\u0627\\u064b\\u0644\\u0639\\u0652\\u062b\\u064d\\u0645\\u064c\\u0627\\u0650\\u0646\\u0651\\u060c \\u064d\\u0625\\u064c\\u0636\\u0627\\u0641\\u064f\\u0629\\u064f \\u064f\\u0625\\u0650\\u0644\\u0649\\u0650 \\u064f\\u0645\\u0651\\u0648\\u0636\\u0650\\u0648\\u0639\\u0627\\u062a\\u064b \\u0645\\u0652\\u062a\\u064c\\u0646\\u064f\\u0648\\u0639\\u0629 \\u064d\\u0639\\u062f\\u0629 \\u0652.\\u0650\"\n        ],\n        \"semantic_type\": \"\",\n        \"description\": \"\"\n      }\n    },\n    {\n      \"column\": \"label\",\n      \"properties\": {\n        \"dtype\": \"string\",\n        \"num_unique_values\": 6,\n        \"samples\": [\n          \"Medical\",\n          \"Finance\",\n          \"Sports\"\n        ],\n        \"semantic_type\": \"\",\n        \"description\": \"\"\n      }\n    }\n  ]\n}"
            }
          },
          "metadata": {},
          "execution_count": 12
        }
      ]
    },
    {
      "cell_type": "code",
      "source": [
        "df.isna().sum()"
      ],
      "metadata": {
        "colab": {
          "base_uri": "https://localhost:8080/",
          "height": 147
        },
        "id": "0_kfBFCyEwBu",
        "outputId": "041ccde4-61f1-4282-f86f-84496f0b73bb"
      },
      "execution_count": 13,
      "outputs": [
        {
          "output_type": "execute_result",
          "data": {
            "text/plain": [
              "text     0\n",
              "label    0\n",
              "dtype: int64"
            ],
            "text/html": [
              "<div>\n",
              "<style scoped>\n",
              "    .dataframe tbody tr th:only-of-type {\n",
              "        vertical-align: middle;\n",
              "    }\n",
              "\n",
              "    .dataframe tbody tr th {\n",
              "        vertical-align: top;\n",
              "    }\n",
              "\n",
              "    .dataframe thead th {\n",
              "        text-align: right;\n",
              "    }\n",
              "</style>\n",
              "<table border=\"1\" class=\"dataframe\">\n",
              "  <thead>\n",
              "    <tr style=\"text-align: right;\">\n",
              "      <th></th>\n",
              "      <th>0</th>\n",
              "    </tr>\n",
              "  </thead>\n",
              "  <tbody>\n",
              "    <tr>\n",
              "      <th>text</th>\n",
              "      <td>0</td>\n",
              "    </tr>\n",
              "    <tr>\n",
              "      <th>label</th>\n",
              "      <td>0</td>\n",
              "    </tr>\n",
              "  </tbody>\n",
              "</table>\n",
              "</div><br><label><b>dtype:</b> int64</label>"
            ]
          },
          "metadata": {},
          "execution_count": 13
        }
      ]
    },
    {
      "cell_type": "code",
      "source": [
        "df.duplicated().sum()"
      ],
      "metadata": {
        "colab": {
          "base_uri": "https://localhost:8080/"
        },
        "id": "y2I0ajrUEyM0",
        "outputId": "11fd1b37-fcc9-417a-aa81-feb00b4a1637"
      },
      "execution_count": 14,
      "outputs": [
        {
          "output_type": "execute_result",
          "data": {
            "text/plain": [
              "0"
            ]
          },
          "metadata": {},
          "execution_count": 14
        }
      ]
    },
    {
      "cell_type": "code",
      "source": [
        "df.label.value_counts().plot(kind='bar')"
      ],
      "metadata": {
        "colab": {
          "base_uri": "https://localhost:8080/",
          "height": 508
        },
        "id": "uc0xSjV7E5aB",
        "outputId": "654c9c12-5747-4aad-e53f-3f075cbccdb3"
      },
      "execution_count": 15,
      "outputs": [
        {
          "output_type": "execute_result",
          "data": {
            "text/plain": [
              "<Axes: xlabel='label'>"
            ]
          },
          "metadata": {},
          "execution_count": 15
        },
        {
          "output_type": "display_data",
          "data": {
            "text/plain": [
              "<Figure size 640x480 with 1 Axes>"
            ],
            "image/png": "[encoded data removed]"
          },
          "metadata": {}
        }
      ]
    },
    {
      "cell_type": "code",
      "source": [
        "df['length'] = df['text'].str.len()\n",
        "df['length'].plot(kind='hist')\n",
        "\n",
        "MAX_LENGTH = df['length'].max()"
      ],
      "metadata": {
        "colab": {
          "base_uri": "https://localhost:8080/",
          "height": 430
        },
        "id": "zKHtWGq9FLox",
        "outputId": "5cc4c20f-56ff-41a5-b60c-379a9268a205"
      },
      "execution_count": 30,
      "outputs": [
        {
          "output_type": "display_data",
          "data": {
            "text/plain": [
              "<Figure size 640x480 with 1 Axes>"
            ],
            "image/png": "[encoded data removed]"
          },
          "metadata": {}
        }
      ]
    },
    {
      "cell_type": "markdown",
      "metadata": {
        "id": "X_oEu0TkSMEB"
      },
      "source": [
        "# Data Cleaning and Preprocessing"
      ]
    },
    {
      "cell_type": "markdown",
      "metadata": {
        "id": "wSAFiozlRQHt"
      },
      "source": [
        "In this section, we will focus on cleaning and filtering the dataset, preparing it for the text classification task. We will implement the following steps:\n",
        "\n",
        "1. **Remove missing values**:\n",
        "   First, we eliminate any rows with missing values to ensure the dataset is complete and consistent.\n",
        "\n",
        "2. **Filter by text length (Bonus)**:\n",
        "   To maintain a uniform dataset, we will filter the text samples by a specified word count range. This ensures that the texts are neither too short to lack context nor too long to introduce unnecessary complexity.\n",
        "\n",
        "3. **Arabic stopwords loading**:\n",
        "   We load a list of Arabic stopwords to filter out commonly used but contextually insignificant words. This is an important step for improving the performance of the model, as stopwords do not contribute valuable information.\n",
        "\n",
        "4. **Text cleaning**:\n",
        "   We apply a series of text cleaning steps to standardize and simplify the text data. This involves:\n",
        "   - **Removing links (URLs)**: Any URLs present in the text are removed as they are not meaningful for classification purposes.\n",
        "   - **Removing special characters and punctuation**: This step removes any non-alphabetical characters, ensuring the text only contains meaningful words.\n",
        "   - **Removing Arabic diacritics (Tashkeel) and elongated letters (Tatweel)**: Diacritical marks and elongated letters are stripped out to standardize the text.\n",
        "   - **Removing Arabic stopwords**: Words that are part of the stopwords list are removed, as they do not add value to the classification task.\n",
        "   - **Stemming or Lemmmatization**: Either stemming or lemmatization is applied to reduce words to their root or base form.\n",
        "   - **Normalizing Hamza**: Any variation of the Hamza character is normalized for consistency.\n",
        "\n",
        "   **Note:** Most of these you can do using the library [PyArabic](https://pyarabic.readthedocs.io/ar/latest/README.html#features)\n",
        "\n",
        "5. **Final cleanup**:\n",
        "   Apply the cleanup function to the feature column.\n",
        "\n",
        "By following these steps, the text will be cleaned, filtered, and ready for tokenization!"
      ]
    },
    {
      "cell_type": "code",
      "execution_count": 1,
      "metadata": {
        "id": "mHEObOY_fHhq"
      },
      "outputs": [],
      "source": [
        "import re\n",
        "\n",
        "def pipline(text):\n",
        "\n",
        "  text_splitted = text.split()\n",
        "\n",
        "  # remove links\n",
        "  link_pattren = 'https\\S+'\n",
        "  new_text = re.sub(link_pattren, string=text_splitted)\n",
        "\n",
        "  # remove special characters\n",
        "\n",
        "\n",
        "  # remove arabic diacritics\n",
        "    new_text = araby.strip_diacritics(new_text)\n",
        "\n",
        "  # remove arabic stopwords\n",
        "\n",
        "\n",
        "  # stemming\n",
        "\n",
        "\n",
        "  # normalizing hamza"
      ]
    },
    {
      "cell_type": "markdown",
      "metadata": {
        "id": "VF45GS_ZSEix"
      },
      "source": [
        "# Tokenization, Padding, and Data Splitting"
      ]
    },
    {
      "cell_type": "markdown",
      "metadata": {
        "id": "YmsL3S-5SIbl"
      },
      "source": [
        "In this step, we will prepare the text data for input into a model by converting the text into numerical sequences, padding them to a uniform length, and splitting the dataset into training and testing sets. Here's an overview of the steps involved:\n",
        "\n",
        "1. **Tokenization**:\n",
        "   We use a tokenizer to convert the cleaned text into numerical sequences. You can use `Tokenizer` tokenizer from `tensorflow.keras.preprocessing.text` package or any other tokenizer you like.\n",
        "\n",
        "2. **Text to sequences**:\n",
        "   After fitting the tokenizer on the cleaned text, we transform each text into a sequence of numbers, where each number corresponds to a token (word) in the text.\n",
        "\n",
        "3. **Padding the sequences**:\n",
        "   Since different texts may vary in length, we pad the sequences to ensure they all have the same length.\n",
        "\n",
        "4. **Label encoding**:\n",
        "   The labels (target values) also need to be converted into numerical form if they are not encoded.\n",
        "\n",
        "5. **Train-test split**:\n",
        "   The dataset is divided into training and testing sets. We allocate 80% of the data for training the model and reserve 20% for testing its performance.\n",
        "   \n",
        "   - The **training data** consists of the padded sequences used to train the model.\n",
        "   - The **training labels** are the encoded labels corresponding to the training data.\n",
        "   - The **testing data** is used to assess the model’s performance after training.\n",
        "   - The **testing labels** are the encoded labels corresponding to the testing data.\n",
        "\n",
        "6. **Data shape confirmation**:\n",
        "   After splitting the data, we print the shape (dimensions) of both the training and testing sets to confirm that the data is properly divided and formatted.\n",
        "\n",
        "By the end of this step, the text data will be transformed into padded numerical sequences, the labels will be encoded, and the data will be split into training and testing sets for model development and evaluation."
      ]
    },
    {
      "cell_type": "code",
      "execution_count": null,
      "metadata": {
        "id": "z401Re0VfI1f"
      },
      "outputs": [],
      "source": []
    },
    {
      "cell_type": "markdown",
      "metadata": {
        "id": "qd5Ek4NLTgVN"
      },
      "source": [
        "# Building the Classifier"
      ]
    },
    {
      "cell_type": "markdown",
      "metadata": {
        "id": "HpLEoTaITEGx"
      },
      "source": [
        "In this step, you will design and build a NLP Classifier model to classify text data. Below is a breakdown of the key components you'll implement, but it's up to you to decide how to configure them based on your understanding and experimentation:\n",
        "\n",
        "1. **Model Type**:\n",
        "   You will use a Sequential model, which allows you to stack layers in a linear sequence.\n",
        "\n",
        "2. **Input Layer**:\n",
        "   Define the shape of the input data. Consider the dimensions of your padded sequences and set the input shape accordingly.\n",
        "\n",
        "3. **Embedding Layer**:\n",
        "   The embedding layer will convert input tokens (integers) into dense vector representations. You will need to determine the size of the input dimension (based on your vocabulary) and the output dimension (embedding size).\n",
        "\n",
        "4. **Bidirectional Simple RNN/LSTM Layers**:\n",
        "   You can add one or more recurrent layers. Consider using Bidirectional layers to capture contextual information from both directions (forward and backward). You can chose SimpleRNN/GRU/LSTM to perform this step.\n",
        "\n",
        "5. **Dense Layers**:\n",
        "   Add one or more fully connected (Dense) layers to process the output from the RNN/GRU/LSTM layers.\n",
        "\n",
        "6. **Output Layer**:\n",
        "   The output layer should match the type of classification task you're working on. Consider using appropriate activation function with appropriate number of units.\n",
        "\n",
        "7. **Model Summary**:\n",
        "   After defining your model architecture, print a summary to review the number of layers, types of layers, and total parameters.\n",
        "\n",
        "8. **Model Compilation**:\n",
        "   Finally, compile the model by selecting an optimizer, a loss function, and metrics."
      ]
    },
    {
      "cell_type": "code",
      "execution_count": null,
      "metadata": {
        "id": "D-EYYIUpfK_F"
      },
      "outputs": [],
      "source": []
    },
    {
      "cell_type": "markdown",
      "metadata": {
        "id": "57DXwqqQTloy"
      },
      "source": [
        "# Defining Batch Size, Creating Datasets, and Training the Model"
      ]
    },
    {
      "cell_type": "markdown",
      "metadata": {
        "id": "LEOvs_dETmQp"
      },
      "source": [
        "In this step, you will define the batch size, create TensorFlow Datasets for both training and testing, and train the model. The key elements to consider are outlined below, and it is up to you to choose the specific configurations based on your preferences and experimentation:\n",
        "\n",
        "1. **Batch Size**:\n",
        "   Select a batch size for training and testing. The batch size determines how many samples will be processed together in one forward and backward pass during training.\n",
        "\n",
        "2. **Creating Datasets**:\n",
        "   Use TensorFlow’s `Dataset.from_tensor_slices()` to create datasets from the training and testing data.\n",
        "\n",
        "3. **Batching the Datasets**:\n",
        "   Batch the datasets by grouping the data into batches of the specified size.\n",
        "\n",
        "4. **Training the Model**:\n",
        "   Train the model by fitting it on the training dataset for a specified number of epochs. You will also need to provide the validation data to monitor the model’s performance on unseen data during training.\n",
        "\n",
        "5. **Tracking Training History**:\n",
        "   During training, the model’s performance metrics (such as loss and accuracy) will be tracked over the epochs, and the results will be stored in the `history` object."
      ]
    },
    {
      "cell_type": "code",
      "execution_count": null,
      "metadata": {
        "id": "o6unhJgFfQbM"
      },
      "outputs": [],
      "source": []
    },
    {
      "cell_type": "markdown",
      "metadata": {
        "id": "XmoJfr3nfP-n"
      },
      "source": [
        "# Model Evaluation"
      ]
    },
    {
      "cell_type": "markdown",
      "metadata": {
        "id": "2Gb8G9XiT-ec"
      },
      "source": [
        "Once the model is trained, the next step is to evaluate its performance on the testing dataset.\n",
        "\n",
        "1. **Evaluate the Model**:\n",
        "   You will use the `evaluate()` method to assess the model’s performance on the test dataset.\n",
        "\n",
        "2. **Testing Dataset**:\n",
        "   Ensure that the testing dataset is properly prepared and batched, just like the training dataset.\n",
        "\n",
        "4. **Loss Curve**:\n",
        "   A loss curve plots the loss values for both the training and validation datasets over the epochs."
      ]
    },
    {
      "cell_type": "code",
      "execution_count": null,
      "metadata": {
        "id": "SdECXvQGUQae"
      },
      "outputs": [],
      "source": []
    },
    {
      "cell_type": "markdown",
      "metadata": {
        "id": "ifx5RFxnUQqc"
      },
      "source": [
        "# Model Inference"
      ]
    },
    {
      "cell_type": "markdown",
      "metadata": {
        "id": "sVh0WCBoUSlP"
      },
      "source": [
        "In this step, you will use the trained model to make predictions on new, unseen data (inference). Here’s an outline of the key points:\n",
        "\n",
        "1. **Create Test Sample**:\n",
        "   Create a string to test your modelm the goal here is to give the model Before making predictions, ensure that the new data is preprocessed in the same way as the training data. This includes tokenization, padding, and any other transformations you applied during the data preprocessing step. The data can be single text to see the result of the prediction.\n",
        "\n",
        "2. **Model Prediction**:\n",
        "   Use the `predict()` method to feed new samples into the trained model and obtain predictions. The model will output probabilities or predicted class labels based on the type of classification task (binary or multi-class).\n",
        "\n",
        "3. **Interpreting Predictions**:\n",
        "   The model will return probabilities for each class."
      ]
    },
    {
      "cell_type": "code",
      "execution_count": null,
      "metadata": {
        "id": "2XiahrhffR0J"
      },
      "outputs": [],
      "source": []
    },
    {
      "cell_type": "markdown",
      "metadata": {
        "id": "fHbgQVrt43DQ"
      },
      "source": [
        "# Notebook Question:\n",
        "- How did you handle text preprocessing? Why did you choose this approach?\n",
        "\n",
        "- Why did you choose this model design?\n",
        "\n",
        "- Why did you pick this number of layers or units for the model?\n",
        "\n",
        "- Why did you select these evaluation methods?\n",
        "\n",
        "- Does your model show signs of overfitting or underfitting? How do you know?\n",
        "\n",
        "- What changes could you make to improve the model and fix overfitting or underfitting?"
      ]
    },
    {
      "cell_type": "markdown",
      "metadata": {
        "id": "x7vOe0JZ43DQ"
      },
      "source": [
        "Answer Here:"
      ]
    }
  ],
  "metadata": {
    "colab": {
      "gpuType": "T4",
      "provenance": [],
      "include_colab_link": true
    },
    "kernelspec": {
      "display_name": "Python 3",
      "name": "python3"
    },
    "language_info": {
      "name": "python"
    }
  },
  "nbformat": 4,
  "nbformat_minor": 0
}